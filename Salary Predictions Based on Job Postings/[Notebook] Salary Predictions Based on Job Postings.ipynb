{
  "nbformat": 4,
  "nbformat_minor": 0,
  "metadata": {
    "colab": {
      "provenance": []
    },
    "kernelspec": {
      "name": "python3",
      "display_name": "Python 3"
    },
    "language_info": {
      "name": "python"
    },
    "accelerator": "GPU"
  },
  "cells": [
    {
      "cell_type": "markdown",
      "source": [
        "# **Install and Import Necessary Libraries**"
      ],
      "metadata": {
        "id": "1hTUO_Hqs4wc"
      }
    },
    {
      "cell_type": "markdown",
      "source": [
        "installing `translate` for translating the text data to English"
      ],
      "metadata": {
        "id": "JPXtfl6bspV-"
      }
    },
    {
      "cell_type": "code",
      "source": [
        "!pip install translate"
      ],
      "metadata": {
        "colab": {
          "base_uri": "https://localhost:8080/"
        },
        "id": "dbd7idHMsLNp",
        "outputId": "0e8e1623-9304-4492-a53d-8b2a234503b4"
      },
      "execution_count": null,
      "outputs": [
        {
          "output_type": "stream",
          "name": "stdout",
          "text": [
            "Collecting translate\n",
            "  Downloading translate-3.6.1-py2.py3-none-any.whl (12 kB)\n",
            "Requirement already satisfied: lxml in /usr/local/lib/python3.7/dist-packages (from translate) (4.2.6)\n",
            "Collecting libretranslatepy==2.1.1\n",
            "  Downloading libretranslatepy-2.1.1-py3-none-any.whl (3.2 kB)\n",
            "Requirement already satisfied: click in /usr/local/lib/python3.7/dist-packages (from translate) (7.1.2)\n",
            "Requirement already satisfied: requests in /usr/local/lib/python3.7/dist-packages (from translate) (2.23.0)\n",
            "Requirement already satisfied: chardet<4,>=3.0.2 in /usr/local/lib/python3.7/dist-packages (from requests->translate) (3.0.4)\n",
            "Requirement already satisfied: idna<3,>=2.5 in /usr/local/lib/python3.7/dist-packages (from requests->translate) (2.10)\n",
            "Requirement already satisfied: certifi>=2017.4.17 in /usr/local/lib/python3.7/dist-packages (from requests->translate) (2021.10.8)\n",
            "Requirement already satisfied: urllib3!=1.25.0,!=1.25.1,<1.26,>=1.21.1 in /usr/local/lib/python3.7/dist-packages (from requests->translate) (1.24.3)\n",
            "Installing collected packages: libretranslatepy, translate\n",
            "Successfully installed libretranslatepy-2.1.1 translate-3.6.1\n"
          ]
        }
      ]
    },
    {
      "cell_type": "code",
      "source": [
        "# basic libraries\n",
        "import pandas as pd\n",
        "import numpy as np\n",
        "import matplotlib.pyplot as plt\n",
        "import string\n",
        "from time import time\n",
        "\n",
        "# for encoding categorical data\n",
        "from sklearn.preprocessing import LabelEncoder\n",
        "\n",
        "# for spliting the dataset and determining the best params\n",
        "from sklearn.model_selection import train_test_split, KFold, cross_validate, cross_val_predict, GridSearchCV\n",
        "\n",
        "# text processing libraries\n",
        "from translate import Translator\n",
        "from string import punctuation\n",
        "import nltk\n",
        "nltk.download('stopwords')\n",
        "nltk.download('wordnet')\n",
        "from nltk.corpus import stopwords\n",
        "from nltk.stem import WordNetLemmatizer\n",
        "from sklearn.feature_extraction.text import CountVectorizer, TfidfVectorizer\n",
        "\n",
        "# sparse matrix\n",
        "from scipy.sparse import vstack , hstack, csr_matrix\n",
        "\n",
        "# machine learning algorithm\n",
        "from xgboost import XGBRegressor\n",
        "from xgboost import XGBRFRegressor\n",
        "from sklearn.svm import SVR\n",
        "\n",
        "# for seeing model performance\n",
        "from sklearn.metrics import mean_squared_error\n",
        "from sklearn.metrics import mean_absolute_error\n",
        "from sklearn.metrics import r2_score\n",
        "from sklearn.metrics import make_scorer, accuracy_score, precision_score, recall_score, f1_score\n",
        "\n",
        "# ignore warning\n",
        "import warnings\n",
        "warnings.filterwarnings(\"ignore\")"
      ],
      "metadata": {
        "id": "j1I-bXQGr81u",
        "colab": {
          "base_uri": "https://localhost:8080/"
        },
        "outputId": "2790f301-1361-4120-de88-96f02c5a7845"
      },
      "execution_count": null,
      "outputs": [
        {
          "output_type": "stream",
          "name": "stdout",
          "text": [
            "[nltk_data] Downloading package stopwords to /root/nltk_data...\n",
            "[nltk_data]   Unzipping corpora/stopwords.zip.\n",
            "[nltk_data] Downloading package wordnet to /root/nltk_data...\n",
            "[nltk_data]   Unzipping corpora/wordnet.zip.\n"
          ]
        }
      ]
    },
    {
      "cell_type": "markdown",
      "source": [
        "# **Load & Overview The Dataset**"
      ],
      "metadata": {
        "id": "kGmVIGD0s4AZ"
      }
    },
    {
      "cell_type": "code",
      "source": [
        "# loading the dataset\n",
        "df_train = pd.read_csv(\"https://drive.google.com/uc?id=18jWP3_hB7OkTCOZDPEFt8A3EUCNgJmns\", sep=\"|\")\n",
        "df_predict = pd.read_csv(\"https://drive.google.com/uc?id=1kc2-a6QwcKf2Cte9ISrQ7MojxBN-N7ER\", sep=\"|\")"
      ],
      "metadata": {
        "id": "Ia73ajrisO4Z"
      },
      "execution_count": null,
      "outputs": []
    },
    {
      "cell_type": "code",
      "source": [
        "# overview the top two rows of the dataset\n",
        "df_train.head(2)"
      ],
      "metadata": {
        "colab": {
          "base_uri": "https://localhost:8080/",
          "height": 297
        },
        "id": "1AbgkbbQtsRD",
        "outputId": "4fa624aa-d64e-4662-c8b1-edf1b9e604a7"
      },
      "execution_count": null,
      "outputs": [
        {
          "output_type": "execute_result",
          "data": {
            "text/plain": [
              "   id                                       job_title      location  \\\n",
              "0   1  Facility Maintenance & Smart Warehouse Manager       Bandung   \n",
              "1   2                     Procurement Department Head  Jakarta Raya   \n",
              "\n",
              "  salary_currency             career_level experience_level  \\\n",
              "0             IDR  Manajer/Asisten Manajer          5 tahun   \n",
              "1             IDR  Manajer/Asisten Manajer          5 tahun   \n",
              "\n",
              "                                     education_level employment_type  \\\n",
              "0  Sertifikat Professional, D3 (Diploma), D4 (Dip...     Penuh Waktu   \n",
              "1  Sarjana (S1), Diploma Pascasarjana, Gelar Prof...     Penuh Waktu   \n",
              "\n",
              "                              job_function job_benefits company_process_time  \\\n",
              "0                  Manufaktur,Pemeliharaan          NaN                  NaN   \n",
              "1  Manufaktur,Pembelian/Manajemen Material          NaN              25 days   \n",
              "\n",
              "       company_size         company_industry  \\\n",
              "0               NaN                      NaN   \n",
              "1  51 - 200 pekerja  Manajemen/Konsulting HR   \n",
              "\n",
              "                                     job_description  salary  \n",
              "0  Deskripsi PekerjaanRequirements :D3/SI from re...     NaN  \n",
              "1  Job Role: 1. Responsible for material availabi...     NaN  "
            ],
            "text/html": [
              "\n",
              "  <div id=\"df-a32b5f45-978a-4c25-8638-4fce26c613d2\">\n",
              "    <div class=\"colab-df-container\">\n",
              "      <div>\n",
              "<style scoped>\n",
              "    .dataframe tbody tr th:only-of-type {\n",
              "        vertical-align: middle;\n",
              "    }\n",
              "\n",
              "    .dataframe tbody tr th {\n",
              "        vertical-align: top;\n",
              "    }\n",
              "\n",
              "    .dataframe thead th {\n",
              "        text-align: right;\n",
              "    }\n",
              "</style>\n",
              "<table border=\"1\" class=\"dataframe\">\n",
              "  <thead>\n",
              "    <tr style=\"text-align: right;\">\n",
              "      <th></th>\n",
              "      <th>id</th>\n",
              "      <th>job_title</th>\n",
              "      <th>location</th>\n",
              "      <th>salary_currency</th>\n",
              "      <th>career_level</th>\n",
              "      <th>experience_level</th>\n",
              "      <th>education_level</th>\n",
              "      <th>employment_type</th>\n",
              "      <th>job_function</th>\n",
              "      <th>job_benefits</th>\n",
              "      <th>company_process_time</th>\n",
              "      <th>company_size</th>\n",
              "      <th>company_industry</th>\n",
              "      <th>job_description</th>\n",
              "      <th>salary</th>\n",
              "    </tr>\n",
              "  </thead>\n",
              "  <tbody>\n",
              "    <tr>\n",
              "      <th>0</th>\n",
              "      <td>1</td>\n",
              "      <td>Facility Maintenance &amp; Smart Warehouse Manager</td>\n",
              "      <td>Bandung</td>\n",
              "      <td>IDR</td>\n",
              "      <td>Manajer/Asisten Manajer</td>\n",
              "      <td>5 tahun</td>\n",
              "      <td>Sertifikat Professional, D3 (Diploma), D4 (Dip...</td>\n",
              "      <td>Penuh Waktu</td>\n",
              "      <td>Manufaktur,Pemeliharaan</td>\n",
              "      <td>NaN</td>\n",
              "      <td>NaN</td>\n",
              "      <td>NaN</td>\n",
              "      <td>NaN</td>\n",
              "      <td>Deskripsi PekerjaanRequirements :D3/SI from re...</td>\n",
              "      <td>NaN</td>\n",
              "    </tr>\n",
              "    <tr>\n",
              "      <th>1</th>\n",
              "      <td>2</td>\n",
              "      <td>Procurement Department Head</td>\n",
              "      <td>Jakarta Raya</td>\n",
              "      <td>IDR</td>\n",
              "      <td>Manajer/Asisten Manajer</td>\n",
              "      <td>5 tahun</td>\n",
              "      <td>Sarjana (S1), Diploma Pascasarjana, Gelar Prof...</td>\n",
              "      <td>Penuh Waktu</td>\n",
              "      <td>Manufaktur,Pembelian/Manajemen Material</td>\n",
              "      <td>NaN</td>\n",
              "      <td>25 days</td>\n",
              "      <td>51 - 200 pekerja</td>\n",
              "      <td>Manajemen/Konsulting HR</td>\n",
              "      <td>Job Role: 1. Responsible for material availabi...</td>\n",
              "      <td>NaN</td>\n",
              "    </tr>\n",
              "  </tbody>\n",
              "</table>\n",
              "</div>\n",
              "      <button class=\"colab-df-convert\" onclick=\"convertToInteractive('df-a32b5f45-978a-4c25-8638-4fce26c613d2')\"\n",
              "              title=\"Convert this dataframe to an interactive table.\"\n",
              "              style=\"display:none;\">\n",
              "        \n",
              "  <svg xmlns=\"http://www.w3.org/2000/svg\" height=\"24px\"viewBox=\"0 0 24 24\"\n",
              "       width=\"24px\">\n",
              "    <path d=\"M0 0h24v24H0V0z\" fill=\"none\"/>\n",
              "    <path d=\"M18.56 5.44l.94 2.06.94-2.06 2.06-.94-2.06-.94-.94-2.06-.94 2.06-2.06.94zm-11 1L8.5 8.5l.94-2.06 2.06-.94-2.06-.94L8.5 2.5l-.94 2.06-2.06.94zm10 10l.94 2.06.94-2.06 2.06-.94-2.06-.94-.94-2.06-.94 2.06-2.06.94z\"/><path d=\"M17.41 7.96l-1.37-1.37c-.4-.4-.92-.59-1.43-.59-.52 0-1.04.2-1.43.59L10.3 9.45l-7.72 7.72c-.78.78-.78 2.05 0 2.83L4 21.41c.39.39.9.59 1.41.59.51 0 1.02-.2 1.41-.59l7.78-7.78 2.81-2.81c.8-.78.8-2.07 0-2.86zM5.41 20L4 18.59l7.72-7.72 1.47 1.35L5.41 20z\"/>\n",
              "  </svg>\n",
              "      </button>\n",
              "      \n",
              "  <style>\n",
              "    .colab-df-container {\n",
              "      display:flex;\n",
              "      flex-wrap:wrap;\n",
              "      gap: 12px;\n",
              "    }\n",
              "\n",
              "    .colab-df-convert {\n",
              "      background-color: #E8F0FE;\n",
              "      border: none;\n",
              "      border-radius: 50%;\n",
              "      cursor: pointer;\n",
              "      display: none;\n",
              "      fill: #1967D2;\n",
              "      height: 32px;\n",
              "      padding: 0 0 0 0;\n",
              "      width: 32px;\n",
              "    }\n",
              "\n",
              "    .colab-df-convert:hover {\n",
              "      background-color: #E2EBFA;\n",
              "      box-shadow: 0px 1px 2px rgba(60, 64, 67, 0.3), 0px 1px 3px 1px rgba(60, 64, 67, 0.15);\n",
              "      fill: #174EA6;\n",
              "    }\n",
              "\n",
              "    [theme=dark] .colab-df-convert {\n",
              "      background-color: #3B4455;\n",
              "      fill: #D2E3FC;\n",
              "    }\n",
              "\n",
              "    [theme=dark] .colab-df-convert:hover {\n",
              "      background-color: #434B5C;\n",
              "      box-shadow: 0px 1px 3px 1px rgba(0, 0, 0, 0.15);\n",
              "      filter: drop-shadow(0px 1px 2px rgba(0, 0, 0, 0.3));\n",
              "      fill: #FFFFFF;\n",
              "    }\n",
              "  </style>\n",
              "\n",
              "      <script>\n",
              "        const buttonEl =\n",
              "          document.querySelector('#df-a32b5f45-978a-4c25-8638-4fce26c613d2 button.colab-df-convert');\n",
              "        buttonEl.style.display =\n",
              "          google.colab.kernel.accessAllowed ? 'block' : 'none';\n",
              "\n",
              "        async function convertToInteractive(key) {\n",
              "          const element = document.querySelector('#df-a32b5f45-978a-4c25-8638-4fce26c613d2');\n",
              "          const dataTable =\n",
              "            await google.colab.kernel.invokeFunction('convertToInteractive',\n",
              "                                                     [key], {});\n",
              "          if (!dataTable) return;\n",
              "\n",
              "          const docLinkHtml = 'Like what you see? Visit the ' +\n",
              "            '<a target=\"_blank\" href=https://colab.research.google.com/notebooks/data_table.ipynb>data table notebook</a>'\n",
              "            + ' to learn more about interactive tables.';\n",
              "          element.innerHTML = '';\n",
              "          dataTable['output_type'] = 'display_data';\n",
              "          await google.colab.output.renderOutput(dataTable, element);\n",
              "          const docLink = document.createElement('div');\n",
              "          docLink.innerHTML = docLinkHtml;\n",
              "          element.appendChild(docLink);\n",
              "        }\n",
              "      </script>\n",
              "    </div>\n",
              "  </div>\n",
              "  "
            ]
          },
          "metadata": {},
          "execution_count": 4
        }
      ]
    },
    {
      "cell_type": "code",
      "source": [
        "df_predict.head(2)"
      ],
      "metadata": {
        "colab": {
          "base_uri": "https://localhost:8080/",
          "height": 280
        },
        "id": "jIe5pDdftuyN",
        "outputId": "1d97ff23-775a-4c9e-9c15-ec0cd5b7e117"
      },
      "execution_count": null,
      "outputs": [
        {
          "output_type": "execute_result",
          "data": {
            "text/plain": [
              "      id                                          job_title location  \\\n",
              "0  31747                                          Sous Chef   Lombok   \n",
              "1  31748  Bancassurance Officer (Area: Bali, Sulawesi Ut...     Palu   \n",
              "\n",
              "  salary_currency                              career_level experience_level  \\\n",
              "0             IDR  Pegawai (non-manajemen & non-supervisor)          8 tahun   \n",
              "1             IDR  Pegawai (non-manajemen & non-supervisor)          1 tahun   \n",
              "\n",
              "                                     education_level employment_type  \\\n",
              "0  Sertifikat Professional, D3 (Diploma), D4 (Dip...     Penuh Waktu   \n",
              "1  Sertifikat Professional, D3 (Diploma), D4 (Dip...     Penuh Waktu   \n",
              "\n",
              "                                        job_function  \\\n",
              "0  Hotel/Restoran,Makanan/Minuman/Pelayanan Restoran   \n",
              "1    Penjualan / Pemasaran,Penjualan - Jasa Keuangan   \n",
              "\n",
              "                                        job_benefits company_process_time  \\\n",
              "0                                                NaN                  NaN   \n",
              "1  Asuransi kesehatan;Waktu regular, Senin - Juma...              14 days   \n",
              "\n",
              "        company_size                     company_industry  \\\n",
              "0                NaN  Makanan & Minuman/Katering/Restoran   \n",
              "1  201 - 500 pekerja                             Asuransi   \n",
              "\n",
              "                                     job_description  \n",
              "0  Candidate must posses at least bachelor degree...  \n",
              "1  Bancassurance Officer adalah Representative da...  "
            ],
            "text/html": [
              "\n",
              "  <div id=\"df-60dc7d7c-d0ea-4250-8dc5-0f4d221a1c92\">\n",
              "    <div class=\"colab-df-container\">\n",
              "      <div>\n",
              "<style scoped>\n",
              "    .dataframe tbody tr th:only-of-type {\n",
              "        vertical-align: middle;\n",
              "    }\n",
              "\n",
              "    .dataframe tbody tr th {\n",
              "        vertical-align: top;\n",
              "    }\n",
              "\n",
              "    .dataframe thead th {\n",
              "        text-align: right;\n",
              "    }\n",
              "</style>\n",
              "<table border=\"1\" class=\"dataframe\">\n",
              "  <thead>\n",
              "    <tr style=\"text-align: right;\">\n",
              "      <th></th>\n",
              "      <th>id</th>\n",
              "      <th>job_title</th>\n",
              "      <th>location</th>\n",
              "      <th>salary_currency</th>\n",
              "      <th>career_level</th>\n",
              "      <th>experience_level</th>\n",
              "      <th>education_level</th>\n",
              "      <th>employment_type</th>\n",
              "      <th>job_function</th>\n",
              "      <th>job_benefits</th>\n",
              "      <th>company_process_time</th>\n",
              "      <th>company_size</th>\n",
              "      <th>company_industry</th>\n",
              "      <th>job_description</th>\n",
              "    </tr>\n",
              "  </thead>\n",
              "  <tbody>\n",
              "    <tr>\n",
              "      <th>0</th>\n",
              "      <td>31747</td>\n",
              "      <td>Sous Chef</td>\n",
              "      <td>Lombok</td>\n",
              "      <td>IDR</td>\n",
              "      <td>Pegawai (non-manajemen &amp; non-supervisor)</td>\n",
              "      <td>8 tahun</td>\n",
              "      <td>Sertifikat Professional, D3 (Diploma), D4 (Dip...</td>\n",
              "      <td>Penuh Waktu</td>\n",
              "      <td>Hotel/Restoran,Makanan/Minuman/Pelayanan Restoran</td>\n",
              "      <td>NaN</td>\n",
              "      <td>NaN</td>\n",
              "      <td>NaN</td>\n",
              "      <td>Makanan &amp; Minuman/Katering/Restoran</td>\n",
              "      <td>Candidate must posses at least bachelor degree...</td>\n",
              "    </tr>\n",
              "    <tr>\n",
              "      <th>1</th>\n",
              "      <td>31748</td>\n",
              "      <td>Bancassurance Officer (Area: Bali, Sulawesi Ut...</td>\n",
              "      <td>Palu</td>\n",
              "      <td>IDR</td>\n",
              "      <td>Pegawai (non-manajemen &amp; non-supervisor)</td>\n",
              "      <td>1 tahun</td>\n",
              "      <td>Sertifikat Professional, D3 (Diploma), D4 (Dip...</td>\n",
              "      <td>Penuh Waktu</td>\n",
              "      <td>Penjualan / Pemasaran,Penjualan - Jasa Keuangan</td>\n",
              "      <td>Asuransi kesehatan;Waktu regular, Senin - Juma...</td>\n",
              "      <td>14 days</td>\n",
              "      <td>201 - 500 pekerja</td>\n",
              "      <td>Asuransi</td>\n",
              "      <td>Bancassurance Officer adalah Representative da...</td>\n",
              "    </tr>\n",
              "  </tbody>\n",
              "</table>\n",
              "</div>\n",
              "      <button class=\"colab-df-convert\" onclick=\"convertToInteractive('df-60dc7d7c-d0ea-4250-8dc5-0f4d221a1c92')\"\n",
              "              title=\"Convert this dataframe to an interactive table.\"\n",
              "              style=\"display:none;\">\n",
              "        \n",
              "  <svg xmlns=\"http://www.w3.org/2000/svg\" height=\"24px\"viewBox=\"0 0 24 24\"\n",
              "       width=\"24px\">\n",
              "    <path d=\"M0 0h24v24H0V0z\" fill=\"none\"/>\n",
              "    <path d=\"M18.56 5.44l.94 2.06.94-2.06 2.06-.94-2.06-.94-.94-2.06-.94 2.06-2.06.94zm-11 1L8.5 8.5l.94-2.06 2.06-.94-2.06-.94L8.5 2.5l-.94 2.06-2.06.94zm10 10l.94 2.06.94-2.06 2.06-.94-2.06-.94-.94-2.06-.94 2.06-2.06.94z\"/><path d=\"M17.41 7.96l-1.37-1.37c-.4-.4-.92-.59-1.43-.59-.52 0-1.04.2-1.43.59L10.3 9.45l-7.72 7.72c-.78.78-.78 2.05 0 2.83L4 21.41c.39.39.9.59 1.41.59.51 0 1.02-.2 1.41-.59l7.78-7.78 2.81-2.81c.8-.78.8-2.07 0-2.86zM5.41 20L4 18.59l7.72-7.72 1.47 1.35L5.41 20z\"/>\n",
              "  </svg>\n",
              "      </button>\n",
              "      \n",
              "  <style>\n",
              "    .colab-df-container {\n",
              "      display:flex;\n",
              "      flex-wrap:wrap;\n",
              "      gap: 12px;\n",
              "    }\n",
              "\n",
              "    .colab-df-convert {\n",
              "      background-color: #E8F0FE;\n",
              "      border: none;\n",
              "      border-radius: 50%;\n",
              "      cursor: pointer;\n",
              "      display: none;\n",
              "      fill: #1967D2;\n",
              "      height: 32px;\n",
              "      padding: 0 0 0 0;\n",
              "      width: 32px;\n",
              "    }\n",
              "\n",
              "    .colab-df-convert:hover {\n",
              "      background-color: #E2EBFA;\n",
              "      box-shadow: 0px 1px 2px rgba(60, 64, 67, 0.3), 0px 1px 3px 1px rgba(60, 64, 67, 0.15);\n",
              "      fill: #174EA6;\n",
              "    }\n",
              "\n",
              "    [theme=dark] .colab-df-convert {\n",
              "      background-color: #3B4455;\n",
              "      fill: #D2E3FC;\n",
              "    }\n",
              "\n",
              "    [theme=dark] .colab-df-convert:hover {\n",
              "      background-color: #434B5C;\n",
              "      box-shadow: 0px 1px 3px 1px rgba(0, 0, 0, 0.15);\n",
              "      filter: drop-shadow(0px 1px 2px rgba(0, 0, 0, 0.3));\n",
              "      fill: #FFFFFF;\n",
              "    }\n",
              "  </style>\n",
              "\n",
              "      <script>\n",
              "        const buttonEl =\n",
              "          document.querySelector('#df-60dc7d7c-d0ea-4250-8dc5-0f4d221a1c92 button.colab-df-convert');\n",
              "        buttonEl.style.display =\n",
              "          google.colab.kernel.accessAllowed ? 'block' : 'none';\n",
              "\n",
              "        async function convertToInteractive(key) {\n",
              "          const element = document.querySelector('#df-60dc7d7c-d0ea-4250-8dc5-0f4d221a1c92');\n",
              "          const dataTable =\n",
              "            await google.colab.kernel.invokeFunction('convertToInteractive',\n",
              "                                                     [key], {});\n",
              "          if (!dataTable) return;\n",
              "\n",
              "          const docLinkHtml = 'Like what you see? Visit the ' +\n",
              "            '<a target=\"_blank\" href=https://colab.research.google.com/notebooks/data_table.ipynb>data table notebook</a>'\n",
              "            + ' to learn more about interactive tables.';\n",
              "          element.innerHTML = '';\n",
              "          dataTable['output_type'] = 'display_data';\n",
              "          await google.colab.output.renderOutput(dataTable, element);\n",
              "          const docLink = document.createElement('div');\n",
              "          docLink.innerHTML = docLinkHtml;\n",
              "          element.appendChild(docLink);\n",
              "        }\n",
              "      </script>\n",
              "    </div>\n",
              "  </div>\n",
              "  "
            ]
          },
          "metadata": {},
          "execution_count": 5
        }
      ]
    },
    {
      "cell_type": "code",
      "source": [
        "# see the unique currencies on the dataset\n",
        "print(df_train[\"salary_currency\"].unique())\n",
        "print(df_predict[\"salary_currency\"].unique())"
      ],
      "metadata": {
        "colab": {
          "base_uri": "https://localhost:8080/"
        },
        "id": "E8n4SRD9vCt4",
        "outputId": "f38abbb6-076b-4929-e50e-e6e39da20086"
      },
      "execution_count": null,
      "outputs": [
        {
          "output_type": "stream",
          "name": "stdout",
          "text": [
            "['IDR' 'USD' nan]\n",
            "['IDR']\n"
          ]
        }
      ]
    },
    {
      "cell_type": "code",
      "source": [
        "# drop unnecessary rows on `df_train`\n",
        "df_train = df_train[df_train['salary'].notna()]\n",
        "df_train = df_train[df_train['salary_currency'] == 'IDR']"
      ],
      "metadata": {
        "id": "HgqxqSfqz2fc"
      },
      "execution_count": null,
      "outputs": []
    },
    {
      "cell_type": "code",
      "source": [
        "# pre-filling the `salary` column of `df_predict`\n",
        "df_predict['salary'] = 0"
      ],
      "metadata": {
        "id": "caUsOO0EZBEO"
      },
      "execution_count": null,
      "outputs": []
    },
    {
      "cell_type": "code",
      "source": [
        "# creating combined dataset just in case if it's needed\n",
        "df_combined = pd.concat([df_train, df_predict]).reset_index()"
      ],
      "metadata": {
        "id": "0qPp3HJEYadk"
      },
      "execution_count": null,
      "outputs": []
    },
    {
      "cell_type": "code",
      "source": [
        "# see the shape of the dataset\n",
        "print(df_train.shape)\n",
        "print(df_predict.shape)\n",
        "print(df_combined.shape)"
      ],
      "metadata": {
        "colab": {
          "base_uri": "https://localhost:8080/"
        },
        "id": "L7RzZRaKQN6V",
        "outputId": "b40b8be8-a531-473f-8125-66de21cf4179"
      },
      "execution_count": null,
      "outputs": [
        {
          "output_type": "stream",
          "name": "stdout",
          "text": [
            "(6350, 15)\n",
            "(3000, 15)\n",
            "(9350, 16)\n"
          ]
        }
      ]
    },
    {
      "cell_type": "markdown",
      "source": [
        "from above result, we need to keep in mind that **index 0 until 6349 are the train set**, whereas **index 6350 until 9349 are the predict set**. This is because we'll be using the `df_combined` for the processing step"
      ],
      "metadata": {
        "id": "uQ2a_miOYeT3"
      }
    },
    {
      "cell_type": "code",
      "source": [
        "# see the percentage of missing data of each column on the df_combined\n",
        "percent_miss = pd.DataFrame(\n",
        "                            {'total_miss': df_combined.isnull().sum(), \n",
        "                            'perc_miss': (df_combined.isnull().sum() / len(df_combined.index)) * 100}\n",
        "                            ) \n",
        "percent_miss"
      ],
      "metadata": {
        "colab": {
          "base_uri": "https://localhost:8080/",
          "height": 551
        },
        "id": "Kc7ZsjWFuLJY",
        "outputId": "7f0e3404-380d-4919-9d6f-57f5fc33b0ab"
      },
      "execution_count": null,
      "outputs": [
        {
          "output_type": "execute_result",
          "data": {
            "text/plain": [
              "                      total_miss  perc_miss\n",
              "index                          0   0.000000\n",
              "id                             0   0.000000\n",
              "job_title                      0   0.000000\n",
              "location                       0   0.000000\n",
              "salary_currency                0   0.000000\n",
              "career_level                   0   0.000000\n",
              "experience_level             782   8.363636\n",
              "education_level                0   0.000000\n",
              "employment_type                0   0.000000\n",
              "job_function                   0   0.000000\n",
              "job_benefits                2282  24.406417\n",
              "company_process_time        3194  34.160428\n",
              "company_size                1424  15.229947\n",
              "company_industry             292   3.122995\n",
              "job_description                0   0.000000\n",
              "salary                         0   0.000000"
            ],
            "text/html": [
              "\n",
              "  <div id=\"df-820dd091-98f6-441d-b225-5fa8818e1093\">\n",
              "    <div class=\"colab-df-container\">\n",
              "      <div>\n",
              "<style scoped>\n",
              "    .dataframe tbody tr th:only-of-type {\n",
              "        vertical-align: middle;\n",
              "    }\n",
              "\n",
              "    .dataframe tbody tr th {\n",
              "        vertical-align: top;\n",
              "    }\n",
              "\n",
              "    .dataframe thead th {\n",
              "        text-align: right;\n",
              "    }\n",
              "</style>\n",
              "<table border=\"1\" class=\"dataframe\">\n",
              "  <thead>\n",
              "    <tr style=\"text-align: right;\">\n",
              "      <th></th>\n",
              "      <th>total_miss</th>\n",
              "      <th>perc_miss</th>\n",
              "    </tr>\n",
              "  </thead>\n",
              "  <tbody>\n",
              "    <tr>\n",
              "      <th>index</th>\n",
              "      <td>0</td>\n",
              "      <td>0.000000</td>\n",
              "    </tr>\n",
              "    <tr>\n",
              "      <th>id</th>\n",
              "      <td>0</td>\n",
              "      <td>0.000000</td>\n",
              "    </tr>\n",
              "    <tr>\n",
              "      <th>job_title</th>\n",
              "      <td>0</td>\n",
              "      <td>0.000000</td>\n",
              "    </tr>\n",
              "    <tr>\n",
              "      <th>location</th>\n",
              "      <td>0</td>\n",
              "      <td>0.000000</td>\n",
              "    </tr>\n",
              "    <tr>\n",
              "      <th>salary_currency</th>\n",
              "      <td>0</td>\n",
              "      <td>0.000000</td>\n",
              "    </tr>\n",
              "    <tr>\n",
              "      <th>career_level</th>\n",
              "      <td>0</td>\n",
              "      <td>0.000000</td>\n",
              "    </tr>\n",
              "    <tr>\n",
              "      <th>experience_level</th>\n",
              "      <td>782</td>\n",
              "      <td>8.363636</td>\n",
              "    </tr>\n",
              "    <tr>\n",
              "      <th>education_level</th>\n",
              "      <td>0</td>\n",
              "      <td>0.000000</td>\n",
              "    </tr>\n",
              "    <tr>\n",
              "      <th>employment_type</th>\n",
              "      <td>0</td>\n",
              "      <td>0.000000</td>\n",
              "    </tr>\n",
              "    <tr>\n",
              "      <th>job_function</th>\n",
              "      <td>0</td>\n",
              "      <td>0.000000</td>\n",
              "    </tr>\n",
              "    <tr>\n",
              "      <th>job_benefits</th>\n",
              "      <td>2282</td>\n",
              "      <td>24.406417</td>\n",
              "    </tr>\n",
              "    <tr>\n",
              "      <th>company_process_time</th>\n",
              "      <td>3194</td>\n",
              "      <td>34.160428</td>\n",
              "    </tr>\n",
              "    <tr>\n",
              "      <th>company_size</th>\n",
              "      <td>1424</td>\n",
              "      <td>15.229947</td>\n",
              "    </tr>\n",
              "    <tr>\n",
              "      <th>company_industry</th>\n",
              "      <td>292</td>\n",
              "      <td>3.122995</td>\n",
              "    </tr>\n",
              "    <tr>\n",
              "      <th>job_description</th>\n",
              "      <td>0</td>\n",
              "      <td>0.000000</td>\n",
              "    </tr>\n",
              "    <tr>\n",
              "      <th>salary</th>\n",
              "      <td>0</td>\n",
              "      <td>0.000000</td>\n",
              "    </tr>\n",
              "  </tbody>\n",
              "</table>\n",
              "</div>\n",
              "      <button class=\"colab-df-convert\" onclick=\"convertToInteractive('df-820dd091-98f6-441d-b225-5fa8818e1093')\"\n",
              "              title=\"Convert this dataframe to an interactive table.\"\n",
              "              style=\"display:none;\">\n",
              "        \n",
              "  <svg xmlns=\"http://www.w3.org/2000/svg\" height=\"24px\"viewBox=\"0 0 24 24\"\n",
              "       width=\"24px\">\n",
              "    <path d=\"M0 0h24v24H0V0z\" fill=\"none\"/>\n",
              "    <path d=\"M18.56 5.44l.94 2.06.94-2.06 2.06-.94-2.06-.94-.94-2.06-.94 2.06-2.06.94zm-11 1L8.5 8.5l.94-2.06 2.06-.94-2.06-.94L8.5 2.5l-.94 2.06-2.06.94zm10 10l.94 2.06.94-2.06 2.06-.94-2.06-.94-.94-2.06-.94 2.06-2.06.94z\"/><path d=\"M17.41 7.96l-1.37-1.37c-.4-.4-.92-.59-1.43-.59-.52 0-1.04.2-1.43.59L10.3 9.45l-7.72 7.72c-.78.78-.78 2.05 0 2.83L4 21.41c.39.39.9.59 1.41.59.51 0 1.02-.2 1.41-.59l7.78-7.78 2.81-2.81c.8-.78.8-2.07 0-2.86zM5.41 20L4 18.59l7.72-7.72 1.47 1.35L5.41 20z\"/>\n",
              "  </svg>\n",
              "      </button>\n",
              "      \n",
              "  <style>\n",
              "    .colab-df-container {\n",
              "      display:flex;\n",
              "      flex-wrap:wrap;\n",
              "      gap: 12px;\n",
              "    }\n",
              "\n",
              "    .colab-df-convert {\n",
              "      background-color: #E8F0FE;\n",
              "      border: none;\n",
              "      border-radius: 50%;\n",
              "      cursor: pointer;\n",
              "      display: none;\n",
              "      fill: #1967D2;\n",
              "      height: 32px;\n",
              "      padding: 0 0 0 0;\n",
              "      width: 32px;\n",
              "    }\n",
              "\n",
              "    .colab-df-convert:hover {\n",
              "      background-color: #E2EBFA;\n",
              "      box-shadow: 0px 1px 2px rgba(60, 64, 67, 0.3), 0px 1px 3px 1px rgba(60, 64, 67, 0.15);\n",
              "      fill: #174EA6;\n",
              "    }\n",
              "\n",
              "    [theme=dark] .colab-df-convert {\n",
              "      background-color: #3B4455;\n",
              "      fill: #D2E3FC;\n",
              "    }\n",
              "\n",
              "    [theme=dark] .colab-df-convert:hover {\n",
              "      background-color: #434B5C;\n",
              "      box-shadow: 0px 1px 3px 1px rgba(0, 0, 0, 0.15);\n",
              "      filter: drop-shadow(0px 1px 2px rgba(0, 0, 0, 0.3));\n",
              "      fill: #FFFFFF;\n",
              "    }\n",
              "  </style>\n",
              "\n",
              "      <script>\n",
              "        const buttonEl =\n",
              "          document.querySelector('#df-820dd091-98f6-441d-b225-5fa8818e1093 button.colab-df-convert');\n",
              "        buttonEl.style.display =\n",
              "          google.colab.kernel.accessAllowed ? 'block' : 'none';\n",
              "\n",
              "        async function convertToInteractive(key) {\n",
              "          const element = document.querySelector('#df-820dd091-98f6-441d-b225-5fa8818e1093');\n",
              "          const dataTable =\n",
              "            await google.colab.kernel.invokeFunction('convertToInteractive',\n",
              "                                                     [key], {});\n",
              "          if (!dataTable) return;\n",
              "\n",
              "          const docLinkHtml = 'Like what you see? Visit the ' +\n",
              "            '<a target=\"_blank\" href=https://colab.research.google.com/notebooks/data_table.ipynb>data table notebook</a>'\n",
              "            + ' to learn more about interactive tables.';\n",
              "          element.innerHTML = '';\n",
              "          dataTable['output_type'] = 'display_data';\n",
              "          await google.colab.output.renderOutput(dataTable, element);\n",
              "          const docLink = document.createElement('div');\n",
              "          docLink.innerHTML = docLinkHtml;\n",
              "          element.appendChild(docLink);\n",
              "        }\n",
              "      </script>\n",
              "    </div>\n",
              "  </div>\n",
              "  "
            ]
          },
          "metadata": {},
          "execution_count": 11
        }
      ]
    },
    {
      "cell_type": "markdown",
      "source": [
        "# **Processing The Dataset**"
      ],
      "metadata": {
        "id": "YB6usV6Lu5AX"
      }
    },
    {
      "cell_type": "markdown",
      "source": [
        "cleaning the `experience_level` column values and filling the null values with mean value grouped by `career_level`"
      ],
      "metadata": {
        "id": "qVjo1-Ucwqos"
      }
    },
    {
      "cell_type": "code",
      "source": [
        "# get the first index of splitted `experience_level` values\n",
        "df_combined['experience_level'] = df_combined['experience_level'].str.split(\" \").str[0]"
      ],
      "metadata": {
        "id": "PLBNtn4c-LPj"
      },
      "execution_count": null,
      "outputs": []
    },
    {
      "cell_type": "code",
      "source": [
        "df_combined['experience_level'].unique()"
      ],
      "metadata": {
        "colab": {
          "base_uri": "https://localhost:8080/"
        },
        "id": "NFn2TCAdw08I",
        "outputId": "e3b5275f-dc22-4d22-c5a3-1f545fa106ca"
      },
      "execution_count": null,
      "outputs": [
        {
          "output_type": "execute_result",
          "data": {
            "text/plain": [
              "array([nan, '3', '1', '2', '5', '4', '10', '6', '8', '7', '15', '12',\n",
              "       '11', '17', '20', 'Lebih'], dtype=object)"
            ]
          },
          "metadata": {},
          "execution_count": 13
        }
      ]
    },
    {
      "cell_type": "code",
      "source": [
        "# excluding 'Lebih' values\n",
        "df_combined['experience_level'] = df_combined['experience_level'][df_combined['experience_level'] != 'Lebih']"
      ],
      "metadata": {
        "id": "gopyQn_DAV89"
      },
      "execution_count": null,
      "outputs": []
    },
    {
      "cell_type": "code",
      "source": [
        "# changing the data type of `experience_level` to float\n",
        "df_combined['experience_level'] = df_combined['experience_level'].astype(float)"
      ],
      "metadata": {
        "id": "aLBzmbuhwqHL"
      },
      "execution_count": null,
      "outputs": []
    },
    {
      "cell_type": "code",
      "source": [
        "# filling the `experience_level` null values by its mean value grouped by `career_level`\n",
        "df_combined['experience_level'] = df_combined.groupby('career_level')['experience_level'].transform(lambda x: x.fillna(x.mean()))"
      ],
      "metadata": {
        "id": "15HYTk2KAi9f"
      },
      "execution_count": null,
      "outputs": []
    },
    {
      "cell_type": "markdown",
      "source": [
        "filling nan values of `job_benefits` column with \"None\""
      ],
      "metadata": {
        "id": "7ih6MURSCGZM"
      }
    },
    {
      "cell_type": "code",
      "source": [
        "df_combined['job_benefits'] = df_combined['job_benefits'].fillna('None')"
      ],
      "metadata": {
        "id": "2_PNvov2Sdmi"
      },
      "execution_count": null,
      "outputs": []
    },
    {
      "cell_type": "markdown",
      "source": [
        "one-hot encoding for `job_benefits` column"
      ],
      "metadata": {
        "id": "sXMoQjLMUDI5"
      }
    },
    {
      "cell_type": "code",
      "source": [
        "# storing all possible categories for `job_benefits`\n",
        "job_benefit_cols = list(df_combined['job_benefits'].str.get_dummies(sep=';'))"
      ],
      "metadata": {
        "id": "sVg2FPeIPy-u"
      },
      "execution_count": null,
      "outputs": []
    },
    {
      "cell_type": "code",
      "source": [
        "# applying one-hot encoding for `job_benefits` column\n",
        "df_ohe_job_benefits = df_combined['job_benefits'].str.get_dummies(';').reindex(job_benefit_cols, fill_value=0, axis=1)\n",
        "df_combined = df_combined.join(df_ohe_job_benefits)\n",
        "df_combined.drop('job_benefits', axis=1, inplace=True)"
      ],
      "metadata": {
        "id": "aZj5mwlJUrCc"
      },
      "execution_count": null,
      "outputs": []
    },
    {
      "cell_type": "code",
      "source": [
        "df_combined.shape"
      ],
      "metadata": {
        "colab": {
          "base_uri": "https://localhost:8080/"
        },
        "id": "5fT2YauccIGB",
        "outputId": "b7adc40d-07c5-4616-caa1-82ef050669ba"
      },
      "execution_count": null,
      "outputs": [
        {
          "output_type": "execute_result",
          "data": {
            "text/plain": [
              "(9350, 1219)"
            ]
          },
          "metadata": {},
          "execution_count": 20
        }
      ]
    },
    {
      "cell_type": "markdown",
      "source": [
        "cleaning on `company_process_time`, `company_size`, and `company_industry` columns"
      ],
      "metadata": {
        "id": "A3RehH8Zcpnk"
      }
    },
    {
      "cell_type": "code",
      "source": [
        "# deleting ' days' string values on `company_process_time` column by splitting the string and taking the first index, \n",
        "# which is the number that we're looking for\n",
        "\n",
        "df_combined['company_process_time'] = df_combined['company_process_time'].str.split(' ').str[0]\n",
        "\n",
        "# changing its column data type to float\n",
        "df_combined['company_process_time'] = df_combined['company_process_time'].astype(float)\n",
        "\n",
        "# filling its column null values by its column mean\n",
        "df_combined['company_process_time'] = df_combined['company_process_time'].fillna(df_combined['company_process_time'].mean())"
      ],
      "metadata": {
        "id": "si0JQ24ESmwL"
      },
      "execution_count": null,
      "outputs": []
    },
    {
      "cell_type": "code",
      "source": [
        "# filling `company_size` null values with 'None'\n",
        "df_combined['company_size'] = df_combined['company_size'].fillna('None')"
      ],
      "metadata": {
        "id": "fDM6dgkwS6ZC"
      },
      "execution_count": null,
      "outputs": []
    },
    {
      "cell_type": "code",
      "source": [
        "# filling `company_industry` null values with 'None'\n",
        "df_combined['company_industry'] = df_combined['company_industry'].fillna('None')"
      ],
      "metadata": {
        "id": "VOSPqgv-TGDD"
      },
      "execution_count": null,
      "outputs": []
    },
    {
      "cell_type": "code",
      "source": [
        "# seeing again the percentage of missing data of each column on the df_combined to make sure that no more null values here\n",
        "percent_miss = pd.DataFrame(\n",
        "                            {'total_miss': df_combined.isnull().sum(), \n",
        "                            'perc_miss': (df_combined.isnull().sum() / len(df_combined.index)) * 100}\n",
        "                            ) \n",
        "percent_miss"
      ],
      "metadata": {
        "colab": {
          "base_uri": "https://localhost:8080/",
          "height": 423
        },
        "id": "6R4Ozi9iTX_n",
        "outputId": "f6388e6b-7ef2-4956-9d33-15e4aaac8af6"
      },
      "execution_count": null,
      "outputs": [
        {
          "output_type": "execute_result",
          "data": {
            "text/plain": [
              "                                                   total_miss  perc_miss\n",
              "index                                                       0        0.0\n",
              "id                                                          0        0.0\n",
              "job_title                                                   0        0.0\n",
              "location                                                    0        0.0\n",
              "salary_currency                                             0        0.0\n",
              "...                                                       ...        ...\n",
              "tunjangan kerajinan, tunjangan makan, upah lembur           0        0.0\n",
              "uang makan dan transport                                    0        0.0\n",
              "uniform                                                     0        0.0\n",
              "•\\tDaily Allowance                                          0        0.0\n",
              "社保，医保，话费补助，包吃住                                              0        0.0\n",
              "\n",
              "[1219 rows x 2 columns]"
            ],
            "text/html": [
              "\n",
              "  <div id=\"df-f647247d-8dee-453d-b131-afd7e23b7617\">\n",
              "    <div class=\"colab-df-container\">\n",
              "      <div>\n",
              "<style scoped>\n",
              "    .dataframe tbody tr th:only-of-type {\n",
              "        vertical-align: middle;\n",
              "    }\n",
              "\n",
              "    .dataframe tbody tr th {\n",
              "        vertical-align: top;\n",
              "    }\n",
              "\n",
              "    .dataframe thead th {\n",
              "        text-align: right;\n",
              "    }\n",
              "</style>\n",
              "<table border=\"1\" class=\"dataframe\">\n",
              "  <thead>\n",
              "    <tr style=\"text-align: right;\">\n",
              "      <th></th>\n",
              "      <th>total_miss</th>\n",
              "      <th>perc_miss</th>\n",
              "    </tr>\n",
              "  </thead>\n",
              "  <tbody>\n",
              "    <tr>\n",
              "      <th>index</th>\n",
              "      <td>0</td>\n",
              "      <td>0.0</td>\n",
              "    </tr>\n",
              "    <tr>\n",
              "      <th>id</th>\n",
              "      <td>0</td>\n",
              "      <td>0.0</td>\n",
              "    </tr>\n",
              "    <tr>\n",
              "      <th>job_title</th>\n",
              "      <td>0</td>\n",
              "      <td>0.0</td>\n",
              "    </tr>\n",
              "    <tr>\n",
              "      <th>location</th>\n",
              "      <td>0</td>\n",
              "      <td>0.0</td>\n",
              "    </tr>\n",
              "    <tr>\n",
              "      <th>salary_currency</th>\n",
              "      <td>0</td>\n",
              "      <td>0.0</td>\n",
              "    </tr>\n",
              "    <tr>\n",
              "      <th>...</th>\n",
              "      <td>...</td>\n",
              "      <td>...</td>\n",
              "    </tr>\n",
              "    <tr>\n",
              "      <th>tunjangan kerajinan, tunjangan makan, upah lembur</th>\n",
              "      <td>0</td>\n",
              "      <td>0.0</td>\n",
              "    </tr>\n",
              "    <tr>\n",
              "      <th>uang makan dan transport</th>\n",
              "      <td>0</td>\n",
              "      <td>0.0</td>\n",
              "    </tr>\n",
              "    <tr>\n",
              "      <th>uniform</th>\n",
              "      <td>0</td>\n",
              "      <td>0.0</td>\n",
              "    </tr>\n",
              "    <tr>\n",
              "      <th>•\\tDaily Allowance</th>\n",
              "      <td>0</td>\n",
              "      <td>0.0</td>\n",
              "    </tr>\n",
              "    <tr>\n",
              "      <th>社保，医保，话费补助，包吃住</th>\n",
              "      <td>0</td>\n",
              "      <td>0.0</td>\n",
              "    </tr>\n",
              "  </tbody>\n",
              "</table>\n",
              "<p>1219 rows × 2 columns</p>\n",
              "</div>\n",
              "      <button class=\"colab-df-convert\" onclick=\"convertToInteractive('df-f647247d-8dee-453d-b131-afd7e23b7617')\"\n",
              "              title=\"Convert this dataframe to an interactive table.\"\n",
              "              style=\"display:none;\">\n",
              "        \n",
              "  <svg xmlns=\"http://www.w3.org/2000/svg\" height=\"24px\"viewBox=\"0 0 24 24\"\n",
              "       width=\"24px\">\n",
              "    <path d=\"M0 0h24v24H0V0z\" fill=\"none\"/>\n",
              "    <path d=\"M18.56 5.44l.94 2.06.94-2.06 2.06-.94-2.06-.94-.94-2.06-.94 2.06-2.06.94zm-11 1L8.5 8.5l.94-2.06 2.06-.94-2.06-.94L8.5 2.5l-.94 2.06-2.06.94zm10 10l.94 2.06.94-2.06 2.06-.94-2.06-.94-.94-2.06-.94 2.06-2.06.94z\"/><path d=\"M17.41 7.96l-1.37-1.37c-.4-.4-.92-.59-1.43-.59-.52 0-1.04.2-1.43.59L10.3 9.45l-7.72 7.72c-.78.78-.78 2.05 0 2.83L4 21.41c.39.39.9.59 1.41.59.51 0 1.02-.2 1.41-.59l7.78-7.78 2.81-2.81c.8-.78.8-2.07 0-2.86zM5.41 20L4 18.59l7.72-7.72 1.47 1.35L5.41 20z\"/>\n",
              "  </svg>\n",
              "      </button>\n",
              "      \n",
              "  <style>\n",
              "    .colab-df-container {\n",
              "      display:flex;\n",
              "      flex-wrap:wrap;\n",
              "      gap: 12px;\n",
              "    }\n",
              "\n",
              "    .colab-df-convert {\n",
              "      background-color: #E8F0FE;\n",
              "      border: none;\n",
              "      border-radius: 50%;\n",
              "      cursor: pointer;\n",
              "      display: none;\n",
              "      fill: #1967D2;\n",
              "      height: 32px;\n",
              "      padding: 0 0 0 0;\n",
              "      width: 32px;\n",
              "    }\n",
              "\n",
              "    .colab-df-convert:hover {\n",
              "      background-color: #E2EBFA;\n",
              "      box-shadow: 0px 1px 2px rgba(60, 64, 67, 0.3), 0px 1px 3px 1px rgba(60, 64, 67, 0.15);\n",
              "      fill: #174EA6;\n",
              "    }\n",
              "\n",
              "    [theme=dark] .colab-df-convert {\n",
              "      background-color: #3B4455;\n",
              "      fill: #D2E3FC;\n",
              "    }\n",
              "\n",
              "    [theme=dark] .colab-df-convert:hover {\n",
              "      background-color: #434B5C;\n",
              "      box-shadow: 0px 1px 3px 1px rgba(0, 0, 0, 0.15);\n",
              "      filter: drop-shadow(0px 1px 2px rgba(0, 0, 0, 0.3));\n",
              "      fill: #FFFFFF;\n",
              "    }\n",
              "  </style>\n",
              "\n",
              "      <script>\n",
              "        const buttonEl =\n",
              "          document.querySelector('#df-f647247d-8dee-453d-b131-afd7e23b7617 button.colab-df-convert');\n",
              "        buttonEl.style.display =\n",
              "          google.colab.kernel.accessAllowed ? 'block' : 'none';\n",
              "\n",
              "        async function convertToInteractive(key) {\n",
              "          const element = document.querySelector('#df-f647247d-8dee-453d-b131-afd7e23b7617');\n",
              "          const dataTable =\n",
              "            await google.colab.kernel.invokeFunction('convertToInteractive',\n",
              "                                                     [key], {});\n",
              "          if (!dataTable) return;\n",
              "\n",
              "          const docLinkHtml = 'Like what you see? Visit the ' +\n",
              "            '<a target=\"_blank\" href=https://colab.research.google.com/notebooks/data_table.ipynb>data table notebook</a>'\n",
              "            + ' to learn more about interactive tables.';\n",
              "          element.innerHTML = '';\n",
              "          dataTable['output_type'] = 'display_data';\n",
              "          await google.colab.output.renderOutput(dataTable, element);\n",
              "          const docLink = document.createElement('div');\n",
              "          docLink.innerHTML = docLinkHtml;\n",
              "          element.appendChild(docLink);\n",
              "        }\n",
              "      </script>\n",
              "    </div>\n",
              "  </div>\n",
              "  "
            ]
          },
          "metadata": {},
          "execution_count": 24
        }
      ]
    },
    {
      "cell_type": "markdown",
      "source": [
        "label encoding on `location` column"
      ],
      "metadata": {
        "id": "LD9MvypRefd7"
      }
    },
    {
      "cell_type": "code",
      "source": [
        "# creating LabelEncoder instance\n",
        "label_encoder = LabelEncoder()\n",
        "\n",
        "# applying `label_encoder` to the desired column\n",
        "df_combined['location'] = label_encoder.fit_transform(df_combined['location'])"
      ],
      "metadata": {
        "id": "LxFvtciBYfcx"
      },
      "execution_count": null,
      "outputs": []
    },
    {
      "cell_type": "markdown",
      "source": [
        "ordinal label encoding on `career_level` column"
      ],
      "metadata": {
        "id": "cYoLcyWWe5IB"
      }
    },
    {
      "cell_type": "code",
      "source": [
        "# creating empty list to store ordinal label values\n",
        "ordinal = []\n",
        "\n",
        "# iterating each record on `career_level` column to determine which label to be assigned to each level\n",
        "for x in df_combined['career_level'] :\n",
        "  if x == \"Lulusan baru/Pengalaman kerja kurang dari 1 tahun\" :\n",
        "    ordinal.append(1)\n",
        "  elif x == \"Pegawai (non-manajemen & non-supervisor)\" :\n",
        "    ordinal.append(2)\n",
        "  elif x == \"Supervisor/Koordinator\" :\n",
        "    ordinal.append(3)\n",
        "  elif x == \"Manajer/Asisten Manajer\" :\n",
        "    ordinal.append(4)\n",
        "  elif x == \"CEO/GM/Direktur/Manajer Senior\" :\n",
        "    ordinal.append(5)\n",
        "\n",
        "# replacing the original values to new value that has been stored on the created list\n",
        "df_combined['career_level'] = np.array(ordinal)"
      ],
      "metadata": {
        "id": "vUKn9MRtZPDm"
      },
      "execution_count": null,
      "outputs": []
    },
    {
      "cell_type": "markdown",
      "source": [
        "one-hot encoding on `education_level`, `job_function`, `employment_type`, and `company_industry` columns"
      ],
      "metadata": {
        "id": "Jo55ymhWfu1X"
      }
    },
    {
      "cell_type": "code",
      "source": [
        "# splitting string value that separated by specific characters\n",
        "df_combined.education_level = df_combined.education_level.str.split(', ')\n",
        "df_combined.job_function = df_combined.job_function.str.split(',')"
      ],
      "metadata": {
        "id": "aRKnTdQthQci"
      },
      "execution_count": null,
      "outputs": []
    },
    {
      "cell_type": "code",
      "source": [
        "# one-hot encoding on `education_level` column\n",
        "df_edu_lv = pd.concat(\n",
        "                        [\n",
        "                          df_combined.explode('education_level')\n",
        "                          .pivot_table(index='id', columns='education_level', aggfunc='size', fill_value=0)\n",
        "                          .add_prefix('edu_lv_'),\n",
        "                          df_combined.set_index('id').salary\n",
        "                        ], axis=1\n",
        "                    )\n",
        "df_edu_lv = df_edu_lv.drop(['salary'], axis=1)\n",
        "df_edu_lv['id_edu_lv'] = df_edu_lv.index\n",
        "df_combined = df_combined.drop(['education_level'], axis=1)"
      ],
      "metadata": {
        "id": "iZHvyKTsGl-m"
      },
      "execution_count": null,
      "outputs": []
    },
    {
      "cell_type": "code",
      "source": [
        "# one-hot encoding on `education_level` column\n",
        "df_job_function = pd.concat(\n",
        "                              [\n",
        "                                df_combined.explode('job_function')\n",
        "                                .pivot_table(index='id', columns='job_function', aggfunc='size', fill_value=0)\n",
        "                                .add_prefix('job_function_'),\n",
        "                                df_combined.set_index('id').salary\n",
        "                              ], axis=1\n",
        "                          )\n",
        "df_job_function = df_job_function.drop(['salary'],axis=1)\n",
        "df_job_function['id_job_function'] = df_job_function.index\n",
        "df_combined = df_combined.drop(['job_function'], axis=1)"
      ],
      "metadata": {
        "id": "sfvC7nEjhHtZ"
      },
      "execution_count": null,
      "outputs": []
    },
    {
      "cell_type": "code",
      "source": [
        "# one-hot encoding on `employment_type` column\n",
        "df_employment_type = pd.get_dummies(df_combined.employment_type, prefix='employment_type')\n",
        "df_employment_type['id_employ_type'] = df_edu_lv.index\n",
        "df_combined = df_combined.drop([\"employment_type\"], axis=1)\n",
        "\n",
        "# one-hot encoding on `company_industry` column\n",
        "df_company_industry = pd.get_dummies(df_combined.company_industry, prefix='company_industry')\n",
        "df_company_industry['id_company_industry'] = df_edu_lv.index\n",
        "df_combined = df_combined.drop(['company_industry'],axis=1)"
      ],
      "metadata": {
        "id": "rS-orjM_iGJt"
      },
      "execution_count": null,
      "outputs": []
    },
    {
      "cell_type": "code",
      "source": [
        "df_combined = pd.merge(df_combined, df_edu_lv, left_on='id', right_on='id_edu_lv', how='left').drop('id_edu_lv', axis=1)\n",
        "df_combined = pd.merge(df_combined, df_job_function, left_on='id', right_on='id_job_function', how='left').drop('id_job_function', axis=1)\n",
        "df_combined = pd.merge(df_combined, df_employment_type, left_on='id', right_on='id_employ_type', how='left').drop('id_employ_type', axis=1)\n",
        "df_combined = pd.merge(df_combined, df_company_industry, left_on='id', right_on='id_company_industry', how='left').drop('id_company_industry', axis=1)"
      ],
      "metadata": {
        "id": "ZQ9uek_gbP8b"
      },
      "execution_count": null,
      "outputs": []
    },
    {
      "cell_type": "markdown",
      "source": [
        "ordinal label encoding on `company_size` column"
      ],
      "metadata": {
        "id": "QxJut0vmjK5t"
      }
    },
    {
      "cell_type": "code",
      "source": [
        "# creating empty list to store ordinal label values\n",
        "ordinal = []\n",
        "\n",
        "# iterating each record on `company_size` column to determine which label to be assigned to each level\n",
        "for x in df_combined['company_size'] :\n",
        "  if x == \"None\" :\n",
        "    ordinal.append(0)\n",
        "  elif x == \"1- 50 pekerja\" :\n",
        "    ordinal.append(1)\n",
        "  elif x == \"51 - 200 pekerja\" :\n",
        "    ordinal.append(2)\n",
        "  elif x == \"201 - 500 pekerja\" :\n",
        "    ordinal.append(3)\n",
        "  elif x == \"501 - 1000 pekerja\" :\n",
        "    ordinal.append(4)\n",
        "  elif x == \"1001 - 2000 pekerja\" :\n",
        "    ordinal.append(5)\n",
        "  elif x == \"2001 - 5000 pekerja\" :\n",
        "    ordinal.append(6)\n",
        "  elif x == \"Lebih dari 5000 pekerja\" :\n",
        "    ordinal.append(7)\n",
        "\n",
        "df_combined['company_size'] = np.array(ordinal)"
      ],
      "metadata": {
        "id": "CT9Lnh0ffrWW"
      },
      "execution_count": null,
      "outputs": []
    },
    {
      "cell_type": "code",
      "source": [
        "df_combined.drop(['index', 'salary_currency'], axis=1, inplace=True)"
      ],
      "metadata": {
        "id": "UrdJyO3Lg5zE"
      },
      "execution_count": null,
      "outputs": []
    },
    {
      "cell_type": "markdown",
      "source": [
        "# **Data Splitting**"
      ],
      "metadata": {
        "id": "S2L4alWwnVt9"
      }
    },
    {
      "cell_type": "code",
      "source": [
        "# remember that we've information that index 0 until 6349 are the train set, whereas index 6350 until 9349 are the predict set\n",
        "\n",
        "# selecting the right index for each set\n",
        "train = df_combined[df_combined.index < 6350]\n",
        "train = train.drop(['id'], axis=1)\n",
        "predict = df_combined[df_combined.index > 6349]"
      ],
      "metadata": {
        "id": "5iK9a3Mgizt2"
      },
      "execution_count": null,
      "outputs": []
    },
    {
      "cell_type": "code",
      "source": [
        "# form the `X`, `y`, `X_predict`, and `predict_id`\n",
        "X = train.drop(columns='salary')\n",
        "y = train['salary']\n",
        "\n",
        "predict_id = np.array(predict['id'])\n",
        "X_predict = predict.drop(['id', 'salary'], axis=1)"
      ],
      "metadata": {
        "id": "f7olIvAipLC4"
      },
      "execution_count": null,
      "outputs": []
    },
    {
      "cell_type": "code",
      "source": [
        "X.shape"
      ],
      "metadata": {
        "colab": {
          "base_uri": "https://localhost:8080/"
        },
        "id": "uvj1Ca0ejD3Q",
        "outputId": "da3c383f-7775-4131-9c81-b1af404ed6aa"
      },
      "execution_count": null,
      "outputs": [
        {
          "output_type": "execute_result",
          "data": {
            "text/plain": [
              "(6350, 1370)"
            ]
          },
          "metadata": {},
          "execution_count": 36
        }
      ]
    },
    {
      "cell_type": "code",
      "source": [
        "X_predict.shape"
      ],
      "metadata": {
        "colab": {
          "base_uri": "https://localhost:8080/"
        },
        "id": "YGikW8QQjLXJ",
        "outputId": "db0fa642-a00f-41d9-efa3-6b4c8e26befe"
      },
      "execution_count": null,
      "outputs": [
        {
          "output_type": "execute_result",
          "data": {
            "text/plain": [
              "(3000, 1370)"
            ]
          },
          "metadata": {},
          "execution_count": 37
        }
      ]
    },
    {
      "cell_type": "markdown",
      "source": [
        "# **Applying NLP on `job_title` and `job_description` columns**"
      ],
      "metadata": {
        "id": "U52BxJdxpVW-"
      }
    },
    {
      "cell_type": "markdown",
      "source": [
        "## **Creating Functions**"
      ],
      "metadata": {
        "id": "3DgWi0RgtuYp"
      }
    },
    {
      "cell_type": "markdown",
      "source": [
        "### **1. Punctuation Removal**"
      ],
      "metadata": {
        "id": "FBato6vOt0AN"
      }
    },
    {
      "cell_type": "code",
      "source": [
        "# Create a list of punctuation replacements\n",
        "punctuation_symbols = []\n",
        "\n",
        "for symbol in punctuation:\n",
        "  punctuation_symbols.append((symbol, ''))\n",
        "\n",
        "def remove_punctuation(sentence: str) -> str:\n",
        "  return sentence.translate(str.maketrans('', '', string.punctuation))"
      ],
      "metadata": {
        "id": "kYYum15osL0j"
      },
      "execution_count": null,
      "outputs": []
    },
    {
      "cell_type": "markdown",
      "source": [
        "### **2. Digits Removal**"
      ],
      "metadata": {
        "id": "Wys0zdz6uFPZ"
      }
    },
    {
      "cell_type": "code",
      "source": [
        "def remove_digits(x):\n",
        "  x = ''.join([i for i in x if not i.isdigit()])\n",
        "  return x"
      ],
      "metadata": {
        "id": "CzAaZyxLuG7b"
      },
      "execution_count": null,
      "outputs": []
    },
    {
      "cell_type": "markdown",
      "source": [
        "### **3. Stop Words Removal**"
      ],
      "metadata": {
        "id": "j2s5hkVzuIIy"
      }
    },
    {
      "cell_type": "code",
      "source": [
        "stop = stopwords.words('english')\n",
        "\n",
        "def remove_stopwords(x):\n",
        "  x = ' '.join([i for i in x.lower().split(' ') if i not in stop])\n",
        "  return x"
      ],
      "metadata": {
        "id": "g9dgoQQ6uMBE"
      },
      "execution_count": null,
      "outputs": []
    },
    {
      "cell_type": "markdown",
      "source": [
        "### **4. Lowercase Formatting**"
      ],
      "metadata": {
        "id": "YeP0MBS1uSIR"
      }
    },
    {
      "cell_type": "code",
      "source": [
        "def to_lower(x):\n",
        "  return x.lower()"
      ],
      "metadata": {
        "id": "XiFUpuHluVIp"
      },
      "execution_count": null,
      "outputs": []
    },
    {
      "cell_type": "markdown",
      "source": [
        "### **5. Word Lemmatizer**"
      ],
      "metadata": {
        "id": "N9qzVsQCvfB4"
      }
    },
    {
      "cell_type": "code",
      "source": [
        "lematizer = WordNetLemmatizer()\n",
        "\n",
        "# Defining lemmatizer function\n",
        "def word_lemmatizer(text):\n",
        "    lemma_text = [lematizer.lemmatize(word) for word in text]\n",
        "    return lemma_text"
      ],
      "metadata": {
        "id": "sFNqaJzvvhVr"
      },
      "execution_count": null,
      "outputs": []
    },
    {
      "cell_type": "markdown",
      "source": [
        "### **6. Translator**"
      ],
      "metadata": {
        "id": "O5k2DN9u3xI0"
      }
    },
    {
      "cell_type": "code",
      "source": [
        "def translator(text):\n",
        "  text = Translator(to_lang=\"en\").translate(text)\n",
        "  return text"
      ],
      "metadata": {
        "id": "XH8aLhHp3y3d"
      },
      "execution_count": null,
      "outputs": []
    },
    {
      "cell_type": "markdown",
      "source": [
        "## **Processing on `job_title` column**"
      ],
      "metadata": {
        "id": "Grcrj7A1w7zu"
      }
    },
    {
      "cell_type": "code",
      "source": [
        "X['job_title'] = X['job_title'].astype(str)\n",
        "X_predict['job_title'] = X_predict['job_title'].astype(str)\n",
        "\n",
        "X['job_title'] = X['job_title'].apply(remove_digits)\n",
        "X['job_title'] = X['job_title'].apply(remove_punctuation)\n",
        "X['job_title'] = X['job_title'].apply(remove_stopwords)\n",
        "X['job_title'] = X['job_title'].apply(to_lower)\n",
        "\n",
        "X_predict['job_title'] = X_predict['job_title'].apply(remove_digits)\n",
        "X_predict['job_title'] = X_predict['job_title'].apply(remove_punctuation)\n",
        "X_predict['job_title'] = X_predict['job_title'].apply(remove_stopwords)\n",
        "X_predict['job_title'] = X_predict['job_title'].apply(to_lower)"
      ],
      "metadata": {
        "id": "kMq5vCScxTdZ"
      },
      "execution_count": null,
      "outputs": []
    },
    {
      "cell_type": "code",
      "source": [
        "# Apply Word Lemmatizer to `job_title` column \n",
        "X['job_title'] = X['job_title'].apply(lambda x: word_lemmatizer(x))\n",
        "X_predict['job_title'] = X_predict['job_title'].apply(lambda x: word_lemmatizer(x))"
      ],
      "metadata": {
        "id": "yseB5wngykfr"
      },
      "execution_count": null,
      "outputs": []
    },
    {
      "cell_type": "code",
      "source": [
        "# Apply Count Vectorizer to `job_title`, this converts it into a sparse matrix \n",
        "count_vec = CountVectorizer()\n",
        "\n",
        "X['job_title'] = X['job_title'].astype(str)\n",
        "X_predict['job_title'] = X_predict['job_title'].astype(str)\n",
        "\n",
        "X_job_title = count_vec.fit_transform(X['job_title'])\n",
        "X_predict_job_title = count_vec.fit_transform(X_predict['job_title'])"
      ],
      "metadata": {
        "id": "ih292oZAxwdx"
      },
      "execution_count": null,
      "outputs": []
    },
    {
      "cell_type": "markdown",
      "source": [
        "## **Processing on `job_description` column**"
      ],
      "metadata": {
        "id": "3VR7rhhvxQfb"
      }
    },
    {
      "cell_type": "code",
      "source": [
        "X.job_description = X.job_description.astype(str)\n",
        "X_predict.job_description = X_predict.job_description.astype(str)\n",
        "\n",
        "X['job_description'] = X['job_description'].map(lambda x: translator(x))\n",
        "X_predict['job_description'] = X_predict['job_description'].map(lambda x: translator(x))\n",
        "\n",
        "X['job_description'] = X['job_description'].apply(remove_digits)\n",
        "X['job_description'] = X['job_description'].apply(remove_punctuation)\n",
        "X['job_description'] = X['job_description'].apply(remove_stopwords)\n",
        "X['job_description'] = X['job_description'].apply(to_lower)\n",
        "\n",
        "X_predict['job_description'] = X_predict['job_description'].apply(remove_digits)\n",
        "X_predict['job_description'] = X_predict['job_description'].apply(remove_punctuation)\n",
        "X_predict['job_description'] = X_predict['job_description'].apply(remove_stopwords)\n",
        "X_predict['job_description'] = X_predict['job_description'].apply(to_lower)"
      ],
      "metadata": {
        "id": "VZePDMFpyGAG"
      },
      "execution_count": null,
      "outputs": []
    },
    {
      "cell_type": "code",
      "source": [
        "# Apply Word Lemmatizer to `job_description` column \n",
        "X['job_description'] = X['job_description'].apply(lambda x: word_lemmatizer(x))\n",
        "X_predict['job_description'] = X_predict['job_description'].apply(lambda x: word_lemmatizer(x))"
      ],
      "metadata": {
        "id": "h9E9vWXGzSw-"
      },
      "execution_count": null,
      "outputs": []
    },
    {
      "cell_type": "code",
      "source": [
        "# Apply TFIDF to `job_description` \n",
        "tfidf_vec = TfidfVectorizer()\n",
        "\n",
        "X['job_description'] = X['job_description'].astype(str)\n",
        "X_predict['job_description'] = X_predict['job_description'].astype(str)\n",
        "\n",
        "X_job_description = tfidf_vec.fit_transform(X['job_description'])\n",
        "X_predict_job_description = tfidf_vec.fit_transform(X_predict['job_description'])"
      ],
      "metadata": {
        "id": "Yrb_Kh8Vzcef"
      },
      "execution_count": null,
      "outputs": []
    },
    {
      "cell_type": "markdown",
      "source": [
        "# **Create CSR_Matrix & Merge The Sparse Matrices**"
      ],
      "metadata": {
        "id": "F7dH1eR30Mix"
      }
    },
    {
      "cell_type": "code",
      "source": [
        "col_names = df_combined.columns.values.tolist()"
      ],
      "metadata": {
        "id": "VHJtz87Y0inO"
      },
      "execution_count": null,
      "outputs": []
    },
    {
      "cell_type": "code",
      "source": [
        "col_names.remove('job_title')\n",
        "col_names.remove('job_description')\n",
        "col_names.remove('id')\n",
        "col_names.remove('salary')"
      ],
      "metadata": {
        "id": "ysgbrdmJBmI9"
      },
      "execution_count": null,
      "outputs": []
    },
    {
      "cell_type": "markdown",
      "source": [
        "creating Sparse Matrix for `X`"
      ],
      "metadata": {
        "id": "ZN-fLpAj1ReW"
      }
    },
    {
      "cell_type": "code",
      "source": [
        "# Create our final sparse matrix\n",
        "X_dummies = csr_matrix(pd.get_dummies(X[col_names], sparse=True).values)\n",
        "# Combine everything together\n",
        "X_sparse_merge = hstack((X_dummies, X_job_title, X_job_description)).tocsr()"
      ],
      "metadata": {
        "id": "PB6GfikV0RhT"
      },
      "execution_count": null,
      "outputs": []
    },
    {
      "cell_type": "markdown",
      "source": [
        "creating Sparse Matrix for `X_predict`"
      ],
      "metadata": {
        "id": "_26iw6vV1Xn4"
      }
    },
    {
      "cell_type": "code",
      "source": [
        "# Create our final sparse matrix\n",
        "X_predict_dummies = csr_matrix(pd.get_dummies(X[col_names], sparse=True).values)\n",
        "# Combine everything together\n",
        "X_predict_sparse_merge = hstack((X_predict_dummies, X_job_title, X_job_description)).tocsr()"
      ],
      "metadata": {
        "id": "lGoj4XIQ1Z_Y"
      },
      "execution_count": null,
      "outputs": []
    },
    {
      "cell_type": "markdown",
      "source": [
        "# **Model Training**"
      ],
      "metadata": {
        "id": "jT-Sdg8qkIWD"
      }
    },
    {
      "cell_type": "markdown",
      "source": [
        "## **Searching The Best Params**"
      ],
      "metadata": {
        "id": "Ul5iNPIP1kwc"
      }
    },
    {
      "cell_type": "code",
      "source": [
        "def hyperparams_tuning(X_train, y_train):\n",
        "    params = {\n",
        "        'tree_method': ['gpu_hist'],\n",
        "        'learning_rate': [.03, 0.05, .07],\n",
        "        'max_depth': [5, 6, 7],\n",
        "        'min_child_weight': [1, 3, 5],\n",
        "        'subsample': [0.5, 0.7],\n",
        "        'colsample_bytree': [0.5, 0.7],\n",
        "        'n_estimators' : [100, 200, 500],\n",
        "        'objective': ['reg:squarederror']\n",
        "    }\n",
        "\n",
        "    xgb_model = XGBRegressor()\n",
        "\n",
        "    gsearch = GridSearchCV(estimator = xgb_model,\n",
        "                           param_grid = params,\n",
        "                           scoring = 'neg_mean_squared_error', # MSE\n",
        "                           cv = 5,\n",
        "                           n_jobs = -1,\n",
        "                           verbose = 1)\n",
        "\n",
        "    gsearch.fit(X_train,y_train)\n",
        "\n",
        "    return gsearch.best_params_"
      ],
      "metadata": {
        "id": "D0rGIPkNk4cE"
      },
      "execution_count": null,
      "outputs": []
    },
    {
      "cell_type": "code",
      "source": [
        "hyperparams_tuning(X_sparse_merge, y)"
      ],
      "metadata": {
        "colab": {
          "base_uri": "https://localhost:8080/"
        },
        "id": "XFY4wd6bk9tA",
        "outputId": "5f66a8a0-f8c0-401f-9a09-d87e7306a53c"
      },
      "execution_count": null,
      "outputs": [
        {
          "output_type": "stream",
          "name": "stdout",
          "text": [
            "Fitting 5 folds for each of 324 candidates, totalling 1620 fits\n"
          ]
        }
      ]
    },
    {
      "cell_type": "markdown",
      "source": [
        "## **Cross Validation**"
      ],
      "metadata": {
        "id": "gV9Ezwnb2PA-"
      }
    },
    {
      "cell_type": "code",
      "source": [
        "xgb_model = XGBRegressor(\n",
        "        objective = 'reg:squarederror',\n",
        "        colsample_bytree = 0.5,\n",
        "        learning_rate = 0.01,\n",
        "        max_depth = 10,\n",
        "        min_child_weight = 3,\n",
        "        n_estimators = 500,\n",
        "        subsample = 0.7)\n",
        "\n",
        "scoring = {'MSE': make_scorer(mean_squared_error),\n",
        "          'MAE': make_scorer(mean_absolute_error)}\n",
        "\n",
        "kfold = KFold(n_splits=5, random_state=1234, shuffle = True)\n",
        "\n",
        "results_reg = cross_validate(estimator=xgb_model, \n",
        "                             X=X, \n",
        "                             y=y, \n",
        "                             cv=kfold, \n",
        "                             scoring=scoring)"
      ],
      "metadata": {
        "id": "_Ih3JlwA2SLM"
      },
      "execution_count": null,
      "outputs": []
    },
    {
      "cell_type": "code",
      "source": [
        "b_lin = np.sqrt(results_reg.get('test_MSE'))\n",
        "print('mean_RMSE : ', \"%.15f\" % (b_lin.mean()))"
      ],
      "metadata": {
        "id": "6Kcqhgig2jRY"
      },
      "execution_count": null,
      "outputs": []
    },
    {
      "cell_type": "markdown",
      "source": [
        "# **Model Prediction**"
      ],
      "metadata": {
        "id": "PgcBT9TQ2nAs"
      }
    },
    {
      "cell_type": "code",
      "source": [
        "predict_id = np.array(predict['id'])\n",
        "X_predict = predict.drop(['id', 'salary'], axis=1)"
      ],
      "metadata": {
        "id": "cXSO321V2o2J"
      },
      "execution_count": null,
      "outputs": []
    },
    {
      "cell_type": "code",
      "source": [
        "xgb_model.fit(X_sparse_merge, y)\n",
        "y_pred = xgb_model.predict(X_predict_sparse_merge)"
      ],
      "metadata": {
        "id": "N4-EmG9C25Aq"
      },
      "execution_count": null,
      "outputs": []
    },
    {
      "cell_type": "code",
      "source": [
        "submission = pd.DataFrame({\"id\": pred_id, \"salary\": y_pred}).reset_index()\n",
        "submission.to_csv(\"submission.csv\", index=False)"
      ],
      "metadata": {
        "id": "CiYSqRad25eN"
      },
      "execution_count": null,
      "outputs": []
    }
  ]
}