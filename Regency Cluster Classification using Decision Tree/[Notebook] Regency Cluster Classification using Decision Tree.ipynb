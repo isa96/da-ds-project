{
  "metadata": {
    "kernelspec": {
      "language": "python",
      "display_name": "Python 3",
      "name": "python3"
    },
    "language_info": {
      "name": "python",
      "version": "3.7.10",
      "mimetype": "text/x-python",
      "codemirror_mode": {
        "name": "ipython",
        "version": 3
      },
      "pygments_lexer": "ipython3",
      "nbconvert_exporter": "python",
      "file_extension": ".py"
    },
    "colab": {
      "name": "dac-2021 (1).ipynb",
      "provenance": []
    }
  },
  "nbformat_minor": 0,
  "nbformat": 4,
  "cells": [
    {
      "cell_type": "code",
      "source": [
        "# This Python 3 environment comes with many helpful analytics libraries installed\n",
        "# It is defined by the kaggle/python Docker image: https://github.com/kaggle/docker-python\n",
        "# For example, here's several helpful packages to load\n",
        "\n",
        "import numpy as np # linear algebra\n",
        "import pandas as pd # data processing, CSV file I/O (e.g. pd.read_csv)\n",
        "\n",
        "# Input data files are available in the read-only \"../input/\" directory\n",
        "# For example, running this (by clicking run or pressing Shift+Enter) will list all files under the input directory\n",
        "\n",
        "import os\n",
        "for dirname, _, filenames in os.walk('/kaggle/input'):\n",
        "    for filename in filenames:\n",
        "        print(os.path.join(dirname, filename))\n",
        "\n",
        "# You can write up to 20GB to the current directory (/kaggle/working/) that gets preserved as output when you create a version using \"Save & Run All\" \n",
        "# You can also write temporary files to /kaggle/temp/, but they won't be saved outside of the current session"
      ],
      "metadata": {
        "_uuid": "c2018973-1086-4476-93df-a79cb3022a15",
        "_cell_guid": "8d047f27-7427-45b1-9ae1-202782d9b70c",
        "jupyter": {
          "outputs_hidden": false
        },
        "execution": {
          "iopub.status.busy": "2021-07-19T16:18:14.544227Z",
          "iopub.execute_input": "2021-07-19T16:18:14.544783Z",
          "iopub.status.idle": "2021-07-19T16:18:14.555302Z",
          "shell.execute_reply.started": "2021-07-19T16:18:14.544694Z",
          "shell.execute_reply": "2021-07-19T16:18:14.553902Z"
        },
        "trusted": true,
        "id": "YaD1gvJKH9nj"
      },
      "execution_count": null,
      "outputs": []
    },
    {
      "cell_type": "markdown",
      "source": [
        "# 1. Data Praprocessing"
      ],
      "metadata": {
        "_uuid": "925f90b4-9fee-4a47-aa80-523aae81d88b",
        "_cell_guid": "55cc1b89-1fe3-4e9c-b889-a12f40149779",
        "trusted": true,
        "id": "tS6sS7xyH9nr"
      }
    },
    {
      "cell_type": "markdown",
      "source": [
        "## 1.1. Data Input"
      ],
      "metadata": {
        "_uuid": "e1bee0b4-3a3d-42fe-b615-d292aef073f3",
        "_cell_guid": "42c6254a-5fdb-4153-b8f9-6a42d631b500",
        "trusted": true,
        "id": "f6sSWJDiH9nu"
      }
    },
    {
      "cell_type": "code",
      "source": [
        "df_train = pd.read_csv(\"https://drive.google.com/uc?id=1aHBmV7ZA_lmIC9dL8P-6yCF8nqZNda-c\")"
      ],
      "metadata": {
        "_uuid": "b892640f-fff1-46a1-94ac-c76f15cb9f73",
        "_cell_guid": "a9089590-b928-49e9-aadf-3e6b01d44665",
        "jupyter": {
          "outputs_hidden": false
        },
        "execution": {
          "iopub.status.busy": "2021-07-19T16:18:14.567602Z",
          "iopub.execute_input": "2021-07-19T16:18:14.567978Z",
          "iopub.status.idle": "2021-07-19T16:18:17.864833Z",
          "shell.execute_reply.started": "2021-07-19T16:18:14.567941Z",
          "shell.execute_reply": "2021-07-19T16:18:17.864071Z"
        },
        "trusted": true,
        "id": "aFg1RiI8H9nv"
      },
      "execution_count": null,
      "outputs": []
    },
    {
      "cell_type": "code",
      "source": [
        "df_test = pd.read_csv(\"https://drive.google.com/uc?id=1rlx8gYDUozbpF-3dPFMil7x4gtNBOMhk\")"
      ],
      "metadata": {
        "_uuid": "73d6a1a1-df6a-46b4-89e4-279c651f6dad",
        "_cell_guid": "0a9caf51-8bf0-4dd4-a609-2cb0330e350c",
        "jupyter": {
          "outputs_hidden": false
        },
        "execution": {
          "iopub.status.busy": "2021-07-19T16:18:17.866235Z",
          "iopub.execute_input": "2021-07-19T16:18:17.866787Z",
          "iopub.status.idle": "2021-07-19T16:18:20.184406Z",
          "shell.execute_reply.started": "2021-07-19T16:18:17.866744Z",
          "shell.execute_reply": "2021-07-19T16:18:20.183464Z"
        },
        "trusted": true,
        "id": "17_fN5SuH9nw"
      },
      "execution_count": null,
      "outputs": []
    },
    {
      "cell_type": "markdown",
      "source": [
        "## 1.2 Data Describe"
      ],
      "metadata": {
        "_uuid": "fc9b32f3-1f0b-4666-ae6b-5705961888e3",
        "_cell_guid": "88e32515-5b55-4de2-9661-16dce2b9611f",
        "trusted": true,
        "id": "uK2h6QhzH9nx"
      }
    },
    {
      "cell_type": "code",
      "source": [
        "df_train.describe"
      ],
      "metadata": {
        "_uuid": "cd7b5a8e-062f-4aef-9622-c26fecc5b47e",
        "_cell_guid": "c1376bb8-d343-457d-b884-b5d916436a65",
        "jupyter": {
          "outputs_hidden": false
        },
        "execution": {
          "iopub.status.busy": "2021-07-19T16:18:20.186397Z",
          "iopub.execute_input": "2021-07-19T16:18:20.186825Z",
          "iopub.status.idle": "2021-07-19T16:18:20.264533Z",
          "shell.execute_reply.started": "2021-07-19T16:18:20.186788Z",
          "shell.execute_reply": "2021-07-19T16:18:20.263511Z"
        },
        "trusted": true,
        "id": "XoF5dFWYH9ny",
        "outputId": "e1775d3b-df7d-4ab4-cbf4-500334883a12"
      },
      "execution_count": null,
      "outputs": [
        {
          "execution_count": 4,
          "output_type": "execute_result",
          "data": {
            "text/plain": "<bound method NDFrame.describe of         Unnamed: 0        time_date  site  continent_id  buyer_country  \\\n0                0   8/11/2014 7:46     2             3             66   \n1                1   8/11/2014 8:22     2             3             66   \n2                2   8/11/2014 8:24     2             3             66   \n3                3   8/9/2014 18:05     2             3             66   \n4                4   8/9/2014 18:08     2             3             66   \n...            ...              ...   ...           ...            ...   \n343578    37334078  1/27/2014 19:21    37             1             69   \n343579    37334079  1/27/2014 19:27    37             1             69   \n343580    37334080  1/27/2014 19:38    37             1             69   \n343581    37334081  1/27/2014 19:45    37             1             69   \n343582    37334082  4/28/2014 23:32    37             1             69   \n\n        buyer_region  buyer_city   distance  buyer_id  mobile  ...  children  \\\n0                348       48862  2234.2641        12       0  ...         0   \n1                348       48862  2234.2641        12       0  ...         0   \n2                348       48862  2234.2641        12       0  ...         0   \n3                442       35390   913.1932        93       0  ...         0   \n4                442       35390   913.6259        93       0  ...         0   \n...              ...         ...        ...       ...     ...  ...       ...   \n343578           648        6514        NaN      9672       1  ...         0   \n343579           648        6514        NaN      9672       1  ...         0   \n343580           648        6514        NaN      9672       1  ...         0   \n343581           648        6514        NaN      9672       1  ...         0   \n343582           828       34329        NaN      9672       1  ...         0   \n\n        room destination_id destination_type  dealing  regency_continent  \\\n0          1           8250                1        0                  3   \n1          1           8250                1        1                  1   \n2          1           8250                1        0                  1   \n3          1          14984                1        0                  1   \n4          1          14984                1        0                  1   \n...      ...            ...              ...      ...                ...   \n343578     2            172                1        0                  1   \n343579     2           8277                1        0                  1   \n343580     2          32726                4        0                  1   \n343581     2          12010                1        0                  1   \n343582     2           8243                1        0                  1   \n\n        regency_country  regency_market   cnt  regency_cluster  \n0                     2              50   628                1  \n1                     2              50   628                1  \n2                     2              50   628                1  \n3                     2              50  1457               80  \n4                     2              50  1457               21  \n...                 ...             ...   ...              ...  \n343578                2              50   744               94  \n343579                2              50   412               70  \n343580                2              50   406               18  \n343581                2              50   723               91  \n343582                2              50   409               95  \n\n[343583 rows x 25 columns]>"
          },
          "metadata": {}
        }
      ]
    },
    {
      "cell_type": "code",
      "source": [
        "df_test.describe"
      ],
      "metadata": {
        "_uuid": "76f58f38-3d91-4ed2-ba37-14c8547ae6bb",
        "_cell_guid": "249579bc-f4d6-4641-9020-715e8cf7e76e",
        "jupyter": {
          "outputs_hidden": false
        },
        "execution": {
          "iopub.status.busy": "2021-07-19T16:18:20.266540Z",
          "iopub.execute_input": "2021-07-19T16:18:20.267120Z",
          "iopub.status.idle": "2021-07-19T16:18:20.289596Z",
          "shell.execute_reply.started": "2021-07-19T16:18:20.267073Z",
          "shell.execute_reply": "2021-07-19T16:18:20.288640Z"
        },
        "trusted": true,
        "id": "BJVZxwfZH9n0",
        "outputId": "a2fc1eb9-faa3-430d-fd10-d5826e137871"
      },
      "execution_count": null,
      "outputs": [
        {
          "execution_count": 5,
          "output_type": "execute_result",
          "data": {
            "text/plain": "<bound method NDFrame.describe of        Unnamed: 0       id        time_date  site  continent_id  \\\n0               0        0   9/3/2015 17:09     2             3   \n1               1        1  9/24/2015 17:38     2             3   \n2               2        2   6/7/2015 15:53     2             3   \n3               3        3  9/14/2015 14:49     2             3   \n4               4        4   7/17/2015 9:32     2             3   \n...           ...      ...              ...   ...           ...   \n21013     2171326  2171326  4/28/2015 18:04     2             3   \n21014     2171327  2171327  7/19/2015 16:47     2             3   \n21015     2171328  2171328  4/10/2015 14:40    24             2   \n21016     2171329  2171329  1/11/2015 22:23    23             1   \n21017     2171330  2171330  6/10/2015 16:13    23             1   \n\n       buyer_country  buyer_region  buyer_city   distance  buyer_id  ...  \\\n0                 66           174       37449  5539.0567         1  ...   \n1                 66           174       37449  5873.2923         1  ...   \n2                 66           142       17440  3975.9776        20  ...   \n3                 66           258       34156  1508.5975        28  ...   \n4                 66           467       36345    66.7913        50  ...   \n...              ...           ...         ...        ...       ...  ...   \n21013             66           351       54857   143.8128      9959  ...   \n21014             66           351       54857  3811.7386      9959  ...   \n21015              3            59        1101        NaN      9961  ...   \n21016              1           395       29254   292.6402      9982  ...   \n21017              1           395       29254   476.6014      9982  ...   \n\n       buying_date  dealing_date  adults children room  destination_id  \\\n0        5/19/2016     5/23/2016       2        0    1           12243   \n1        5/12/2016     5/15/2016       2        0    1           14474   \n2        7/26/2015     7/27/2015       4        0    1           11353   \n3        9/14/2015     9/16/2015       2        0    1            8250   \n4        7/22/2015     7/23/2015       2        0    1           11812   \n...            ...           ...     ...      ...  ...             ...   \n21013    4/30/2015      5/1/2015       2        0    1           27036   \n21014    7/31/2015      8/1/2015       2        0    1            8253   \n21015    4/15/2015     4/20/2015       1        0    1            8806   \n21016     4/4/2015      4/6/2015       2        0    1            8862   \n21017    8/16/2015     8/19/2015       2        0    1           21455   \n\n       destination_type  regency_continent  regency_country  regency_market  \n0                     6                  6              204              27  \n1                     7                  6              204            1540  \n2                     1                  2               50             699  \n3                     1                  2               50             628  \n4                     1                  2               50             538  \n...                 ...                ...              ...             ...  \n21013                 1                  2               50            1648  \n21014                 1                  6               70              19  \n21015                 1                  6              105              22  \n21016                 1                  6              204            1466  \n21017                 6                  6              107              36  \n\n[21018 rows x 23 columns]>"
          },
          "metadata": {}
        }
      ]
    },
    {
      "cell_type": "code",
      "source": [
        "df_train.head(5)"
      ],
      "metadata": {
        "_uuid": "b2f55824-e548-4ade-8982-e8f7f841d09c",
        "_cell_guid": "d57919e1-c7b8-49e8-9888-6402337c1e18",
        "jupyter": {
          "outputs_hidden": false
        },
        "execution": {
          "iopub.status.busy": "2021-07-19T16:18:20.290768Z",
          "iopub.execute_input": "2021-07-19T16:18:20.291312Z",
          "iopub.status.idle": "2021-07-19T16:18:20.316456Z",
          "shell.execute_reply.started": "2021-07-19T16:18:20.291269Z",
          "shell.execute_reply": "2021-07-19T16:18:20.315149Z"
        },
        "trusted": true,
        "id": "JW6A-2ZRH9n0",
        "outputId": "3263c076-ac9b-4184-d70e-815d07402e07"
      },
      "execution_count": null,
      "outputs": [
        {
          "execution_count": 6,
          "output_type": "execute_result",
          "data": {
            "text/plain": "   Unnamed: 0       time_date  site  continent_id  buyer_country  \\\n0           0  8/11/2014 7:46     2             3             66   \n1           1  8/11/2014 8:22     2             3             66   \n2           2  8/11/2014 8:24     2             3             66   \n3           3  8/9/2014 18:05     2             3             66   \n4           4  8/9/2014 18:08     2             3             66   \n\n   buyer_region  buyer_city   distance  buyer_id  mobile  ...  children  room  \\\n0           348       48862  2234.2641        12       0  ...         0     1   \n1           348       48862  2234.2641        12       0  ...         0     1   \n2           348       48862  2234.2641        12       0  ...         0     1   \n3           442       35390   913.1932        93       0  ...         0     1   \n4           442       35390   913.6259        93       0  ...         0     1   \n\n  destination_id destination_type  dealing  regency_continent  \\\n0           8250                1        0                  3   \n1           8250                1        1                  1   \n2           8250                1        0                  1   \n3          14984                1        0                  1   \n4          14984                1        0                  1   \n\n   regency_country  regency_market   cnt  regency_cluster  \n0                2              50   628                1  \n1                2              50   628                1  \n2                2              50   628                1  \n3                2              50  1457               80  \n4                2              50  1457               21  \n\n[5 rows x 25 columns]",
            "text/html": "<div>\n<style scoped>\n    .dataframe tbody tr th:only-of-type {\n        vertical-align: middle;\n    }\n\n    .dataframe tbody tr th {\n        vertical-align: top;\n    }\n\n    .dataframe thead th {\n        text-align: right;\n    }\n</style>\n<table border=\"1\" class=\"dataframe\">\n  <thead>\n    <tr style=\"text-align: right;\">\n      <th></th>\n      <th>Unnamed: 0</th>\n      <th>time_date</th>\n      <th>site</th>\n      <th>continent_id</th>\n      <th>buyer_country</th>\n      <th>buyer_region</th>\n      <th>buyer_city</th>\n      <th>distance</th>\n      <th>buyer_id</th>\n      <th>mobile</th>\n      <th>...</th>\n      <th>children</th>\n      <th>room</th>\n      <th>destination_id</th>\n      <th>destination_type</th>\n      <th>dealing</th>\n      <th>regency_continent</th>\n      <th>regency_country</th>\n      <th>regency_market</th>\n      <th>cnt</th>\n      <th>regency_cluster</th>\n    </tr>\n  </thead>\n  <tbody>\n    <tr>\n      <th>0</th>\n      <td>0</td>\n      <td>8/11/2014 7:46</td>\n      <td>2</td>\n      <td>3</td>\n      <td>66</td>\n      <td>348</td>\n      <td>48862</td>\n      <td>2234.2641</td>\n      <td>12</td>\n      <td>0</td>\n      <td>...</td>\n      <td>0</td>\n      <td>1</td>\n      <td>8250</td>\n      <td>1</td>\n      <td>0</td>\n      <td>3</td>\n      <td>2</td>\n      <td>50</td>\n      <td>628</td>\n      <td>1</td>\n    </tr>\n    <tr>\n      <th>1</th>\n      <td>1</td>\n      <td>8/11/2014 8:22</td>\n      <td>2</td>\n      <td>3</td>\n      <td>66</td>\n      <td>348</td>\n      <td>48862</td>\n      <td>2234.2641</td>\n      <td>12</td>\n      <td>0</td>\n      <td>...</td>\n      <td>0</td>\n      <td>1</td>\n      <td>8250</td>\n      <td>1</td>\n      <td>1</td>\n      <td>1</td>\n      <td>2</td>\n      <td>50</td>\n      <td>628</td>\n      <td>1</td>\n    </tr>\n    <tr>\n      <th>2</th>\n      <td>2</td>\n      <td>8/11/2014 8:24</td>\n      <td>2</td>\n      <td>3</td>\n      <td>66</td>\n      <td>348</td>\n      <td>48862</td>\n      <td>2234.2641</td>\n      <td>12</td>\n      <td>0</td>\n      <td>...</td>\n      <td>0</td>\n      <td>1</td>\n      <td>8250</td>\n      <td>1</td>\n      <td>0</td>\n      <td>1</td>\n      <td>2</td>\n      <td>50</td>\n      <td>628</td>\n      <td>1</td>\n    </tr>\n    <tr>\n      <th>3</th>\n      <td>3</td>\n      <td>8/9/2014 18:05</td>\n      <td>2</td>\n      <td>3</td>\n      <td>66</td>\n      <td>442</td>\n      <td>35390</td>\n      <td>913.1932</td>\n      <td>93</td>\n      <td>0</td>\n      <td>...</td>\n      <td>0</td>\n      <td>1</td>\n      <td>14984</td>\n      <td>1</td>\n      <td>0</td>\n      <td>1</td>\n      <td>2</td>\n      <td>50</td>\n      <td>1457</td>\n      <td>80</td>\n    </tr>\n    <tr>\n      <th>4</th>\n      <td>4</td>\n      <td>8/9/2014 18:08</td>\n      <td>2</td>\n      <td>3</td>\n      <td>66</td>\n      <td>442</td>\n      <td>35390</td>\n      <td>913.6259</td>\n      <td>93</td>\n      <td>0</td>\n      <td>...</td>\n      <td>0</td>\n      <td>1</td>\n      <td>14984</td>\n      <td>1</td>\n      <td>0</td>\n      <td>1</td>\n      <td>2</td>\n      <td>50</td>\n      <td>1457</td>\n      <td>21</td>\n    </tr>\n  </tbody>\n</table>\n<p>5 rows × 25 columns</p>\n</div>"
          },
          "metadata": {}
        }
      ]
    },
    {
      "cell_type": "code",
      "source": [
        "df_test.head(5)"
      ],
      "metadata": {
        "_uuid": "c04dd501-1509-4be1-80a5-fba647e8f70b",
        "_cell_guid": "2dac4c74-6cef-4f0a-9926-b62d38744235",
        "jupyter": {
          "outputs_hidden": false
        },
        "execution": {
          "iopub.status.busy": "2021-07-19T16:18:20.317691Z",
          "iopub.execute_input": "2021-07-19T16:18:20.317955Z",
          "iopub.status.idle": "2021-07-19T16:18:20.339656Z",
          "shell.execute_reply.started": "2021-07-19T16:18:20.317922Z",
          "shell.execute_reply": "2021-07-19T16:18:20.338683Z"
        },
        "trusted": true,
        "id": "pfTY0eIBH9n2",
        "outputId": "3368c299-1720-4e7b-aacf-d981fb03eedc"
      },
      "execution_count": null,
      "outputs": [
        {
          "execution_count": 7,
          "output_type": "execute_result",
          "data": {
            "text/plain": "   Unnamed: 0  id        time_date  site  continent_id  buyer_country  \\\n0           0   0   9/3/2015 17:09     2             3             66   \n1           1   1  9/24/2015 17:38     2             3             66   \n2           2   2   6/7/2015 15:53     2             3             66   \n3           3   3  9/14/2015 14:49     2             3             66   \n4           4   4   7/17/2015 9:32     2             3             66   \n\n   buyer_region  buyer_city   distance  buyer_id  ...  buying_date  \\\n0           174       37449  5539.0567         1  ...    5/19/2016   \n1           174       37449  5873.2923         1  ...    5/12/2016   \n2           142       17440  3975.9776        20  ...    7/26/2015   \n3           258       34156  1508.5975        28  ...    9/14/2015   \n4           467       36345    66.7913        50  ...    7/22/2015   \n\n   dealing_date  adults children room  destination_id  destination_type  \\\n0     5/23/2016       2        0    1           12243                 6   \n1     5/15/2016       2        0    1           14474                 7   \n2     7/27/2015       4        0    1           11353                 1   \n3     9/16/2015       2        0    1            8250                 1   \n4     7/23/2015       2        0    1           11812                 1   \n\n   regency_continent  regency_country  regency_market  \n0                  6              204              27  \n1                  6              204            1540  \n2                  2               50             699  \n3                  2               50             628  \n4                  2               50             538  \n\n[5 rows x 23 columns]",
            "text/html": "<div>\n<style scoped>\n    .dataframe tbody tr th:only-of-type {\n        vertical-align: middle;\n    }\n\n    .dataframe tbody tr th {\n        vertical-align: top;\n    }\n\n    .dataframe thead th {\n        text-align: right;\n    }\n</style>\n<table border=\"1\" class=\"dataframe\">\n  <thead>\n    <tr style=\"text-align: right;\">\n      <th></th>\n      <th>Unnamed: 0</th>\n      <th>id</th>\n      <th>time_date</th>\n      <th>site</th>\n      <th>continent_id</th>\n      <th>buyer_country</th>\n      <th>buyer_region</th>\n      <th>buyer_city</th>\n      <th>distance</th>\n      <th>buyer_id</th>\n      <th>...</th>\n      <th>buying_date</th>\n      <th>dealing_date</th>\n      <th>adults</th>\n      <th>children</th>\n      <th>room</th>\n      <th>destination_id</th>\n      <th>destination_type</th>\n      <th>regency_continent</th>\n      <th>regency_country</th>\n      <th>regency_market</th>\n    </tr>\n  </thead>\n  <tbody>\n    <tr>\n      <th>0</th>\n      <td>0</td>\n      <td>0</td>\n      <td>9/3/2015 17:09</td>\n      <td>2</td>\n      <td>3</td>\n      <td>66</td>\n      <td>174</td>\n      <td>37449</td>\n      <td>5539.0567</td>\n      <td>1</td>\n      <td>...</td>\n      <td>5/19/2016</td>\n      <td>5/23/2016</td>\n      <td>2</td>\n      <td>0</td>\n      <td>1</td>\n      <td>12243</td>\n      <td>6</td>\n      <td>6</td>\n      <td>204</td>\n      <td>27</td>\n    </tr>\n    <tr>\n      <th>1</th>\n      <td>1</td>\n      <td>1</td>\n      <td>9/24/2015 17:38</td>\n      <td>2</td>\n      <td>3</td>\n      <td>66</td>\n      <td>174</td>\n      <td>37449</td>\n      <td>5873.2923</td>\n      <td>1</td>\n      <td>...</td>\n      <td>5/12/2016</td>\n      <td>5/15/2016</td>\n      <td>2</td>\n      <td>0</td>\n      <td>1</td>\n      <td>14474</td>\n      <td>7</td>\n      <td>6</td>\n      <td>204</td>\n      <td>1540</td>\n    </tr>\n    <tr>\n      <th>2</th>\n      <td>2</td>\n      <td>2</td>\n      <td>6/7/2015 15:53</td>\n      <td>2</td>\n      <td>3</td>\n      <td>66</td>\n      <td>142</td>\n      <td>17440</td>\n      <td>3975.9776</td>\n      <td>20</td>\n      <td>...</td>\n      <td>7/26/2015</td>\n      <td>7/27/2015</td>\n      <td>4</td>\n      <td>0</td>\n      <td>1</td>\n      <td>11353</td>\n      <td>1</td>\n      <td>2</td>\n      <td>50</td>\n      <td>699</td>\n    </tr>\n    <tr>\n      <th>3</th>\n      <td>3</td>\n      <td>3</td>\n      <td>9/14/2015 14:49</td>\n      <td>2</td>\n      <td>3</td>\n      <td>66</td>\n      <td>258</td>\n      <td>34156</td>\n      <td>1508.5975</td>\n      <td>28</td>\n      <td>...</td>\n      <td>9/14/2015</td>\n      <td>9/16/2015</td>\n      <td>2</td>\n      <td>0</td>\n      <td>1</td>\n      <td>8250</td>\n      <td>1</td>\n      <td>2</td>\n      <td>50</td>\n      <td>628</td>\n    </tr>\n    <tr>\n      <th>4</th>\n      <td>4</td>\n      <td>4</td>\n      <td>7/17/2015 9:32</td>\n      <td>2</td>\n      <td>3</td>\n      <td>66</td>\n      <td>467</td>\n      <td>36345</td>\n      <td>66.7913</td>\n      <td>50</td>\n      <td>...</td>\n      <td>7/22/2015</td>\n      <td>7/23/2015</td>\n      <td>2</td>\n      <td>0</td>\n      <td>1</td>\n      <td>11812</td>\n      <td>1</td>\n      <td>2</td>\n      <td>50</td>\n      <td>538</td>\n    </tr>\n  </tbody>\n</table>\n<p>5 rows × 23 columns</p>\n</div>"
          },
          "metadata": {}
        }
      ]
    },
    {
      "cell_type": "markdown",
      "source": [
        "## 1.3. Looking for Missing Value in Dataset"
      ],
      "metadata": {
        "_uuid": "340d4619-92cc-4ae5-8bb1-6e1adb3c0bb0",
        "_cell_guid": "402570d8-9f8a-4959-aa44-eb13c899921e",
        "trusted": true,
        "id": "Q78FZhmkH9n2"
      }
    },
    {
      "cell_type": "code",
      "source": [
        "missing_data = pd.DataFrame({'total_missing': df_train.isnull().sum(), 'perc_missing': (df_train.isnull().sum()/len(df_train.index))*100}) \n",
        "missing_data"
      ],
      "metadata": {
        "_uuid": "6f73e2bd-14ca-4f20-ba15-67e0650fe9d4",
        "_cell_guid": "5c63bd59-e053-4d77-87cc-be2a31e3b52d",
        "jupyter": {
          "outputs_hidden": false
        },
        "execution": {
          "iopub.status.busy": "2021-07-19T16:18:20.340608Z",
          "iopub.execute_input": "2021-07-19T16:18:20.340990Z",
          "iopub.status.idle": "2021-07-19T16:18:20.480651Z",
          "shell.execute_reply.started": "2021-07-19T16:18:20.340950Z",
          "shell.execute_reply": "2021-07-19T16:18:20.479332Z"
        },
        "trusted": true,
        "id": "IBBqcihcH9n3",
        "outputId": "51a98765-f4be-4b43-99f4-4c1850cacd8e"
      },
      "execution_count": null,
      "outputs": [
        {
          "execution_count": 8,
          "output_type": "execute_result",
          "data": {
            "text/plain": "                   total_missing  perc_missing\nUnnamed: 0                     0      0.000000\ntime_date                      0      0.000000\nsite                           0      0.000000\ncontinent_id                   0      0.000000\nbuyer_country                  0      0.000000\nbuyer_region                   0      0.000000\nbuyer_city                     0      0.000000\ndistance                  197898     57.598310\nbuyer_id                       0      0.000000\nmobile                         0      0.000000\npackage                        0      0.000000\nchannel_id                     0      0.000000\nbuying_date                  698      0.203153\ndealing_date                 698      0.203153\nadults                         0      0.000000\nchildren                       0      0.000000\nroom                           0      0.000000\ndestination_id                 0      0.000000\ndestination_type               0      0.000000\ndealing                        0      0.000000\nregency_continent              0      0.000000\nregency_country                0      0.000000\nregency_market                 0      0.000000\ncnt                            0      0.000000\nregency_cluster                0      0.000000",
            "text/html": "<div>\n<style scoped>\n    .dataframe tbody tr th:only-of-type {\n        vertical-align: middle;\n    }\n\n    .dataframe tbody tr th {\n        vertical-align: top;\n    }\n\n    .dataframe thead th {\n        text-align: right;\n    }\n</style>\n<table border=\"1\" class=\"dataframe\">\n  <thead>\n    <tr style=\"text-align: right;\">\n      <th></th>\n      <th>total_missing</th>\n      <th>perc_missing</th>\n    </tr>\n  </thead>\n  <tbody>\n    <tr>\n      <th>Unnamed: 0</th>\n      <td>0</td>\n      <td>0.000000</td>\n    </tr>\n    <tr>\n      <th>time_date</th>\n      <td>0</td>\n      <td>0.000000</td>\n    </tr>\n    <tr>\n      <th>site</th>\n      <td>0</td>\n      <td>0.000000</td>\n    </tr>\n    <tr>\n      <th>continent_id</th>\n      <td>0</td>\n      <td>0.000000</td>\n    </tr>\n    <tr>\n      <th>buyer_country</th>\n      <td>0</td>\n      <td>0.000000</td>\n    </tr>\n    <tr>\n      <th>buyer_region</th>\n      <td>0</td>\n      <td>0.000000</td>\n    </tr>\n    <tr>\n      <th>buyer_city</th>\n      <td>0</td>\n      <td>0.000000</td>\n    </tr>\n    <tr>\n      <th>distance</th>\n      <td>197898</td>\n      <td>57.598310</td>\n    </tr>\n    <tr>\n      <th>buyer_id</th>\n      <td>0</td>\n      <td>0.000000</td>\n    </tr>\n    <tr>\n      <th>mobile</th>\n      <td>0</td>\n      <td>0.000000</td>\n    </tr>\n    <tr>\n      <th>package</th>\n      <td>0</td>\n      <td>0.000000</td>\n    </tr>\n    <tr>\n      <th>channel_id</th>\n      <td>0</td>\n      <td>0.000000</td>\n    </tr>\n    <tr>\n      <th>buying_date</th>\n      <td>698</td>\n      <td>0.203153</td>\n    </tr>\n    <tr>\n      <th>dealing_date</th>\n      <td>698</td>\n      <td>0.203153</td>\n    </tr>\n    <tr>\n      <th>adults</th>\n      <td>0</td>\n      <td>0.000000</td>\n    </tr>\n    <tr>\n      <th>children</th>\n      <td>0</td>\n      <td>0.000000</td>\n    </tr>\n    <tr>\n      <th>room</th>\n      <td>0</td>\n      <td>0.000000</td>\n    </tr>\n    <tr>\n      <th>destination_id</th>\n      <td>0</td>\n      <td>0.000000</td>\n    </tr>\n    <tr>\n      <th>destination_type</th>\n      <td>0</td>\n      <td>0.000000</td>\n    </tr>\n    <tr>\n      <th>dealing</th>\n      <td>0</td>\n      <td>0.000000</td>\n    </tr>\n    <tr>\n      <th>regency_continent</th>\n      <td>0</td>\n      <td>0.000000</td>\n    </tr>\n    <tr>\n      <th>regency_country</th>\n      <td>0</td>\n      <td>0.000000</td>\n    </tr>\n    <tr>\n      <th>regency_market</th>\n      <td>0</td>\n      <td>0.000000</td>\n    </tr>\n    <tr>\n      <th>cnt</th>\n      <td>0</td>\n      <td>0.000000</td>\n    </tr>\n    <tr>\n      <th>regency_cluster</th>\n      <td>0</td>\n      <td>0.000000</td>\n    </tr>\n  </tbody>\n</table>\n</div>"
          },
          "metadata": {}
        }
      ]
    },
    {
      "cell_type": "code",
      "source": [
        "missing_data = pd.DataFrame({'total_missing': df_test.isnull().sum(), 'perc_missing': (df_test.isnull().sum()/len(df_test.index))*100}) \n",
        "missing_data"
      ],
      "metadata": {
        "_uuid": "67f7ec7f-edc3-4774-b426-cac86a2c5d93",
        "_cell_guid": "9e1c307f-a78d-4ab3-9106-fe600385ceca",
        "jupyter": {
          "outputs_hidden": false
        },
        "execution": {
          "iopub.status.busy": "2021-07-19T16:18:20.483363Z",
          "iopub.execute_input": "2021-07-19T16:18:20.483681Z",
          "iopub.status.idle": "2021-07-19T16:18:20.508279Z",
          "shell.execute_reply.started": "2021-07-19T16:18:20.483649Z",
          "shell.execute_reply": "2021-07-19T16:18:20.507233Z"
        },
        "trusted": true,
        "id": "HLu1twJhH9n5",
        "outputId": "a172c671-064e-4563-a725-60120ea85039"
      },
      "execution_count": null,
      "outputs": [
        {
          "execution_count": 9,
          "output_type": "execute_result",
          "data": {
            "text/plain": "                   total_missing  perc_missing\nUnnamed: 0                     0       0.00000\nid                             0       0.00000\ntime_date                      0       0.00000\nsite                           0       0.00000\ncontinent_id                   0       0.00000\nbuyer_country                  0       0.00000\nbuyer_region                   0       0.00000\nbuyer_city                     0       0.00000\ndistance                    9851      46.86935\nbuyer_id                       0       0.00000\nmobile                         0       0.00000\npackage                        0       0.00000\nchannel_id                     0       0.00000\nbuying_date                    0       0.00000\ndealing_date                   0       0.00000\nadults                         0       0.00000\nchildren                       0       0.00000\nroom                           0       0.00000\ndestination_id                 0       0.00000\ndestination_type               0       0.00000\nregency_continent              0       0.00000\nregency_country                0       0.00000\nregency_market                 0       0.00000",
            "text/html": "<div>\n<style scoped>\n    .dataframe tbody tr th:only-of-type {\n        vertical-align: middle;\n    }\n\n    .dataframe tbody tr th {\n        vertical-align: top;\n    }\n\n    .dataframe thead th {\n        text-align: right;\n    }\n</style>\n<table border=\"1\" class=\"dataframe\">\n  <thead>\n    <tr style=\"text-align: right;\">\n      <th></th>\n      <th>total_missing</th>\n      <th>perc_missing</th>\n    </tr>\n  </thead>\n  <tbody>\n    <tr>\n      <th>Unnamed: 0</th>\n      <td>0</td>\n      <td>0.00000</td>\n    </tr>\n    <tr>\n      <th>id</th>\n      <td>0</td>\n      <td>0.00000</td>\n    </tr>\n    <tr>\n      <th>time_date</th>\n      <td>0</td>\n      <td>0.00000</td>\n    </tr>\n    <tr>\n      <th>site</th>\n      <td>0</td>\n      <td>0.00000</td>\n    </tr>\n    <tr>\n      <th>continent_id</th>\n      <td>0</td>\n      <td>0.00000</td>\n    </tr>\n    <tr>\n      <th>buyer_country</th>\n      <td>0</td>\n      <td>0.00000</td>\n    </tr>\n    <tr>\n      <th>buyer_region</th>\n      <td>0</td>\n      <td>0.00000</td>\n    </tr>\n    <tr>\n      <th>buyer_city</th>\n      <td>0</td>\n      <td>0.00000</td>\n    </tr>\n    <tr>\n      <th>distance</th>\n      <td>9851</td>\n      <td>46.86935</td>\n    </tr>\n    <tr>\n      <th>buyer_id</th>\n      <td>0</td>\n      <td>0.00000</td>\n    </tr>\n    <tr>\n      <th>mobile</th>\n      <td>0</td>\n      <td>0.00000</td>\n    </tr>\n    <tr>\n      <th>package</th>\n      <td>0</td>\n      <td>0.00000</td>\n    </tr>\n    <tr>\n      <th>channel_id</th>\n      <td>0</td>\n      <td>0.00000</td>\n    </tr>\n    <tr>\n      <th>buying_date</th>\n      <td>0</td>\n      <td>0.00000</td>\n    </tr>\n    <tr>\n      <th>dealing_date</th>\n      <td>0</td>\n      <td>0.00000</td>\n    </tr>\n    <tr>\n      <th>adults</th>\n      <td>0</td>\n      <td>0.00000</td>\n    </tr>\n    <tr>\n      <th>children</th>\n      <td>0</td>\n      <td>0.00000</td>\n    </tr>\n    <tr>\n      <th>room</th>\n      <td>0</td>\n      <td>0.00000</td>\n    </tr>\n    <tr>\n      <th>destination_id</th>\n      <td>0</td>\n      <td>0.00000</td>\n    </tr>\n    <tr>\n      <th>destination_type</th>\n      <td>0</td>\n      <td>0.00000</td>\n    </tr>\n    <tr>\n      <th>regency_continent</th>\n      <td>0</td>\n      <td>0.00000</td>\n    </tr>\n    <tr>\n      <th>regency_country</th>\n      <td>0</td>\n      <td>0.00000</td>\n    </tr>\n    <tr>\n      <th>regency_market</th>\n      <td>0</td>\n      <td>0.00000</td>\n    </tr>\n  </tbody>\n</table>\n</div>"
          },
          "metadata": {}
        }
      ]
    },
    {
      "cell_type": "markdown",
      "source": [
        "## 1.4. Count the values each column"
      ],
      "metadata": {
        "_uuid": "41c8dec3-030b-4bb0-b021-a3ddf77df62b",
        "_cell_guid": "fc86f28f-eaab-43a4-ae27-7a69e269ebaa",
        "trusted": true,
        "id": "VA8_JxdKH9n6"
      }
    },
    {
      "cell_type": "code",
      "source": [
        "for column in df_train.columns:\n",
        "    print(\"Nilai unik pada variabel \"+column)\n",
        "    print(df_train[column].value_counts())\n",
        "    print(\"\\n\\n\")"
      ],
      "metadata": {
        "_uuid": "81d8ab47-e991-46f5-bce5-4feaae45c348",
        "_cell_guid": "7eaa480a-36d3-4417-a222-62bf9a8079ca",
        "jupyter": {
          "outputs_hidden": false
        },
        "execution": {
          "iopub.status.busy": "2021-07-19T16:18:20.510659Z",
          "iopub.execute_input": "2021-07-19T16:18:20.511094Z",
          "iopub.status.idle": "2021-07-19T16:18:21.005871Z",
          "shell.execute_reply.started": "2021-07-19T16:18:20.511048Z",
          "shell.execute_reply": "2021-07-19T16:18:21.004763Z"
        },
        "trusted": true,
        "id": "xoAcUc1vH9n6",
        "outputId": "8f62cb54-3ff9-427a-d69c-6994a47717d4"
      },
      "execution_count": null,
      "outputs": [
        {
          "name": "stdout",
          "text": "Nilai unik pada variabel Unnamed: 0\n0           1\n7798133     1\n22514126    1\n10925698    1\n14079344    1\n           ..\n6941288     1\n19501671    1\n18148313    1\n3244645     1\n2047        1\nName: Unnamed: 0, Length: 343583, dtype: int64\n\n\n\nNilai unik pada variabel time_date\n11/23/2014 11:37    15\n7/13/2014 23:24     15\n10/26/2014 16:39    13\n10/25/2014 14:15    13\n4/21/2013 1:51      11\n                    ..\n12/10/2014 6:08      1\n5/15/2014 9:14       1\n9/20/2014 22:51      1\n8/13/2014 23:42      1\n7/14/2013 18:56      1\nName: time_date, Length: 255587, dtype: int64\n\n\n\nNilai unik pada variabel site\n2     117070\n24    110851\n37     16744\n23     15969\n8      15963\n13     12015\n34     10685\n11      8788\n28      7174\n25      3913\n17      3740\n30      3147\n15      2492\n33      2476\n18      2304\n35      2063\n26      1866\n20      1334\n27      1331\n22      1226\n10       822\n31       506\n36       451\n7        403\n48       121\n6         64\n47        39\n46        22\n19         2\n16         2\nName: site, dtype: int64\n\n\n\nNilai unik pada variabel continent_id\n3    136545\n2    126637\n1     58539\n4     19110\n0      2752\nName: continent_id, dtype: int64\n\n\n\nNilai unik pada variabel buyer_country\n66     104621\n3      102033\n205     18698\n69      15659\n1       15582\n        ...  \n116         2\n127         2\n172         2\n176         2\n112         2\nName: buyer_country, Length: 155, dtype: int64\n\n\n\nNilai unik pada variabel buyer_region\n50     45469\n174    21679\n51     11420\n64     11066\n48      9263\n       ...  \n320        1\n830        1\n569        1\n808        1\n888        1\nName: buyer_region, Length: 653, dtype: int64\n\n\n\nNilai unik pada variabel buyer_city\n5703     34509\n3169      7812\n5224      5512\n48862     3401\n4924      3228\n         ...  \n48688        1\n4282         1\n55459        1\n53166        1\n46266        1\nName: buyer_city, Length: 7256, dtype: int64\n\n\n\nNilai unik pada variabel distance\n599.5329     173\n1419.7708     72\n86.7781       68\n1398.3504     61\n1725.0137     47\n            ... \n579.5027       1\n1047.6976      1\n271.2244       1\n3522.0209      1\n3427.3763      1\nName: distance, Length: 98335, dtype: int64\n\n\n\nNilai unik pada variabel buyer_id\n9684    426\n3839    416\n3818    411\n5927    407\n2571    398\n       ... \n6097      2\n6444      2\n8082      2\n2175      2\n7348      2\nName: buyer_id, Length: 10000, dtype: int64\n\n\n\nNilai unik pada variabel mobile\n0    305618\n1     37965\nName: mobile, dtype: int64\n\n\n\nNilai unik pada variabel package\n0    266689\n1     76894\nName: package, dtype: int64\n\n\n\nNilai unik pada variabel channel_id\n9     158527\n1      45771\n0      40854\n5      36076\n2      29202\n3      14747\n4      12949\n7       4336\n8        610\n6        476\n10        35\nName: channel_id, dtype: int64\n\n\n\nNilai unik pada variabel buying_date\n12/26/2014    2392\n12/27/2014    2336\n12/30/2014    2188\n12/28/2014    1960\n12/31/2014    1835\n              ... \n12/5/2015        1\n11/19/2015       1\n12/14/2015       1\n11/6/2015        1\n11/25/2015       1\nName: buying_date, Length: 1076, dtype: int64\n\n\n\nNilai unik pada variabel dealing_date\n1/2/2015      2530\n1/1/2015      2217\n1/3/2015      2115\n12/28/2014    1987\n12/30/2014    1961\n              ... \n12/9/2015        1\n12/14/2015       1\n12/7/2015        1\n1/6/2016         1\n1/11/2016        1\nName: dealing_date, Length: 1083, dtype: int64\n\n\n\nNilai unik pada variabel adults\n2    213327\n1     88624\n3     18629\n4     15643\n5      2839\n6      2613\n8       830\n0       485\n7       441\n9       152\nName: adults, dtype: int64\n\n\n\nNilai unik pada variabel children\n0    276871\n1     40895\n2     21699\n3      3024\n4       883\n5       111\n6        92\n7         7\n9         1\nName: children, dtype: int64\n\n\n\nNilai unik pada variabel room\n1    314286\n2     22370\n3      4350\n4      1126\n5       595\n8       461\n6       262\n7       132\n0         1\nName: room, dtype: int64\n\n\n\nNilai unik pada variabel destination_id\n8267     9510\n8250     8631\n8220     6062\n8745     5830\n8282     5483\n         ... \n1453        1\n23005       1\n16862       1\n10963       1\n24670       1\nName: destination_id, Length: 9831, dtype: int64\n\n\n\nNilai unik pada variabel destination_type\n1    216503\n6     78160\n3     26305\n5     13609\n4      8073\n8       887\n7        28\n9        18\nName: destination_type, dtype: int64\n\n\n\nNilai unik pada variabel dealing\n0    317656\n1     25927\nName: dealing, dtype: int64\n\n\n\nNilai unik pada variabel regency_continent\n1     254880\n2      52116\n3      18985\n4       7773\n5       4025\n6       2148\n7       1274\n8        788\n9        482\n10       319\n11       212\n12       147\n13        96\n14        80\n15        70\n16        51\n17        29\n18        23\n19        18\n20        15\n21        10\n23         6\n22         5\n33         5\n24         4\n25         3\n30         3\n44         2\n36         2\n37         2\n38         1\n45         1\n42         1\n39         1\n31         1\n29         1\n28         1\n27         1\n26         1\n47         1\nName: regency_continent, dtype: int64\n\n\n\nNilai unik pada variabel regency_country\n2    128315\n3     93083\n6     84441\n4     25117\n0      9182\n5      3445\nName: regency_country, dtype: int64\n\n\n\nNilai unik pada variabel regency_market\n50     118803\n182     18013\n105     14756\n204     12706\n70      12705\n        ...  \n29          2\n184         1\n30          1\n190         1\n33          1\nName: regency_market, Length: 179, dtype: int64\n\n\n\nNilai unik pada variabel cnt\n675     12841\n628     11147\n46       9500\n212      8992\n19       8844\n        ...  \n1369        1\n2069        1\n2026        1\n2009        1\n170         1\nName: cnt, Length: 1906, dtype: int64\n\n\n\nNilai unik pada variabel regency_cluster\n64    8077\n62    7486\n46    7195\n5     7041\n36    6491\n      ... \n71    1197\n27     998\n88     920\n24     897\n74     324\nName: regency_cluster, Length: 100, dtype: int64\n\n\n\n",
          "output_type": "stream"
        }
      ]
    },
    {
      "cell_type": "code",
      "source": [
        "for column in df_test.columns:\n",
        "    print(\"Nilai unik pada variabel \"+column)\n",
        "    print(df_test[column].value_counts())\n",
        "    print(\"\\n\\n\")"
      ],
      "metadata": {
        "_uuid": "931a76b3-8569-4e50-82e1-50c26c98f0ba",
        "_cell_guid": "85d8f42e-d3e0-41bb-a1f3-f81cb1c8477b",
        "jupyter": {
          "outputs_hidden": false
        },
        "execution": {
          "iopub.status.busy": "2021-07-19T16:18:21.007200Z",
          "iopub.execute_input": "2021-07-19T16:18:21.007593Z",
          "iopub.status.idle": "2021-07-19T16:18:21.075248Z",
          "shell.execute_reply.started": "2021-07-19T16:18:21.007544Z",
          "shell.execute_reply": "2021-07-19T16:18:21.074357Z"
        },
        "trusted": true,
        "id": "maDSsPTwH9n7",
        "outputId": "f74ec58d-715c-4a12-8e55-dbb56793d55c"
      },
      "execution_count": null,
      "outputs": [
        {
          "name": "stdout",
          "text": "Nilai unik pada variabel Unnamed: 0\n0          1\n1447256    1\n2168770    1\n2170873    1\n1447737    1\n          ..\n1446223    1\n2169062    1\n1808188    1\n362590     1\n2047       1\nName: Unnamed: 0, Length: 21018, dtype: int64\n\n\n\nNilai unik pada variabel id\n0          1\n1447256    1\n2168770    1\n2170873    1\n1447737    1\n          ..\n1446223    1\n2169062    1\n1808188    1\n362590     1\n2047       1\nName: id, Length: 21018, dtype: int64\n\n\n\nNilai unik pada variabel time_date\n11/2/2015 11:53    3\n2/19/2015 18:27    3\n1/26/2015 19:14    3\n2/27/2015 11:11    3\n6/20/2015 18:05    3\n                  ..\n11/17/2015 8:08    1\n4/17/2015 22:16    1\n7/21/2015 1:03     1\n10/26/2015 9:59    1\n6/16/2015 19:36    1\nName: time_date, Length: 20479, dtype: int64\n\n\n\nNilai unik pada variabel site\n2     9356\n24    4389\n37    1109\n13    1018\n8      941\n11     797\n23     749\n34     690\n28     566\n30     190\n25     189\n17     176\n26     147\n33     133\n18     107\n15     104\n10      79\n20      68\n27      51\n35      47\n7       36\n36      24\n22      22\n48       9\n31       8\n6        5\n46       3\n47       3\n52       1\n50       1\nName: site, dtype: int64\n\n\n\nNilai unik pada variabel continent_id\n3    10844\n2     5053\n1     3758\n4     1132\n0      231\nName: continent_id, dtype: int64\n\n\n\nNilai unik pada variabel buyer_country\n66     8518\n3      3992\n205    1437\n69     1024\n46      942\n       ... \n72        1\n117       1\n53        1\n173       1\n239       1\nName: buyer_country, Length: 128, dtype: int64\n\n\n\nNilai unik pada variabel buyer_region\n50     2002\n174    1662\n348     702\n442     662\n354     623\n       ... \n650       1\n810       1\n954       1\n970       1\n999       1\nName: buyer_region, Length: 528, dtype: int64\n\n\n\nNilai unik pada variabel buyer_city\n5224     1084\n5703      674\n3169      303\n48862     277\n25315     201\n         ... \n4328        1\n30933       1\n51661       1\n35003       1\n20470       1\nName: buyer_city, Length: 4251, dtype: int64\n\n\n\nNilai unik pada variabel distance\n382.7467     3\n133.5439     3\n342.4331     2\n8.6831       2\n167.5551     2\n            ..\n5849.4645    1\n454.2500     1\n78.9002      1\n5026.4788    1\n1.1607       1\nName: distance, Length: 11120, dtype: int64\n\n\n\nNilai unik pada variabel buyer_id\n5795    55\n2984    47\n4794    42\n983     37\n9766    37\n        ..\n2664     1\n8797     1\n4699     1\n6746     1\n2047     1\nName: buyer_id, Length: 9864, dtype: int64\n\n\n\nNilai unik pada variabel mobile\n0    18388\n1     2630\nName: mobile, dtype: int64\n\n\n\nNilai unik pada variabel package\n0    18817\n1     2201\nName: package, dtype: int64\n\n\n\nNilai unik pada variabel channel_id\n10    7135\n9     3189\n5     2701\n0     2431\n1     1769\n2     1627\n3     1142\n4      879\n7      103\n8       31\n6       11\nName: channel_id, dtype: int64\n\n\n\nNilai unik pada variabel buying_date\n5/1/2015      110\n8/8/2015      108\n9/18/2015     102\n12/26/2015    102\n8/15/2015     101\n             ... \n7/14/2016       1\n9/9/2016        1\n9/4/2016        1\n4/12/2016       1\n10/21/2016      1\nName: buying_date, Length: 622, dtype: int64\n\n\n\nNilai unik pada variabel dealing_date\n8/16/2015     126\n9/27/2015     116\n9/6/2015      107\n5/3/2015      107\n8/9/2015      107\n             ... \n3/2/2016        1\n12/10/2016      1\n4/24/2016       1\n9/6/2016        1\n7/8/2016        1\nName: dealing_date, Length: 615, dtype: int64\n\n\n\nNilai unik pada variabel adults\n2    12442\n1     6066\n3     1109\n4     1026\n6      155\n5      137\n8       56\n9       14\n0        7\n7        6\nName: adults, dtype: int64\n\n\n\nNilai unik pada variabel children\n0    18216\n1     1334\n2     1220\n3      160\n4       56\n5       20\n6       10\n7        2\nName: children, dtype: int64\n\n\n\nNilai unik pada variabel room\n1    18959\n2     1597\n3      298\n4       76\n5       42\n6       22\n8       12\n7       10\n0        2\nName: room, dtype: int64\n\n\n\nNilai unik pada variabel destination_id\n8250     410\n8267     346\n8745     226\n8253     206\n8220     185\n        ... \n26074      1\n3575       1\n22012      1\n17918      1\n2047       1\nName: destination_id, Length: 5237, dtype: int64\n\n\n\nNilai unik pada variabel destination_type\n1    11676\n6     6002\n3     1738\n5      855\n4      572\n8      132\n7       36\n9        7\nName: destination_type, dtype: int64\n\n\n\nNilai unik pada variabel regency_continent\n2    9981\n6    5335\n3    3821\n4    1010\n0     676\n5     192\n1       3\nName: regency_continent, dtype: int64\n\n\n\nNilai unik pada variabel regency_country\n50     8909\n198    1072\n105     980\n70      794\n106     673\n       ... \n55        1\n14        1\n205       1\n29        1\n118       1\nName: regency_country, Length: 153, dtype: int64\n\n\n\nNilai unik pada variabel regency_market\n628     545\n675     501\n19      363\n365     362\n46      297\n       ... \n1021      1\n251       1\n981       1\n997       1\n2015      1\nName: regency_market, Length: 1663, dtype: int64\n\n\n\n",
          "output_type": "stream"
        }
      ]
    },
    {
      "cell_type": "markdown",
      "source": [
        "Ada berberapa langkah yang harus dilakukan :\n",
        "\n",
        "-Ngilangin row yang ada missing valuenya (buying_date, dealing_date)\n",
        "\n",
        "-Ngilangin coloumn yang missing valuenya banyak (Distance)\n",
        "\n",
        "-swapping Regency_continent and regency_country \n",
        "\n",
        "-Buat fitur baru buat handling time series :\n",
        "\n",
        " -Jeda hari antara time_date dengan buying_date\n",
        " \n",
        " -Jeda hari antara time_date dengan dealing_date\n",
        " \n",
        " -Jeda hari antara buying_date dengan dealing_date\n",
        " \n",
        " -Hapus time series\n",
        " \n",
        "-person = adult + child\n",
        "\n",
        "-Jumlahin adult dan child terus dibagi sama roomnya (person/room ratio)"
      ],
      "metadata": {
        "_uuid": "c4949573-93d8-487d-8d2d-c453659e139a",
        "_cell_guid": "e2b878ac-2b0e-417b-bf5d-a164d0b39967",
        "trusted": true,
        "id": "1IaKTwH2H9n7"
      }
    },
    {
      "cell_type": "code",
      "source": [
        "#Menghapus Kolom yang ada missing valuenya\n",
        "df_train = df_train.drop(columns=[\"distance\"])\n",
        "df_test = df_test.drop(columns=[\"distance\"])"
      ],
      "metadata": {
        "_uuid": "0be3d17c-4645-4198-9197-b8af79a4942b",
        "_cell_guid": "86aa0d7e-252d-45a6-a301-967597ecde0a",
        "jupyter": {
          "outputs_hidden": false
        },
        "execution": {
          "iopub.status.busy": "2021-07-19T16:18:21.076331Z",
          "iopub.execute_input": "2021-07-19T16:18:21.076785Z",
          "iopub.status.idle": "2021-07-19T16:18:21.113494Z",
          "shell.execute_reply.started": "2021-07-19T16:18:21.076742Z",
          "shell.execute_reply": "2021-07-19T16:18:21.112713Z"
        },
        "trusted": true,
        "id": "oRfNhcFIH9n8"
      },
      "execution_count": null,
      "outputs": []
    },
    {
      "cell_type": "code",
      "source": [
        "#Menghapus Row yang ada missing valuenya\n",
        "df_train.dropna(inplace=True)\n",
        "df_test.dropna(inplace=True)"
      ],
      "metadata": {
        "_uuid": "b765831c-7fe8-4d5f-8299-e351d825d1a8",
        "_cell_guid": "235b870f-4065-4819-a765-a92f0d0ba085",
        "jupyter": {
          "outputs_hidden": false
        },
        "execution": {
          "iopub.status.busy": "2021-07-19T16:18:21.115489Z",
          "iopub.execute_input": "2021-07-19T16:18:21.115800Z",
          "iopub.status.idle": "2021-07-19T16:18:21.235930Z",
          "shell.execute_reply.started": "2021-07-19T16:18:21.115772Z",
          "shell.execute_reply": "2021-07-19T16:18:21.235105Z"
        },
        "trusted": true,
        "id": "GS556n9ZH9n8"
      },
      "execution_count": null,
      "outputs": []
    },
    {
      "cell_type": "code",
      "source": [
        "df_train.head(10)"
      ],
      "metadata": {
        "_uuid": "4e9e7439-1258-4bd4-986f-43f6857f171d",
        "_cell_guid": "bd359213-e56c-464b-9940-9715fecfcf4c",
        "jupyter": {
          "outputs_hidden": false
        },
        "execution": {
          "iopub.status.busy": "2021-07-19T16:18:21.239486Z",
          "iopub.execute_input": "2021-07-19T16:18:21.239888Z",
          "iopub.status.idle": "2021-07-19T16:18:21.262199Z",
          "shell.execute_reply.started": "2021-07-19T16:18:21.239843Z",
          "shell.execute_reply": "2021-07-19T16:18:21.261319Z"
        },
        "trusted": true,
        "id": "XMIpQFYRH9n9",
        "outputId": "940cb120-b0fa-4236-e2ab-adbc6065b2a5"
      },
      "execution_count": null,
      "outputs": [
        {
          "execution_count": 14,
          "output_type": "execute_result",
          "data": {
            "text/plain": "   Unnamed: 0       time_date  site  continent_id  buyer_country  \\\n0           0  8/11/2014 7:46     2             3             66   \n1           1  8/11/2014 8:22     2             3             66   \n2           2  8/11/2014 8:24     2             3             66   \n3           3  8/9/2014 18:05     2             3             66   \n4           4  8/9/2014 18:08     2             3             66   \n5           5  8/9/2014 18:13     2             3             66   \n6           6  7/16/2014 9:42     2             3             66   \n7           7  7/16/2014 9:45     2             3             66   \n8           8  7/16/2014 9:52     2             3             66   \n9           9  7/16/2014 9:55     2             3             66   \n\n   buyer_region  buyer_city  buyer_id  mobile  package  ...  children room  \\\n0           348       48862        12       0        1  ...         0    1   \n1           348       48862        12       0        1  ...         0    1   \n2           348       48862        12       0        0  ...         0    1   \n3           442       35390        93       0        0  ...         0    1   \n4           442       35390        93       0        0  ...         0    1   \n5           442       35390        93       0        0  ...         0    1   \n6           189       10067       501       0        0  ...         0    1   \n7           189       10067       501       0        1  ...         0    1   \n8           189       10067       501       0        0  ...         0    1   \n9           189       10067       501       0        0  ...         0    1   \n\n  destination_id  destination_type  dealing  regency_continent  \\\n0           8250                 1        0                  3   \n1           8250                 1        1                  1   \n2           8250                 1        0                  1   \n3          14984                 1        0                  1   \n4          14984                 1        0                  1   \n5          14984                 1        0                  1   \n6           8267                 1        0                  2   \n7           8267                 1        0                  1   \n8           8267                 1        0                  1   \n9           8267                 1        0                  1   \n\n   regency_country  regency_market   cnt  regency_cluster  \n0                2              50   628                1  \n1                2              50   628                1  \n2                2              50   628                1  \n3                2              50  1457               80  \n4                2              50  1457               21  \n5                2              50  1457               92  \n6                2              50   675               41  \n7                2              50   675               41  \n8                2              50   675               69  \n9                2              50   675               70  \n\n[10 rows x 24 columns]",
            "text/html": "<div>\n<style scoped>\n    .dataframe tbody tr th:only-of-type {\n        vertical-align: middle;\n    }\n\n    .dataframe tbody tr th {\n        vertical-align: top;\n    }\n\n    .dataframe thead th {\n        text-align: right;\n    }\n</style>\n<table border=\"1\" class=\"dataframe\">\n  <thead>\n    <tr style=\"text-align: right;\">\n      <th></th>\n      <th>Unnamed: 0</th>\n      <th>time_date</th>\n      <th>site</th>\n      <th>continent_id</th>\n      <th>buyer_country</th>\n      <th>buyer_region</th>\n      <th>buyer_city</th>\n      <th>buyer_id</th>\n      <th>mobile</th>\n      <th>package</th>\n      <th>...</th>\n      <th>children</th>\n      <th>room</th>\n      <th>destination_id</th>\n      <th>destination_type</th>\n      <th>dealing</th>\n      <th>regency_continent</th>\n      <th>regency_country</th>\n      <th>regency_market</th>\n      <th>cnt</th>\n      <th>regency_cluster</th>\n    </tr>\n  </thead>\n  <tbody>\n    <tr>\n      <th>0</th>\n      <td>0</td>\n      <td>8/11/2014 7:46</td>\n      <td>2</td>\n      <td>3</td>\n      <td>66</td>\n      <td>348</td>\n      <td>48862</td>\n      <td>12</td>\n      <td>0</td>\n      <td>1</td>\n      <td>...</td>\n      <td>0</td>\n      <td>1</td>\n      <td>8250</td>\n      <td>1</td>\n      <td>0</td>\n      <td>3</td>\n      <td>2</td>\n      <td>50</td>\n      <td>628</td>\n      <td>1</td>\n    </tr>\n    <tr>\n      <th>1</th>\n      <td>1</td>\n      <td>8/11/2014 8:22</td>\n      <td>2</td>\n      <td>3</td>\n      <td>66</td>\n      <td>348</td>\n      <td>48862</td>\n      <td>12</td>\n      <td>0</td>\n      <td>1</td>\n      <td>...</td>\n      <td>0</td>\n      <td>1</td>\n      <td>8250</td>\n      <td>1</td>\n      <td>1</td>\n      <td>1</td>\n      <td>2</td>\n      <td>50</td>\n      <td>628</td>\n      <td>1</td>\n    </tr>\n    <tr>\n      <th>2</th>\n      <td>2</td>\n      <td>8/11/2014 8:24</td>\n      <td>2</td>\n      <td>3</td>\n      <td>66</td>\n      <td>348</td>\n      <td>48862</td>\n      <td>12</td>\n      <td>0</td>\n      <td>0</td>\n      <td>...</td>\n      <td>0</td>\n      <td>1</td>\n      <td>8250</td>\n      <td>1</td>\n      <td>0</td>\n      <td>1</td>\n      <td>2</td>\n      <td>50</td>\n      <td>628</td>\n      <td>1</td>\n    </tr>\n    <tr>\n      <th>3</th>\n      <td>3</td>\n      <td>8/9/2014 18:05</td>\n      <td>2</td>\n      <td>3</td>\n      <td>66</td>\n      <td>442</td>\n      <td>35390</td>\n      <td>93</td>\n      <td>0</td>\n      <td>0</td>\n      <td>...</td>\n      <td>0</td>\n      <td>1</td>\n      <td>14984</td>\n      <td>1</td>\n      <td>0</td>\n      <td>1</td>\n      <td>2</td>\n      <td>50</td>\n      <td>1457</td>\n      <td>80</td>\n    </tr>\n    <tr>\n      <th>4</th>\n      <td>4</td>\n      <td>8/9/2014 18:08</td>\n      <td>2</td>\n      <td>3</td>\n      <td>66</td>\n      <td>442</td>\n      <td>35390</td>\n      <td>93</td>\n      <td>0</td>\n      <td>0</td>\n      <td>...</td>\n      <td>0</td>\n      <td>1</td>\n      <td>14984</td>\n      <td>1</td>\n      <td>0</td>\n      <td>1</td>\n      <td>2</td>\n      <td>50</td>\n      <td>1457</td>\n      <td>21</td>\n    </tr>\n    <tr>\n      <th>5</th>\n      <td>5</td>\n      <td>8/9/2014 18:13</td>\n      <td>2</td>\n      <td>3</td>\n      <td>66</td>\n      <td>442</td>\n      <td>35390</td>\n      <td>93</td>\n      <td>0</td>\n      <td>0</td>\n      <td>...</td>\n      <td>0</td>\n      <td>1</td>\n      <td>14984</td>\n      <td>1</td>\n      <td>0</td>\n      <td>1</td>\n      <td>2</td>\n      <td>50</td>\n      <td>1457</td>\n      <td>92</td>\n    </tr>\n    <tr>\n      <th>6</th>\n      <td>6</td>\n      <td>7/16/2014 9:42</td>\n      <td>2</td>\n      <td>3</td>\n      <td>66</td>\n      <td>189</td>\n      <td>10067</td>\n      <td>501</td>\n      <td>0</td>\n      <td>0</td>\n      <td>...</td>\n      <td>0</td>\n      <td>1</td>\n      <td>8267</td>\n      <td>1</td>\n      <td>0</td>\n      <td>2</td>\n      <td>2</td>\n      <td>50</td>\n      <td>675</td>\n      <td>41</td>\n    </tr>\n    <tr>\n      <th>7</th>\n      <td>7</td>\n      <td>7/16/2014 9:45</td>\n      <td>2</td>\n      <td>3</td>\n      <td>66</td>\n      <td>189</td>\n      <td>10067</td>\n      <td>501</td>\n      <td>0</td>\n      <td>1</td>\n      <td>...</td>\n      <td>0</td>\n      <td>1</td>\n      <td>8267</td>\n      <td>1</td>\n      <td>0</td>\n      <td>1</td>\n      <td>2</td>\n      <td>50</td>\n      <td>675</td>\n      <td>41</td>\n    </tr>\n    <tr>\n      <th>8</th>\n      <td>8</td>\n      <td>7/16/2014 9:52</td>\n      <td>2</td>\n      <td>3</td>\n      <td>66</td>\n      <td>189</td>\n      <td>10067</td>\n      <td>501</td>\n      <td>0</td>\n      <td>0</td>\n      <td>...</td>\n      <td>0</td>\n      <td>1</td>\n      <td>8267</td>\n      <td>1</td>\n      <td>0</td>\n      <td>1</td>\n      <td>2</td>\n      <td>50</td>\n      <td>675</td>\n      <td>69</td>\n    </tr>\n    <tr>\n      <th>9</th>\n      <td>9</td>\n      <td>7/16/2014 9:55</td>\n      <td>2</td>\n      <td>3</td>\n      <td>66</td>\n      <td>189</td>\n      <td>10067</td>\n      <td>501</td>\n      <td>0</td>\n      <td>0</td>\n      <td>...</td>\n      <td>0</td>\n      <td>1</td>\n      <td>8267</td>\n      <td>1</td>\n      <td>0</td>\n      <td>1</td>\n      <td>2</td>\n      <td>50</td>\n      <td>675</td>\n      <td>70</td>\n    </tr>\n  </tbody>\n</table>\n<p>10 rows × 24 columns</p>\n</div>"
          },
          "metadata": {}
        }
      ]
    },
    {
      "cell_type": "code",
      "source": [
        "df_test.head(10)"
      ],
      "metadata": {
        "_uuid": "602957b0-05bc-4a21-8f51-df0dad5c888f",
        "_cell_guid": "e364bbf6-81ef-444c-8104-ab741828645a",
        "jupyter": {
          "outputs_hidden": false
        },
        "execution": {
          "iopub.status.busy": "2021-07-19T16:18:21.263277Z",
          "iopub.execute_input": "2021-07-19T16:18:21.263544Z",
          "iopub.status.idle": "2021-07-19T16:18:21.292445Z",
          "shell.execute_reply.started": "2021-07-19T16:18:21.263516Z",
          "shell.execute_reply": "2021-07-19T16:18:21.291454Z"
        },
        "trusted": true,
        "id": "0ZvDPJW9H9n9",
        "outputId": "27050c52-d55a-4b76-f2af-db7d5c6027ff"
      },
      "execution_count": null,
      "outputs": [
        {
          "execution_count": 15,
          "output_type": "execute_result",
          "data": {
            "text/plain": "   Unnamed: 0  id        time_date  site  continent_id  buyer_country  \\\n0           0   0   9/3/2015 17:09     2             3             66   \n1           1   1  9/24/2015 17:38     2             3             66   \n2           2   2   6/7/2015 15:53     2             3             66   \n3           3   3  9/14/2015 14:49     2             3             66   \n4           4   4   7/17/2015 9:32     2             3             66   \n5           5   5  7/21/2015 11:58     2             3             66   \n6           6   6   7/29/2015 7:58     2             3             66   \n7           7   7   8/1/2015 20:13     2             3             66   \n8           8   8  11/7/2015 12:29     2             3             66   \n9           9   9  11/8/2015 16:21     2             3             66   \n\n   buyer_region  buyer_city  buyer_id  mobile  ...  buying_date  dealing_date  \\\n0           174       37449         1       1  ...    5/19/2016     5/23/2016   \n1           174       37449         1       1  ...    5/12/2016     5/15/2016   \n2           142       17440        20       0  ...    7/26/2015     7/27/2015   \n3           258       34156        28       0  ...    9/14/2015     9/16/2015   \n4           467       36345        50       0  ...    7/22/2015     7/23/2015   \n5           311       48189        51       0  ...    7/22/2015     7/24/2015   \n6           311       48189        51       0  ...     8/2/2015      8/3/2015   \n7           348       24811        51       0  ...     8/3/2015      8/4/2015   \n8           311       48189        51       0  ...   12/30/2015    12/31/2015   \n9           311       48189        51       0  ...     1/2/2016      1/3/2016   \n\n  adults children  room  destination_id  destination_type  regency_continent  \\\n0      2        0     1           12243                 6                  6   \n1      2        0     1           14474                 7                  6   \n2      4        0     1           11353                 1                  2   \n3      2        0     1            8250                 1                  2   \n4      2        0     1           11812                 1                  2   \n5      4        0     2           11827                 1                  2   \n6      2        0     1            8271                 1                  2   \n7      2        0     1            8291                 1                  2   \n8      2        0     1            8250                 1                  2   \n9      2        0     1            9145                 1                  2   \n\n   regency_country  regency_market  \n0              204              27  \n1              204            1540  \n2               50             699  \n3               50             628  \n4               50             538  \n5               50             447  \n6               50             696  \n7               50             191  \n8               50             628  \n9               50             364  \n\n[10 rows x 22 columns]",
            "text/html": "<div>\n<style scoped>\n    .dataframe tbody tr th:only-of-type {\n        vertical-align: middle;\n    }\n\n    .dataframe tbody tr th {\n        vertical-align: top;\n    }\n\n    .dataframe thead th {\n        text-align: right;\n    }\n</style>\n<table border=\"1\" class=\"dataframe\">\n  <thead>\n    <tr style=\"text-align: right;\">\n      <th></th>\n      <th>Unnamed: 0</th>\n      <th>id</th>\n      <th>time_date</th>\n      <th>site</th>\n      <th>continent_id</th>\n      <th>buyer_country</th>\n      <th>buyer_region</th>\n      <th>buyer_city</th>\n      <th>buyer_id</th>\n      <th>mobile</th>\n      <th>...</th>\n      <th>buying_date</th>\n      <th>dealing_date</th>\n      <th>adults</th>\n      <th>children</th>\n      <th>room</th>\n      <th>destination_id</th>\n      <th>destination_type</th>\n      <th>regency_continent</th>\n      <th>regency_country</th>\n      <th>regency_market</th>\n    </tr>\n  </thead>\n  <tbody>\n    <tr>\n      <th>0</th>\n      <td>0</td>\n      <td>0</td>\n      <td>9/3/2015 17:09</td>\n      <td>2</td>\n      <td>3</td>\n      <td>66</td>\n      <td>174</td>\n      <td>37449</td>\n      <td>1</td>\n      <td>1</td>\n      <td>...</td>\n      <td>5/19/2016</td>\n      <td>5/23/2016</td>\n      <td>2</td>\n      <td>0</td>\n      <td>1</td>\n      <td>12243</td>\n      <td>6</td>\n      <td>6</td>\n      <td>204</td>\n      <td>27</td>\n    </tr>\n    <tr>\n      <th>1</th>\n      <td>1</td>\n      <td>1</td>\n      <td>9/24/2015 17:38</td>\n      <td>2</td>\n      <td>3</td>\n      <td>66</td>\n      <td>174</td>\n      <td>37449</td>\n      <td>1</td>\n      <td>1</td>\n      <td>...</td>\n      <td>5/12/2016</td>\n      <td>5/15/2016</td>\n      <td>2</td>\n      <td>0</td>\n      <td>1</td>\n      <td>14474</td>\n      <td>7</td>\n      <td>6</td>\n      <td>204</td>\n      <td>1540</td>\n    </tr>\n    <tr>\n      <th>2</th>\n      <td>2</td>\n      <td>2</td>\n      <td>6/7/2015 15:53</td>\n      <td>2</td>\n      <td>3</td>\n      <td>66</td>\n      <td>142</td>\n      <td>17440</td>\n      <td>20</td>\n      <td>0</td>\n      <td>...</td>\n      <td>7/26/2015</td>\n      <td>7/27/2015</td>\n      <td>4</td>\n      <td>0</td>\n      <td>1</td>\n      <td>11353</td>\n      <td>1</td>\n      <td>2</td>\n      <td>50</td>\n      <td>699</td>\n    </tr>\n    <tr>\n      <th>3</th>\n      <td>3</td>\n      <td>3</td>\n      <td>9/14/2015 14:49</td>\n      <td>2</td>\n      <td>3</td>\n      <td>66</td>\n      <td>258</td>\n      <td>34156</td>\n      <td>28</td>\n      <td>0</td>\n      <td>...</td>\n      <td>9/14/2015</td>\n      <td>9/16/2015</td>\n      <td>2</td>\n      <td>0</td>\n      <td>1</td>\n      <td>8250</td>\n      <td>1</td>\n      <td>2</td>\n      <td>50</td>\n      <td>628</td>\n    </tr>\n    <tr>\n      <th>4</th>\n      <td>4</td>\n      <td>4</td>\n      <td>7/17/2015 9:32</td>\n      <td>2</td>\n      <td>3</td>\n      <td>66</td>\n      <td>467</td>\n      <td>36345</td>\n      <td>50</td>\n      <td>0</td>\n      <td>...</td>\n      <td>7/22/2015</td>\n      <td>7/23/2015</td>\n      <td>2</td>\n      <td>0</td>\n      <td>1</td>\n      <td>11812</td>\n      <td>1</td>\n      <td>2</td>\n      <td>50</td>\n      <td>538</td>\n    </tr>\n    <tr>\n      <th>5</th>\n      <td>5</td>\n      <td>5</td>\n      <td>7/21/2015 11:58</td>\n      <td>2</td>\n      <td>3</td>\n      <td>66</td>\n      <td>311</td>\n      <td>48189</td>\n      <td>51</td>\n      <td>0</td>\n      <td>...</td>\n      <td>7/22/2015</td>\n      <td>7/24/2015</td>\n      <td>4</td>\n      <td>0</td>\n      <td>2</td>\n      <td>11827</td>\n      <td>1</td>\n      <td>2</td>\n      <td>50</td>\n      <td>447</td>\n    </tr>\n    <tr>\n      <th>6</th>\n      <td>6</td>\n      <td>6</td>\n      <td>7/29/2015 7:58</td>\n      <td>2</td>\n      <td>3</td>\n      <td>66</td>\n      <td>311</td>\n      <td>48189</td>\n      <td>51</td>\n      <td>0</td>\n      <td>...</td>\n      <td>8/2/2015</td>\n      <td>8/3/2015</td>\n      <td>2</td>\n      <td>0</td>\n      <td>1</td>\n      <td>8271</td>\n      <td>1</td>\n      <td>2</td>\n      <td>50</td>\n      <td>696</td>\n    </tr>\n    <tr>\n      <th>7</th>\n      <td>7</td>\n      <td>7</td>\n      <td>8/1/2015 20:13</td>\n      <td>2</td>\n      <td>3</td>\n      <td>66</td>\n      <td>348</td>\n      <td>24811</td>\n      <td>51</td>\n      <td>0</td>\n      <td>...</td>\n      <td>8/3/2015</td>\n      <td>8/4/2015</td>\n      <td>2</td>\n      <td>0</td>\n      <td>1</td>\n      <td>8291</td>\n      <td>1</td>\n      <td>2</td>\n      <td>50</td>\n      <td>191</td>\n    </tr>\n    <tr>\n      <th>8</th>\n      <td>8</td>\n      <td>8</td>\n      <td>11/7/2015 12:29</td>\n      <td>2</td>\n      <td>3</td>\n      <td>66</td>\n      <td>311</td>\n      <td>48189</td>\n      <td>51</td>\n      <td>0</td>\n      <td>...</td>\n      <td>12/30/2015</td>\n      <td>12/31/2015</td>\n      <td>2</td>\n      <td>0</td>\n      <td>1</td>\n      <td>8250</td>\n      <td>1</td>\n      <td>2</td>\n      <td>50</td>\n      <td>628</td>\n    </tr>\n    <tr>\n      <th>9</th>\n      <td>9</td>\n      <td>9</td>\n      <td>11/8/2015 16:21</td>\n      <td>2</td>\n      <td>3</td>\n      <td>66</td>\n      <td>311</td>\n      <td>48189</td>\n      <td>51</td>\n      <td>0</td>\n      <td>...</td>\n      <td>1/2/2016</td>\n      <td>1/3/2016</td>\n      <td>2</td>\n      <td>0</td>\n      <td>1</td>\n      <td>9145</td>\n      <td>1</td>\n      <td>2</td>\n      <td>50</td>\n      <td>364</td>\n    </tr>\n  </tbody>\n</table>\n<p>10 rows × 22 columns</p>\n</div>"
          },
          "metadata": {}
        }
      ]
    },
    {
      "cell_type": "code",
      "source": [
        "df_train.sample(10)"
      ],
      "metadata": {
        "_uuid": "b897059f-c85c-4b7b-973d-441c4d4582f0",
        "_cell_guid": "b25858dd-ba87-4630-a993-c14bdec8fd40",
        "jupyter": {
          "outputs_hidden": false
        },
        "execution": {
          "iopub.status.busy": "2021-07-19T16:18:21.293613Z",
          "iopub.execute_input": "2021-07-19T16:18:21.294346Z",
          "iopub.status.idle": "2021-07-19T16:18:21.328592Z",
          "shell.execute_reply.started": "2021-07-19T16:18:21.294305Z",
          "shell.execute_reply": "2021-07-19T16:18:21.327640Z"
        },
        "trusted": true,
        "id": "z_P8-IVPH9n-",
        "outputId": "0261c4e7-eda4-4f1a-b2c5-0c6e0b2bfa9d"
      },
      "execution_count": null,
      "outputs": [
        {
          "execution_count": 16,
          "output_type": "execute_result",
          "data": {
            "text/plain": "        Unnamed: 0         time_date  site  continent_id  buyer_country  \\\n128580    14496693    9/8/2013 17:01    24             2              3   \n87888      8954749   11/5/2014 14:32    24             2              3   \n125118    14079728   5/12/2014 12:31     2             3             66   \n44546      5114748   8/27/2014 16:15    13             1             46   \n254261    28820052    8/9/2014 19:39     2             3             66   \n25775      3245914  10/28/2014 16:05    24             2              3   \n34158      4180647   1/27/2013 23:34    24             2              3   \n221015    23154776     5/7/2014 8:23    24             2              3   \n93180      9301398  11/23/2014 22:07     8             4             77   \n78406      8205015   1/23/2014 20:06    18             2            231   \n\n        buyer_region  buyer_city  buyer_id  mobile  package  ...  children  \\\n128580            58       48893      9741       0        0  ...         1   \n87888             50        5703      2545       0        0  ...         0   \n125118           447       26008      8998       0        0  ...         3   \n44546            171       28694      9878       0        1  ...         0   \n254261           311       43558        71       1        1  ...         0   \n25775             50       50576      9142       1        0  ...         0   \n34158             50        5703      6517       0        0  ...         0   \n221015            51       39770      2060       0        0  ...         0   \n93180            824       53145      4420       0        0  ...         0   \n78406             68       42296      1293       0        0  ...         0   \n\n       room destination_id  destination_type  dealing  regency_continent  \\\n128580    1          20408                 1        0                  1   \n87888     2           8286                 1        1                  1   \n125118    1           8855                 1        0                  1   \n44546     2           8245                 1        0                  1   \n254261    1          11334                 1        0                  1   \n25775     1           8245                 1        0                  1   \n34158     1            669                 3        0                  1   \n221015    1          14804                 1        0                  3   \n93180     1           5405                 6        0                  1   \n78406     1           8809                 1        0                  1   \n\n        regency_country  regency_market   cnt  regency_cluster  \n128580                3              82   228               61  \n87888                 0              63  1258               55  \n125118                2              50   213               40  \n44546                 6              22   245               58  \n254261                4              96   201               26  \n25775                 6              22   245               36  \n34158                 2              50   212               84  \n221015                6              77   774               59  \n93180                 4               8   126               90  \n78406                 2              50   698               95  \n\n[10 rows x 24 columns]",
            "text/html": "<div>\n<style scoped>\n    .dataframe tbody tr th:only-of-type {\n        vertical-align: middle;\n    }\n\n    .dataframe tbody tr th {\n        vertical-align: top;\n    }\n\n    .dataframe thead th {\n        text-align: right;\n    }\n</style>\n<table border=\"1\" class=\"dataframe\">\n  <thead>\n    <tr style=\"text-align: right;\">\n      <th></th>\n      <th>Unnamed: 0</th>\n      <th>time_date</th>\n      <th>site</th>\n      <th>continent_id</th>\n      <th>buyer_country</th>\n      <th>buyer_region</th>\n      <th>buyer_city</th>\n      <th>buyer_id</th>\n      <th>mobile</th>\n      <th>package</th>\n      <th>...</th>\n      <th>children</th>\n      <th>room</th>\n      <th>destination_id</th>\n      <th>destination_type</th>\n      <th>dealing</th>\n      <th>regency_continent</th>\n      <th>regency_country</th>\n      <th>regency_market</th>\n      <th>cnt</th>\n      <th>regency_cluster</th>\n    </tr>\n  </thead>\n  <tbody>\n    <tr>\n      <th>128580</th>\n      <td>14496693</td>\n      <td>9/8/2013 17:01</td>\n      <td>24</td>\n      <td>2</td>\n      <td>3</td>\n      <td>58</td>\n      <td>48893</td>\n      <td>9741</td>\n      <td>0</td>\n      <td>0</td>\n      <td>...</td>\n      <td>1</td>\n      <td>1</td>\n      <td>20408</td>\n      <td>1</td>\n      <td>0</td>\n      <td>1</td>\n      <td>3</td>\n      <td>82</td>\n      <td>228</td>\n      <td>61</td>\n    </tr>\n    <tr>\n      <th>87888</th>\n      <td>8954749</td>\n      <td>11/5/2014 14:32</td>\n      <td>24</td>\n      <td>2</td>\n      <td>3</td>\n      <td>50</td>\n      <td>5703</td>\n      <td>2545</td>\n      <td>0</td>\n      <td>0</td>\n      <td>...</td>\n      <td>0</td>\n      <td>2</td>\n      <td>8286</td>\n      <td>1</td>\n      <td>1</td>\n      <td>1</td>\n      <td>0</td>\n      <td>63</td>\n      <td>1258</td>\n      <td>55</td>\n    </tr>\n    <tr>\n      <th>125118</th>\n      <td>14079728</td>\n      <td>5/12/2014 12:31</td>\n      <td>2</td>\n      <td>3</td>\n      <td>66</td>\n      <td>447</td>\n      <td>26008</td>\n      <td>8998</td>\n      <td>0</td>\n      <td>0</td>\n      <td>...</td>\n      <td>3</td>\n      <td>1</td>\n      <td>8855</td>\n      <td>1</td>\n      <td>0</td>\n      <td>1</td>\n      <td>2</td>\n      <td>50</td>\n      <td>213</td>\n      <td>40</td>\n    </tr>\n    <tr>\n      <th>44546</th>\n      <td>5114748</td>\n      <td>8/27/2014 16:15</td>\n      <td>13</td>\n      <td>1</td>\n      <td>46</td>\n      <td>171</td>\n      <td>28694</td>\n      <td>9878</td>\n      <td>0</td>\n      <td>1</td>\n      <td>...</td>\n      <td>0</td>\n      <td>2</td>\n      <td>8245</td>\n      <td>1</td>\n      <td>0</td>\n      <td>1</td>\n      <td>6</td>\n      <td>22</td>\n      <td>245</td>\n      <td>58</td>\n    </tr>\n    <tr>\n      <th>254261</th>\n      <td>28820052</td>\n      <td>8/9/2014 19:39</td>\n      <td>2</td>\n      <td>3</td>\n      <td>66</td>\n      <td>311</td>\n      <td>43558</td>\n      <td>71</td>\n      <td>1</td>\n      <td>1</td>\n      <td>...</td>\n      <td>0</td>\n      <td>1</td>\n      <td>11334</td>\n      <td>1</td>\n      <td>0</td>\n      <td>1</td>\n      <td>4</td>\n      <td>96</td>\n      <td>201</td>\n      <td>26</td>\n    </tr>\n    <tr>\n      <th>25775</th>\n      <td>3245914</td>\n      <td>10/28/2014 16:05</td>\n      <td>24</td>\n      <td>2</td>\n      <td>3</td>\n      <td>50</td>\n      <td>50576</td>\n      <td>9142</td>\n      <td>1</td>\n      <td>0</td>\n      <td>...</td>\n      <td>0</td>\n      <td>1</td>\n      <td>8245</td>\n      <td>1</td>\n      <td>0</td>\n      <td>1</td>\n      <td>6</td>\n      <td>22</td>\n      <td>245</td>\n      <td>36</td>\n    </tr>\n    <tr>\n      <th>34158</th>\n      <td>4180647</td>\n      <td>1/27/2013 23:34</td>\n      <td>24</td>\n      <td>2</td>\n      <td>3</td>\n      <td>50</td>\n      <td>5703</td>\n      <td>6517</td>\n      <td>0</td>\n      <td>0</td>\n      <td>...</td>\n      <td>0</td>\n      <td>1</td>\n      <td>669</td>\n      <td>3</td>\n      <td>0</td>\n      <td>1</td>\n      <td>2</td>\n      <td>50</td>\n      <td>212</td>\n      <td>84</td>\n    </tr>\n    <tr>\n      <th>221015</th>\n      <td>23154776</td>\n      <td>5/7/2014 8:23</td>\n      <td>24</td>\n      <td>2</td>\n      <td>3</td>\n      <td>51</td>\n      <td>39770</td>\n      <td>2060</td>\n      <td>0</td>\n      <td>0</td>\n      <td>...</td>\n      <td>0</td>\n      <td>1</td>\n      <td>14804</td>\n      <td>1</td>\n      <td>0</td>\n      <td>3</td>\n      <td>6</td>\n      <td>77</td>\n      <td>774</td>\n      <td>59</td>\n    </tr>\n    <tr>\n      <th>93180</th>\n      <td>9301398</td>\n      <td>11/23/2014 22:07</td>\n      <td>8</td>\n      <td>4</td>\n      <td>77</td>\n      <td>824</td>\n      <td>53145</td>\n      <td>4420</td>\n      <td>0</td>\n      <td>0</td>\n      <td>...</td>\n      <td>0</td>\n      <td>1</td>\n      <td>5405</td>\n      <td>6</td>\n      <td>0</td>\n      <td>1</td>\n      <td>4</td>\n      <td>8</td>\n      <td>126</td>\n      <td>90</td>\n    </tr>\n    <tr>\n      <th>78406</th>\n      <td>8205015</td>\n      <td>1/23/2014 20:06</td>\n      <td>18</td>\n      <td>2</td>\n      <td>231</td>\n      <td>68</td>\n      <td>42296</td>\n      <td>1293</td>\n      <td>0</td>\n      <td>0</td>\n      <td>...</td>\n      <td>0</td>\n      <td>1</td>\n      <td>8809</td>\n      <td>1</td>\n      <td>0</td>\n      <td>1</td>\n      <td>2</td>\n      <td>50</td>\n      <td>698</td>\n      <td>95</td>\n    </tr>\n  </tbody>\n</table>\n<p>10 rows × 24 columns</p>\n</div>"
          },
          "metadata": {}
        }
      ]
    },
    {
      "cell_type": "code",
      "source": [
        "#Menghapus Kolom yang tidak penting\n",
        "df_train = df_train.drop(columns=[\"Unnamed: 0\"])\n",
        "df_test = df_test.drop(columns=[\"Unnamed: 0\"])"
      ],
      "metadata": {
        "_uuid": "7708e73e-4a56-48ba-9c39-376aeae5b288",
        "_cell_guid": "4a5233fb-94d1-45ba-a955-399f5f6b28d4",
        "jupyter": {
          "outputs_hidden": false
        },
        "execution": {
          "iopub.status.busy": "2021-07-19T16:18:21.329790Z",
          "iopub.execute_input": "2021-07-19T16:18:21.330071Z",
          "iopub.status.idle": "2021-07-19T16:18:21.365461Z",
          "shell.execute_reply.started": "2021-07-19T16:18:21.330043Z",
          "shell.execute_reply": "2021-07-19T16:18:21.364753Z"
        },
        "trusted": true,
        "id": "C_Plvd8rH9n-"
      },
      "execution_count": null,
      "outputs": []
    },
    {
      "cell_type": "code",
      "source": [
        "df_train = df_train.rename(columns={\"regency_country\": \"regency_continent\", \"regency_continent\": \"regency_country\"})"
      ],
      "metadata": {
        "_uuid": "4b1b73b7-778a-4e1c-9603-29ca396b295e",
        "_cell_guid": "d49d012f-bcdd-4400-bb1c-88b9818b795b",
        "jupyter": {
          "outputs_hidden": false
        },
        "execution": {
          "iopub.status.busy": "2021-07-19T16:18:21.366538Z",
          "iopub.execute_input": "2021-07-19T16:18:21.367004Z",
          "iopub.status.idle": "2021-07-19T16:18:21.406264Z",
          "shell.execute_reply.started": "2021-07-19T16:18:21.366975Z",
          "shell.execute_reply": "2021-07-19T16:18:21.405540Z"
        },
        "trusted": true,
        "id": "Zx6Tf5kyH9n_"
      },
      "execution_count": null,
      "outputs": []
    },
    {
      "cell_type": "code",
      "source": [
        "column_=[\"regency_country\",\"regency_continent\"]\n",
        "for column in column_:\n",
        "    print(\"Nilai unik pada variabel \"+column)\n",
        "    print(df_train[column].value_counts())\n",
        "    print(\"\\n\\n\")"
      ],
      "metadata": {
        "_uuid": "4bad5791-39d2-4338-adf7-06c706d583b2",
        "_cell_guid": "962f8edd-60b1-4616-addd-88df6cee5923",
        "jupyter": {
          "outputs_hidden": false
        },
        "execution": {
          "iopub.status.busy": "2021-07-19T16:18:21.407451Z",
          "iopub.execute_input": "2021-07-19T16:18:21.407777Z",
          "iopub.status.idle": "2021-07-19T16:18:21.423914Z",
          "shell.execute_reply.started": "2021-07-19T16:18:21.407747Z",
          "shell.execute_reply": "2021-07-19T16:18:21.422956Z"
        },
        "trusted": true,
        "id": "kZN4SzumH9n_",
        "outputId": "ed210619-af66-4051-ae6d-b456ef805440"
      },
      "execution_count": null,
      "outputs": [
        {
          "name": "stdout",
          "text": "Nilai unik pada variabel regency_country\n1     254344\n2      52019\n3      18934\n4       7767\n5       4022\n6       2145\n7       1274\n8        787\n9        482\n10       319\n11       212\n12       147\n13        96\n14        80\n15        70\n16        51\n17        28\n18        23\n19        18\n20        15\n21        10\n23         6\n22         5\n33         5\n24         4\n25         3\n30         3\n44         2\n36         2\n37         2\n38         1\n45         1\n42         1\n39         1\n31         1\n29         1\n28         1\n27         1\n26         1\n47         1\nName: regency_country, dtype: int64\n\n\n\nNilai unik pada variabel regency_continent\n2    128103\n3     92849\n6     84275\n4     25077\n0      9151\n5      3430\nName: regency_continent, dtype: int64\n\n\n\n",
          "output_type": "stream"
        }
      ]
    },
    {
      "cell_type": "code",
      "source": [
        "df_train.head()"
      ],
      "metadata": {
        "_uuid": "a6b2e9a0-a1ee-48cc-b8b3-95810c9b8d39",
        "_cell_guid": "a82dbbb1-9350-4632-9ef1-582f1cd743e4",
        "jupyter": {
          "outputs_hidden": false
        },
        "execution": {
          "iopub.status.busy": "2021-07-19T16:18:21.425181Z",
          "iopub.execute_input": "2021-07-19T16:18:21.425442Z",
          "iopub.status.idle": "2021-07-19T16:18:21.444361Z",
          "shell.execute_reply.started": "2021-07-19T16:18:21.425416Z",
          "shell.execute_reply": "2021-07-19T16:18:21.443294Z"
        },
        "trusted": true,
        "id": "wtYvboMKH9oB",
        "outputId": "b0a0ccc5-8c48-42f7-e8fc-fae2ed144dc0"
      },
      "execution_count": null,
      "outputs": [
        {
          "execution_count": 20,
          "output_type": "execute_result",
          "data": {
            "text/plain": "        time_date  site  continent_id  buyer_country  buyer_region  \\\n0  8/11/2014 7:46     2             3             66           348   \n1  8/11/2014 8:22     2             3             66           348   \n2  8/11/2014 8:24     2             3             66           348   \n3  8/9/2014 18:05     2             3             66           442   \n4  8/9/2014 18:08     2             3             66           442   \n\n   buyer_city  buyer_id  mobile  package  channel_id  ... children room  \\\n0       48862        12       0        1           9  ...        0    1   \n1       48862        12       0        1           9  ...        0    1   \n2       48862        12       0        0           9  ...        0    1   \n3       35390        93       0        0           3  ...        0    1   \n4       35390        93       0        0           3  ...        0    1   \n\n   destination_id  destination_type  dealing  regency_country  \\\n0            8250                 1        0                3   \n1            8250                 1        1                1   \n2            8250                 1        0                1   \n3           14984                 1        0                1   \n4           14984                 1        0                1   \n\n   regency_continent  regency_market   cnt  regency_cluster  \n0                  2              50   628                1  \n1                  2              50   628                1  \n2                  2              50   628                1  \n3                  2              50  1457               80  \n4                  2              50  1457               21  \n\n[5 rows x 23 columns]",
            "text/html": "<div>\n<style scoped>\n    .dataframe tbody tr th:only-of-type {\n        vertical-align: middle;\n    }\n\n    .dataframe tbody tr th {\n        vertical-align: top;\n    }\n\n    .dataframe thead th {\n        text-align: right;\n    }\n</style>\n<table border=\"1\" class=\"dataframe\">\n  <thead>\n    <tr style=\"text-align: right;\">\n      <th></th>\n      <th>time_date</th>\n      <th>site</th>\n      <th>continent_id</th>\n      <th>buyer_country</th>\n      <th>buyer_region</th>\n      <th>buyer_city</th>\n      <th>buyer_id</th>\n      <th>mobile</th>\n      <th>package</th>\n      <th>channel_id</th>\n      <th>...</th>\n      <th>children</th>\n      <th>room</th>\n      <th>destination_id</th>\n      <th>destination_type</th>\n      <th>dealing</th>\n      <th>regency_country</th>\n      <th>regency_continent</th>\n      <th>regency_market</th>\n      <th>cnt</th>\n      <th>regency_cluster</th>\n    </tr>\n  </thead>\n  <tbody>\n    <tr>\n      <th>0</th>\n      <td>8/11/2014 7:46</td>\n      <td>2</td>\n      <td>3</td>\n      <td>66</td>\n      <td>348</td>\n      <td>48862</td>\n      <td>12</td>\n      <td>0</td>\n      <td>1</td>\n      <td>9</td>\n      <td>...</td>\n      <td>0</td>\n      <td>1</td>\n      <td>8250</td>\n      <td>1</td>\n      <td>0</td>\n      <td>3</td>\n      <td>2</td>\n      <td>50</td>\n      <td>628</td>\n      <td>1</td>\n    </tr>\n    <tr>\n      <th>1</th>\n      <td>8/11/2014 8:22</td>\n      <td>2</td>\n      <td>3</td>\n      <td>66</td>\n      <td>348</td>\n      <td>48862</td>\n      <td>12</td>\n      <td>0</td>\n      <td>1</td>\n      <td>9</td>\n      <td>...</td>\n      <td>0</td>\n      <td>1</td>\n      <td>8250</td>\n      <td>1</td>\n      <td>1</td>\n      <td>1</td>\n      <td>2</td>\n      <td>50</td>\n      <td>628</td>\n      <td>1</td>\n    </tr>\n    <tr>\n      <th>2</th>\n      <td>8/11/2014 8:24</td>\n      <td>2</td>\n      <td>3</td>\n      <td>66</td>\n      <td>348</td>\n      <td>48862</td>\n      <td>12</td>\n      <td>0</td>\n      <td>0</td>\n      <td>9</td>\n      <td>...</td>\n      <td>0</td>\n      <td>1</td>\n      <td>8250</td>\n      <td>1</td>\n      <td>0</td>\n      <td>1</td>\n      <td>2</td>\n      <td>50</td>\n      <td>628</td>\n      <td>1</td>\n    </tr>\n    <tr>\n      <th>3</th>\n      <td>8/9/2014 18:05</td>\n      <td>2</td>\n      <td>3</td>\n      <td>66</td>\n      <td>442</td>\n      <td>35390</td>\n      <td>93</td>\n      <td>0</td>\n      <td>0</td>\n      <td>3</td>\n      <td>...</td>\n      <td>0</td>\n      <td>1</td>\n      <td>14984</td>\n      <td>1</td>\n      <td>0</td>\n      <td>1</td>\n      <td>2</td>\n      <td>50</td>\n      <td>1457</td>\n      <td>80</td>\n    </tr>\n    <tr>\n      <th>4</th>\n      <td>8/9/2014 18:08</td>\n      <td>2</td>\n      <td>3</td>\n      <td>66</td>\n      <td>442</td>\n      <td>35390</td>\n      <td>93</td>\n      <td>0</td>\n      <td>0</td>\n      <td>3</td>\n      <td>...</td>\n      <td>0</td>\n      <td>1</td>\n      <td>14984</td>\n      <td>1</td>\n      <td>0</td>\n      <td>1</td>\n      <td>2</td>\n      <td>50</td>\n      <td>1457</td>\n      <td>21</td>\n    </tr>\n  </tbody>\n</table>\n<p>5 rows × 23 columns</p>\n</div>"
          },
          "metadata": {}
        }
      ]
    },
    {
      "cell_type": "code",
      "source": [
        "#Handling time series\n",
        "import datetime\n",
        "\n",
        "df_train['time_date'] = pd.to_datetime(df_train['time_date']).dt.strftime(\"%m/%d/%y\")\n",
        "df_test['time_date'] = pd.to_datetime(df_test['time_date']).dt.strftime(\"%m/%d/%y\")\n",
        "\n",
        "#Ubah tipe data\n",
        "df_train['time_date'] = pd.to_datetime(df_train['time_date'])\n",
        "df_test['time_date'] = pd.to_datetime(df_test['time_date'])\n",
        "\n",
        "df_train[\"buying_date\"] = pd.to_datetime(df_train['buying_date'])\n",
        "df_test[\"buying_date\"] = pd.to_datetime(df_test['buying_date'])\n",
        "\n",
        "df_train[\"dealing_date\"] = pd.to_datetime(df_train['dealing_date'])\n",
        "df_test[\"dealing_date\"] = pd.to_datetime(df_test['dealing_date'])"
      ],
      "metadata": {
        "_uuid": "1ccd266f-ffbe-4203-8c44-8a48c665bd9a",
        "_cell_guid": "7b9d97ff-2a9a-4b7e-8f70-954f34e070a5",
        "jupyter": {
          "outputs_hidden": false
        },
        "execution": {
          "iopub.status.busy": "2021-07-19T16:18:21.445803Z",
          "iopub.execute_input": "2021-07-19T16:18:21.446065Z",
          "iopub.status.idle": "2021-07-19T16:18:53.345099Z",
          "shell.execute_reply.started": "2021-07-19T16:18:21.446038Z",
          "shell.execute_reply": "2021-07-19T16:18:53.344121Z"
        },
        "trusted": true,
        "id": "lEPIxiNmH9oB"
      },
      "execution_count": null,
      "outputs": []
    },
    {
      "cell_type": "code",
      "source": [
        "#Selisih time_date x buying_date\n",
        "df_train[\"dif_td_bd\"] = abs(df_train['time_date'] - df_train['buying_date'])\n",
        "df_test[\"dif_td_bd\"] = abs(df_test['time_date'] - df_test['buying_date'])\n",
        "\n",
        "#Selisih time_date x buying_date\n",
        "df_train[\"dif_td_dd\"] = abs(df_train['time_date'] - df_train['dealing_date'])\n",
        "df_test[\"dif_td_dd\"] = abs(df_test['time_date'] - df_test['dealing_date'])\n",
        "\n",
        "#Selisih dealing_date x buying_date\n",
        "df_train[\"dif_bd_dd\"] = abs(df_train['buying_date'] - df_train['dealing_date'])\n",
        "df_test[\"dif_bd_dd\"] = abs(df_test['buying_date'] - df_test['dealing_date'])"
      ],
      "metadata": {
        "_uuid": "d114b960-fa24-4092-82cb-9a90bfc9014b",
        "_cell_guid": "50973fb2-7b1e-42ee-ad35-82be8c61587d",
        "jupyter": {
          "outputs_hidden": false
        },
        "execution": {
          "iopub.status.busy": "2021-07-19T16:18:53.346271Z",
          "iopub.execute_input": "2021-07-19T16:18:53.346553Z",
          "iopub.status.idle": "2021-07-19T16:18:53.376814Z",
          "shell.execute_reply.started": "2021-07-19T16:18:53.346522Z",
          "shell.execute_reply": "2021-07-19T16:18:53.375700Z"
        },
        "trusted": true,
        "id": "8bVhHy39H9oC"
      },
      "execution_count": null,
      "outputs": []
    },
    {
      "cell_type": "markdown",
      "source": [
        "# 2. Feature Engineering"
      ],
      "metadata": {
        "_uuid": "2e25eb21-de54-4253-bbb0-1695b5f869f2",
        "_cell_guid": "97feb817-72ae-4654-bc8d-f73d5a2bde96",
        "trusted": true,
        "id": "wJjdSeKGH9oC"
      }
    },
    {
      "cell_type": "code",
      "source": [
        "#Jumlahin Adult sama Child jadi person\n",
        "df_train[\"person\"] = df_train[\"adults\"] + df_train[\"children\"]\n",
        "df_test[\"person\"] = df_test[\"adults\"] + df_test[\"children\"]\n",
        "\n",
        "#person/room ratio\n",
        "df_train[\"person_per_room\"] = df_train[\"person\"]/df_train[\"room\"]\n",
        "df_test[\"person_per_room\"] = df_test[\"person\"]/df_test[\"room\"]"
      ],
      "metadata": {
        "_uuid": "9051744e-a23f-411d-acbf-81fa86480556",
        "_cell_guid": "7f7026e2-fd85-4ce2-9a61-d64135bcc629",
        "jupyter": {
          "outputs_hidden": false
        },
        "execution": {
          "iopub.status.busy": "2021-07-19T16:18:53.378086Z",
          "iopub.execute_input": "2021-07-19T16:18:53.378382Z",
          "iopub.status.idle": "2021-07-19T16:18:53.393876Z",
          "shell.execute_reply.started": "2021-07-19T16:18:53.378353Z",
          "shell.execute_reply": "2021-07-19T16:18:53.392908Z"
        },
        "trusted": true,
        "id": "TnQiSd3qH9oC"
      },
      "execution_count": null,
      "outputs": []
    },
    {
      "cell_type": "code",
      "source": [
        "days = [\"dif_td_bd\", \"dif_td_dd\", \"dif_bd_dd\"]\n",
        "\n",
        "for y in days :\n",
        "    df_train[y] = df_train[y].dt.days\n",
        "    df_test[y] = df_test[y].dt.days\n",
        "    df_train[y].astype(int)\n",
        "    df_test[y].astype(int)\n",
        "\n",
        "categorical = [\"site\", \"continent_id\", \"buyer_country\", \"buyer_region\",\"buyer_city\", \"buyer_id\", \"mobile\", \"package\", \"channel_id\", \"destination_id\", \"destination_type\", \"dealing\", \"regency_continent\", \"regency_country\",\"regency_market\",\"person_per_room\"]\n",
        "target = df_train[\"regency_cluster\"]\n",
        "\n",
        "df_train_num = df_train.drop(columns=categorical)\n",
        "df_train_cat = df_train[categorical]\n",
        "\n",
        "df_train_num.head(5)"
      ],
      "metadata": {
        "_uuid": "85f5b678-67d8-4661-804f-8dd76981ffde",
        "_cell_guid": "d23644ab-7d23-4c8c-9466-96a4a567d69f",
        "jupyter": {
          "outputs_hidden": false
        },
        "execution": {
          "iopub.status.busy": "2021-07-19T16:18:53.398082Z",
          "iopub.execute_input": "2021-07-19T16:18:53.398750Z",
          "iopub.status.idle": "2021-07-19T16:18:53.535854Z",
          "shell.execute_reply.started": "2021-07-19T16:18:53.398690Z",
          "shell.execute_reply": "2021-07-19T16:18:53.534867Z"
        },
        "trusted": true,
        "id": "5jcKo-QqH9oD",
        "outputId": "4105d130-8b67-4725-afd6-42a3d4bf8b89"
      },
      "execution_count": null,
      "outputs": [
        {
          "execution_count": 24,
          "output_type": "execute_result",
          "data": {
            "text/plain": "   time_date buying_date dealing_date  adults  children  room   cnt  \\\n0 2014-08-11  2014-08-27   2014-08-31       2         0     1   628   \n1 2014-08-11  2014-08-29   2014-09-02       2         0     1   628   \n2 2014-08-11  2014-08-29   2014-09-02       2         0     1   628   \n3 2014-08-09  2014-11-23   2014-11-28       2         0     1  1457   \n4 2014-08-09  2014-11-23   2014-11-28       2         0     1  1457   \n\n   regency_cluster  dif_td_bd  dif_td_dd  dif_bd_dd  person  \n0                1         16         20          4       2  \n1                1         18         22          4       2  \n2                1         18         22          4       2  \n3               80        106        111          5       2  \n4               21        106        111          5       2  ",
            "text/html": "<div>\n<style scoped>\n    .dataframe tbody tr th:only-of-type {\n        vertical-align: middle;\n    }\n\n    .dataframe tbody tr th {\n        vertical-align: top;\n    }\n\n    .dataframe thead th {\n        text-align: right;\n    }\n</style>\n<table border=\"1\" class=\"dataframe\">\n  <thead>\n    <tr style=\"text-align: right;\">\n      <th></th>\n      <th>time_date</th>\n      <th>buying_date</th>\n      <th>dealing_date</th>\n      <th>adults</th>\n      <th>children</th>\n      <th>room</th>\n      <th>cnt</th>\n      <th>regency_cluster</th>\n      <th>dif_td_bd</th>\n      <th>dif_td_dd</th>\n      <th>dif_bd_dd</th>\n      <th>person</th>\n    </tr>\n  </thead>\n  <tbody>\n    <tr>\n      <th>0</th>\n      <td>2014-08-11</td>\n      <td>2014-08-27</td>\n      <td>2014-08-31</td>\n      <td>2</td>\n      <td>0</td>\n      <td>1</td>\n      <td>628</td>\n      <td>1</td>\n      <td>16</td>\n      <td>20</td>\n      <td>4</td>\n      <td>2</td>\n    </tr>\n    <tr>\n      <th>1</th>\n      <td>2014-08-11</td>\n      <td>2014-08-29</td>\n      <td>2014-09-02</td>\n      <td>2</td>\n      <td>0</td>\n      <td>1</td>\n      <td>628</td>\n      <td>1</td>\n      <td>18</td>\n      <td>22</td>\n      <td>4</td>\n      <td>2</td>\n    </tr>\n    <tr>\n      <th>2</th>\n      <td>2014-08-11</td>\n      <td>2014-08-29</td>\n      <td>2014-09-02</td>\n      <td>2</td>\n      <td>0</td>\n      <td>1</td>\n      <td>628</td>\n      <td>1</td>\n      <td>18</td>\n      <td>22</td>\n      <td>4</td>\n      <td>2</td>\n    </tr>\n    <tr>\n      <th>3</th>\n      <td>2014-08-09</td>\n      <td>2014-11-23</td>\n      <td>2014-11-28</td>\n      <td>2</td>\n      <td>0</td>\n      <td>1</td>\n      <td>1457</td>\n      <td>80</td>\n      <td>106</td>\n      <td>111</td>\n      <td>5</td>\n      <td>2</td>\n    </tr>\n    <tr>\n      <th>4</th>\n      <td>2014-08-09</td>\n      <td>2014-11-23</td>\n      <td>2014-11-28</td>\n      <td>2</td>\n      <td>0</td>\n      <td>1</td>\n      <td>1457</td>\n      <td>21</td>\n      <td>106</td>\n      <td>111</td>\n      <td>5</td>\n      <td>2</td>\n    </tr>\n  </tbody>\n</table>\n</div>"
          },
          "metadata": {}
        }
      ]
    },
    {
      "cell_type": "code",
      "source": [
        "#df_train_num = df_train_num.drop(columns=days)\n",
        "df_train = df_train.drop(columns=[\"time_date\",\"buying_date\",\"dealing_date\",\"regency_cluster\"])\n",
        "#df_test = df_test.drop(columns=days)\n",
        "df_test = df_test.drop(columns=[\"time_date\",\"buying_date\",\"dealing_date\"])"
      ],
      "metadata": {
        "_uuid": "9ce71a20-862b-4c14-b7c1-da810e79824f",
        "_cell_guid": "a9cc65c8-6c72-4e54-b64f-be5b92d55630",
        "jupyter": {
          "outputs_hidden": false
        },
        "execution": {
          "iopub.status.busy": "2021-07-19T16:18:53.537415Z",
          "iopub.execute_input": "2021-07-19T16:18:53.537723Z",
          "iopub.status.idle": "2021-07-19T16:18:53.575889Z",
          "shell.execute_reply.started": "2021-07-19T16:18:53.537691Z",
          "shell.execute_reply": "2021-07-19T16:18:53.574919Z"
        },
        "trusted": true,
        "id": "b4R7JDfuH9oD"
      },
      "execution_count": null,
      "outputs": []
    },
    {
      "cell_type": "markdown",
      "source": [
        "# 3. Feature Selection"
      ],
      "metadata": {
        "_uuid": "db6bb3a0-1ec0-4b67-9ad6-d167947629c2",
        "_cell_guid": "c9dd0450-e8c6-4b62-a782-bbe3f55f1fb4",
        "trusted": true,
        "id": "PPqbGW9GH9oE"
      }
    },
    {
      "cell_type": "code",
      "source": [
        "def select_features_cat(X_train, y_train):\n",
        "    fs = SelectKBest(score_func=mutual_info_classif, k='all')\n",
        "    fs.fit(X_train, y_train)\n",
        "    X_train_fs = fs.transform(X_train)\n",
        "    #X_test_fs = fs.transform(X_test)\n",
        "    return X_train_fs, fs #X_test_fs"
      ],
      "metadata": {
        "_uuid": "5760727c-5eca-4c23-9347-0d01ac130f7a",
        "_cell_guid": "78b25f25-735f-4ab6-8825-a453f2faa78c",
        "jupyter": {
          "outputs_hidden": false
        },
        "execution": {
          "iopub.status.busy": "2021-07-19T16:18:53.577056Z",
          "iopub.execute_input": "2021-07-19T16:18:53.577336Z",
          "iopub.status.idle": "2021-07-19T16:18:53.584668Z",
          "shell.execute_reply.started": "2021-07-19T16:18:53.577309Z",
          "shell.execute_reply": "2021-07-19T16:18:53.583784Z"
        },
        "trusted": true,
        "id": "r0fP0jItH9oE"
      },
      "execution_count": null,
      "outputs": []
    },
    {
      "cell_type": "code",
      "source": [
        "from sklearn.feature_selection import SelectKBest\n",
        "from sklearn.feature_selection import mutual_info_classif\n",
        "\n",
        "X_train_fs_cat, fs_cat = select_features_cat(df_train, target)\n",
        "\n",
        "i=0\n",
        "for x in df_train.columns:\n",
        "    print('Feature %s: %f' % (x, fs_cat.scores_[i]))\n",
        "    i=i+1"
      ],
      "metadata": {
        "_uuid": "ad5ad198-ac22-4203-930d-cf6803975e57",
        "_cell_guid": "fd1a206a-09ee-487d-9bdf-2ef5c0ca36f6",
        "jupyter": {
          "outputs_hidden": false
        },
        "execution": {
          "iopub.status.busy": "2021-07-19T16:18:53.585796Z",
          "iopub.execute_input": "2021-07-19T16:18:53.586049Z",
          "iopub.status.idle": "2021-07-19T16:21:26.998776Z",
          "shell.execute_reply.started": "2021-07-19T16:18:53.586025Z",
          "shell.execute_reply": "2021-07-19T16:21:26.992061Z"
        },
        "trusted": true,
        "id": "ZkRhk_djH9oE",
        "outputId": "1487980b-6f90-4723-90a7-f3e8bacd2df9"
      },
      "execution_count": null,
      "outputs": [
        {
          "name": "stdout",
          "text": "Feature site: 0.126822\nFeature continent_id: 0.106946\nFeature buyer_country: 0.164432\nFeature buyer_region: 0.234417\nFeature buyer_city: 0.512196\nFeature buyer_id: 1.005259\nFeature mobile: 0.000000\nFeature package: 0.029965\nFeature channel_id: 0.016705\nFeature adults: 0.026663\nFeature children: 0.011576\nFeature room: 0.000330\nFeature destination_id: 1.417642\nFeature destination_type: 0.031619\nFeature dealing: 0.004621\nFeature regency_country: 0.004115\nFeature regency_continent: 0.427780\nFeature regency_market: 0.759905\nFeature cnt: 1.344489\nFeature dif_td_bd: 0.057907\nFeature dif_td_dd: 0.058861\nFeature dif_bd_dd: 0.054970\nFeature person: 0.030229\nFeature person_per_room: 0.037622\n",
          "output_type": "stream"
        }
      ]
    },
    {
      "cell_type": "code",
      "source": [
        "import matplotlib.pyplot as plt\n",
        "\n",
        "(pd.Series(fs_cat.scores_, index=df_train.columns).sort_values(ascending= True)\n",
        "   .plot(kind='barh'))\n",
        "plt.title('Feature importances')"
      ],
      "metadata": {
        "_uuid": "1b1bce69-91f5-46ff-8db0-fd4e8424d964",
        "_cell_guid": "7d3ed954-be0f-4b0b-8314-6f55c169a4dc",
        "jupyter": {
          "outputs_hidden": false
        },
        "execution": {
          "iopub.status.busy": "2021-07-19T16:21:27.002896Z",
          "iopub.execute_input": "2021-07-19T16:21:27.003446Z",
          "iopub.status.idle": "2021-07-19T16:21:27.765860Z",
          "shell.execute_reply.started": "2021-07-19T16:21:27.003394Z",
          "shell.execute_reply": "2021-07-19T16:21:27.763773Z"
        },
        "trusted": true,
        "id": "ENGiHDaOH9oF",
        "outputId": "0ddce33b-e4b3-4ecd-80bc-3120862d3894"
      },
      "execution_count": null,
      "outputs": [
        {
          "execution_count": 28,
          "output_type": "execute_result",
          "data": {
            "text/plain": "Text(0.5, 1.0, 'Feature importances')"
          },
          "metadata": {}
        },
        {
          "output_type": "display_data",
          "data": {
            "text/plain": "<Figure size 432x288 with 1 Axes>",
            "image/png": "[encoded data removed]"
          },
          "metadata": {
            "needs_background": "light"
          }
        }
      ]
    },
    {
      "cell_type": "code",
      "source": [
        "#from sklearn.feature_selection import f_classif\n",
        "\n",
        "#def select_features_num(X_train, y_train):\n",
        "    #fs = SelectKBest(score_func=f_classif, k='all')\n",
        "    #fs.fit(X_train, y_train)\n",
        "    #X_train_fs = fs.transform(X_train)\n",
        "    #X_test_fs = fs.transform(X_test)\n",
        "    #return X_train_fs, fs #X_test_fs\n",
        "\n",
        "#X_train_fs_num, fs_num = select_features_num(df_train_num, target)\n",
        "\n",
        "#i=0\n",
        "#for x in df_train_num.columns:\n",
        "    #print('Feature %s: %f' % (x, fs_num.scores_[i]))\n",
        "    #i=i+1\n",
        "\n",
        "\n",
        "#(pd.Series(fs_num.scores_, index=df_train_num.columns).sort_values(ascending= True)\n",
        "   #.plot(kind='barh'))\n",
        "#plt.title('Feature importances numerical data')"
      ],
      "metadata": {
        "_uuid": "8961a97e-1a1e-47ed-8eb7-a92906aa75b1",
        "_cell_guid": "43578b77-2fb7-4f5a-97c0-c7ba260ab16a",
        "_kg_hide-input": false,
        "jupyter": {
          "outputs_hidden": false
        },
        "execution": {
          "iopub.status.busy": "2021-07-19T16:21:27.767586Z",
          "iopub.execute_input": "2021-07-19T16:21:27.769719Z",
          "iopub.status.idle": "2021-07-19T16:21:27.780207Z",
          "shell.execute_reply.started": "2021-07-19T16:21:27.769661Z",
          "shell.execute_reply": "2021-07-19T16:21:27.774624Z"
        },
        "trusted": true,
        "id": "P2eizUbhH9oF"
      },
      "execution_count": null,
      "outputs": []
    },
    {
      "cell_type": "code",
      "source": [
        "#sel_cat = [\"destination_id\", \"buyer_id\",\"buyer_city\",\"regency_continent\",\"regency_market\"]\n",
        "#sel_cat = [\"destination_id\"]\n",
        "#sel_num = [\"person_per_room\"]#,\"dif_td_dd\",\"dif_bd_dd\"]\n",
        "\n",
        "#data testnya jangan lupa\n",
        "#df1 = df_train_cat[sel_cat]\n",
        "#df2 = df_train_num[sel_num]\n",
        "\n",
        "\n",
        "train = df_train\n",
        "#import math\n",
        "train[\"regency_cluster\"] = target\n",
        "    \n",
        "y = pd.get_dummies(train.regency_cluster, prefix='is')\n",
        "train = pd.concat([train,y], axis=1, join='inner')\n",
        "test = df_test\n",
        "train_ = df_train"
      ],
      "metadata": {
        "_uuid": "504e0f40-6114-425c-ab7f-8fed3fab34c8",
        "_cell_guid": "81618728-e736-4bf9-a8b2-86940597f70c",
        "jupyter": {
          "outputs_hidden": false
        },
        "execution": {
          "iopub.status.busy": "2021-07-19T16:21:27.784110Z",
          "iopub.execute_input": "2021-07-19T16:21:27.784497Z",
          "iopub.status.idle": "2021-07-19T16:21:28.335439Z",
          "shell.execute_reply.started": "2021-07-19T16:21:27.784465Z",
          "shell.execute_reply": "2021-07-19T16:21:28.333853Z"
        },
        "trusted": true,
        "id": "RFWZ8P5NH9oF"
      },
      "execution_count": null,
      "outputs": []
    },
    {
      "cell_type": "code",
      "source": [
        "for x in range(0,100) :\n",
        "    mean = train['is_'+str(x)].mean()\n",
        "    mean_encode = train.groupby('destination_id')['is_'+str(x)].mean()\n",
        "    train_['destination_id_enc_'+str(x)] = train['destination_id'].map(mean_encode).fillna(mean)\n",
        "    test['destination_id_enc_'+str(x)] = test['destination_id'].map(mean_encode).fillna(mean)"
      ],
      "metadata": {
        "_uuid": "4362d546-5b32-45b2-8730-9240e1225342",
        "_cell_guid": "25105888-4a98-4567-81d2-84e3e755b5c1",
        "jupyter": {
          "outputs_hidden": false
        },
        "execution": {
          "iopub.status.busy": "2021-07-19T16:21:28.337527Z",
          "iopub.execute_input": "2021-07-19T16:21:28.338013Z",
          "iopub.status.idle": "2021-07-19T16:21:31.521063Z",
          "shell.execute_reply.started": "2021-07-19T16:21:28.337960Z",
          "shell.execute_reply": "2021-07-19T16:21:31.519648Z"
        },
        "trusted": true,
        "id": "cxaG33xWH9oG"
      },
      "execution_count": null,
      "outputs": []
    },
    {
      "cell_type": "code",
      "source": [
        "sel = []\n",
        "for x in range(0,99) :\n",
        "    x=str(x)\n",
        "    sel.append(\"destination_id_enc_\"+x)\n",
        "sel.append(\"buyer_id\")\n",
        "sel.append(\"regency_market\")\n",
        "sel.append(\"buyer_city\")\n",
        "sel.append(\"regency_continent\")"
      ],
      "metadata": {
        "_uuid": "1bc92d63-81b7-4c6b-aa80-3cd7fc6396cc",
        "_cell_guid": "6e390c53-82ad-4aa6-9e55-da07340482bb",
        "jupyter": {
          "outputs_hidden": false
        },
        "execution": {
          "iopub.status.busy": "2021-07-19T16:21:31.523229Z",
          "iopub.execute_input": "2021-07-19T16:21:31.523846Z",
          "iopub.status.idle": "2021-07-19T16:21:31.530860Z",
          "shell.execute_reply.started": "2021-07-19T16:21:31.523784Z",
          "shell.execute_reply": "2021-07-19T16:21:31.529940Z"
        },
        "trusted": true,
        "id": "rsUOwfewH9oG"
      },
      "execution_count": null,
      "outputs": []
    },
    {
      "cell_type": "code",
      "source": [
        "#Saving Id value\n",
        "Id = test[\"id\"]\n",
        "\n",
        "train_ = train_[sel]\n",
        "pred = test[sel]"
      ],
      "metadata": {
        "_uuid": "26fc0502-778c-4253-b0b2-b25963c21b6c",
        "_cell_guid": "4e63a9ac-ed9e-4ce8-a2fc-8d3c50211959",
        "jupyter": {
          "outputs_hidden": false
        },
        "execution": {
          "iopub.status.busy": "2021-07-19T16:21:31.532051Z",
          "iopub.execute_input": "2021-07-19T16:21:31.532525Z",
          "iopub.status.idle": "2021-07-19T16:21:31.957575Z",
          "shell.execute_reply.started": "2021-07-19T16:21:31.532489Z",
          "shell.execute_reply": "2021-07-19T16:21:31.956723Z"
        },
        "trusted": true,
        "id": "nYOH_b_YH9oG"
      },
      "execution_count": null,
      "outputs": []
    },
    {
      "cell_type": "code",
      "source": [
        "train.columns"
      ],
      "metadata": {
        "_uuid": "128ddf4f-d766-410a-9fb3-3b866e325739",
        "_cell_guid": "d66d862a-882b-4527-8508-a7fd77e7aad9",
        "jupyter": {
          "outputs_hidden": false
        },
        "execution": {
          "iopub.status.busy": "2021-07-19T16:21:31.958714Z",
          "iopub.execute_input": "2021-07-19T16:21:31.959203Z",
          "iopub.status.idle": "2021-07-19T16:21:31.965472Z",
          "shell.execute_reply.started": "2021-07-19T16:21:31.959171Z",
          "shell.execute_reply": "2021-07-19T16:21:31.964382Z"
        },
        "trusted": true,
        "id": "4vpB8upzH9oG",
        "outputId": "2bd8ec06-9ade-4cef-ec65-7fa975116f53"
      },
      "execution_count": null,
      "outputs": [
        {
          "execution_count": 34,
          "output_type": "execute_result",
          "data": {
            "text/plain": "Index(['site', 'continent_id', 'buyer_country', 'buyer_region', 'buyer_city',\n       'buyer_id', 'mobile', 'package', 'channel_id', 'adults',\n       ...\n       'is_90', 'is_91', 'is_92', 'is_93', 'is_94', 'is_95', 'is_96', 'is_97',\n       'is_98', 'is_99'],\n      dtype='object', length=125)"
          },
          "metadata": {}
        }
      ]
    },
    {
      "cell_type": "code",
      "source": [
        "mode = train[\"regency_cluster\"].mode()\n",
        "mode_encode = train.groupby(\"buyer_id\")['regency_cluster'].agg(lambda x:x.value_counts().index[0])\n",
        "train_[\"buyer_id_enc\"] = train[\"buyer_id\"].map(mode_encode).fillna(mode)\n",
        "pred[\"buyer_id_enc\"] = pred[\"buyer_id\"].map(mode_encode).fillna(mode)"
      ],
      "metadata": {
        "_uuid": "334702aa-ad93-4a3c-9ba1-1281373fc49d",
        "_cell_guid": "1a4e90c4-2634-43bf-b121-232c92cef867",
        "jupyter": {
          "outputs_hidden": false
        },
        "execution": {
          "iopub.status.busy": "2021-07-19T16:21:31.966818Z",
          "iopub.execute_input": "2021-07-19T16:21:31.967329Z",
          "iopub.status.idle": "2021-07-19T16:21:36.070682Z",
          "shell.execute_reply.started": "2021-07-19T16:21:31.967292Z",
          "shell.execute_reply": "2021-07-19T16:21:36.068966Z"
        },
        "trusted": true,
        "id": "VjmJ1td0H9oH",
        "outputId": "f48ccd5b-9f83-41fe-ce62-a87672760dbb"
      },
      "execution_count": null,
      "outputs": [
        {
          "name": "stderr",
          "text": "/opt/conda/lib/python3.7/site-packages/ipykernel_launcher.py:3: SettingWithCopyWarning: \nA value is trying to be set on a copy of a slice from a DataFrame.\nTry using .loc[row_indexer,col_indexer] = value instead\n\nSee the caveats in the documentation: https://pandas.pydata.org/pandas-docs/stable/user_guide/indexing.html#returning-a-view-versus-a-copy\n  This is separate from the ipykernel package so we can avoid doing imports until\n/opt/conda/lib/python3.7/site-packages/ipykernel_launcher.py:4: SettingWithCopyWarning: \nA value is trying to be set on a copy of a slice from a DataFrame.\nTry using .loc[row_indexer,col_indexer] = value instead\n\nSee the caveats in the documentation: https://pandas.pydata.org/pandas-docs/stable/user_guide/indexing.html#returning-a-view-versus-a-copy\n  after removing the cwd from sys.path.\n",
          "output_type": "stream"
        }
      ]
    },
    {
      "cell_type": "code",
      "source": [
        "train_ =train_.drop(columns=\"buyer_id\")\n",
        "pred = pred.drop(columns=\"buyer_id\")"
      ],
      "metadata": {
        "_uuid": "f9dad6bb-4dd6-429d-8099-e039d843ad2a",
        "_cell_guid": "9da97abd-05c5-48bb-a4b4-7460047626eb",
        "jupyter": {
          "outputs_hidden": false
        },
        "execution": {
          "iopub.status.busy": "2021-07-19T16:21:36.072274Z",
          "iopub.execute_input": "2021-07-19T16:21:36.072630Z",
          "iopub.status.idle": "2021-07-19T16:21:36.183959Z",
          "shell.execute_reply.started": "2021-07-19T16:21:36.072597Z",
          "shell.execute_reply": "2021-07-19T16:21:36.182375Z"
        },
        "trusted": true,
        "id": "ZQcGKbqmH9oH"
      },
      "execution_count": null,
      "outputs": []
    },
    {
      "cell_type": "code",
      "source": [
        "#sel_cat = [\"destination_id\"]\n",
        "#sel_num = [\"regency_market\"]\n",
        "#sel_feature = [\"buyer_id_enc\",\"destination_id_enc\",\"buyer_city_enc\",\"regency_market_enc\"]\n",
        "#sel_feature = [\"destination_id\",\"buyer_id\",\"buyer_city\",\"regency_continent\",\"regency_market\",\"buyer_id_enc\",\"destination_id_enc\",\"buyer_city_enc\",\"regency_market_enc\",\"regency_continent_enc\"]\n",
        "#train = train[sel_feature]\n",
        "\n",
        "#train_ = train_.drop(columns=[\"buyer_id\",\"regency_cluster\"])\n",
        "\n",
        "\n",
        "from sklearn.model_selection import train_test_split\n",
        "X_train, X_test, y_train, y_test = train_test_split(train_, target, train_size = 0.8,test_size=0.2, random_state=123,stratify = target)"
      ],
      "metadata": {
        "_uuid": "173b984e-84e1-4161-9105-d2898a89e0e2",
        "_cell_guid": "72a51fd6-8440-4065-a219-ec0d6177b4ca",
        "jupyter": {
          "outputs_hidden": false
        },
        "execution": {
          "iopub.status.busy": "2021-07-19T16:21:36.185370Z",
          "iopub.execute_input": "2021-07-19T16:21:36.185729Z",
          "iopub.status.idle": "2021-07-19T16:21:36.839478Z",
          "shell.execute_reply.started": "2021-07-19T16:21:36.185697Z",
          "shell.execute_reply": "2021-07-19T16:21:36.838512Z"
        },
        "trusted": true,
        "id": "ku_CQQRZH9oH"
      },
      "execution_count": null,
      "outputs": []
    },
    {
      "cell_type": "code",
      "source": [
        "from imblearn.over_sampling import SMOTE\n",
        "from imblearn.under_sampling import RandomUnderSampler\n",
        "from imblearn.pipeline import Pipeline\n",
        "\n",
        "#over = SMOTE()\n",
        "#under = RandomUnderSampler()\n",
        "#steps = [('o', over), ('u', under)]\n",
        "#pipeline = Pipeline(steps=steps)\n",
        "# transform the dataset\n",
        "#X_train, y_train = over.fit_resample(X_train, y_train)"
      ],
      "metadata": {
        "_uuid": "c5abed44-298f-4341-b30a-ca2e2d55683d",
        "_cell_guid": "23dc5b4f-1808-49fc-ad2e-4787ea591934",
        "jupyter": {
          "outputs_hidden": false
        },
        "execution": {
          "iopub.status.busy": "2021-07-19T16:21:36.840963Z",
          "iopub.execute_input": "2021-07-19T16:21:36.841272Z",
          "iopub.status.idle": "2021-07-19T16:21:37.207379Z",
          "shell.execute_reply.started": "2021-07-19T16:21:36.841242Z",
          "shell.execute_reply": "2021-07-19T16:21:37.205504Z"
        },
        "trusted": true,
        "id": "_VAE4EYmH9oI"
      },
      "execution_count": null,
      "outputs": []
    },
    {
      "cell_type": "code",
      "source": [
        "# Feature Scaling\n",
        "#from sklearn.preprocessing import StandardScaler\n",
        "#X_train = X\n",
        "#y_train = y\n",
        "\n",
        "#sc = StandardScaler()\n",
        "#X_train = sc.fit_transform(X_train)\n",
        "#X_test = sc.transform(X_test)"
      ],
      "metadata": {
        "_uuid": "bb636b8d-1836-4c10-a979-052680b27871",
        "_cell_guid": "4adc8b24-76b8-4573-b736-497c62b1fae0",
        "jupyter": {
          "outputs_hidden": false
        },
        "execution": {
          "iopub.status.busy": "2021-07-19T16:21:37.209051Z",
          "iopub.execute_input": "2021-07-19T16:21:37.209387Z",
          "iopub.status.idle": "2021-07-19T16:21:37.215398Z",
          "shell.execute_reply.started": "2021-07-19T16:21:37.209356Z",
          "shell.execute_reply": "2021-07-19T16:21:37.213465Z"
        },
        "trusted": true,
        "id": "GxebmrCbH9oI"
      },
      "execution_count": null,
      "outputs": []
    },
    {
      "cell_type": "markdown",
      "source": [
        "# 4. Modelling"
      ],
      "metadata": {
        "_uuid": "5fdb3096-bd40-4d5a-a3bd-8294f2f11e3f",
        "_cell_guid": "bda8b50b-5ce2-4e71-bfaa-0265e5e2afb2",
        "trusted": true,
        "id": "E8eelh0vH9oJ"
      }
    },
    {
      "cell_type": "code",
      "source": [
        "#Modeling\n",
        "from sklearn.multiclass import OneVsOneClassifier\n",
        "from sklearn.svm import SVC\n",
        "from sklearn.metrics import make_scorer, accuracy_score, precision_score, recall_score, f1_score\n",
        "from sklearn.model_selection import train_test_split, KFold, cross_validate, cross_val_predict\n",
        "from sklearn.linear_model import LogisticRegression\n",
        "import warnings\n",
        "from sklearn.tree import DecisionTreeClassifier, DecisionTreeRegressor\n",
        "from sklearn.ensemble import GradientBoostingClassifier\n",
        "from sklearn.neighbors import KNeighborsClassifier\n",
        "from sklearn.ensemble import RandomForestClassifier, ExtraTreesClassifier, VotingClassifier, GradientBoostingClassifier\n",
        "from sklearn.naive_bayes import MultinomialNB, GaussianNB\n",
        "\n",
        "from sklearn.model_selection import train_test_split\n",
        "from sklearn.metrics import confusion_matrix\n",
        "from sklearn.metrics import roc_auc_score\n",
        "from sklearn.metrics import classification_report\n",
        "from sklearn.datasets import make_multilabel_classification\n",
        "from sklearn.svm import SVC\n",
        "from sklearn.multioutput import MultiOutputClassifier\n",
        "from sklearn.multiclass import OneVsRestClassifier\n",
        "\n",
        "from sklearn.linear_model import LogisticRegression\n",
        "\n",
        "#model = GaussianNB()\n",
        "model = DecisionTreeClassifier()\n",
        "#model = LogisticRegression(solver='liblinear')\n",
        "#model = OneVsRestClassifier(model)\n",
        "\n",
        "\n",
        "#model = RandomForestClassifier()\n",
        "#model = GradientBoostingClassifier()\n",
        "#model = KNeighborsClassifier()\n",
        "#model = ExtraTreesClassifier()\n",
        "#model = DecisionTreeRegressor()\n",
        "model.fit(X_train, y_train)\n",
        "y_pred = model.predict(X_test)\n",
        "\n",
        "accuracy = accuracy_score(y_test, y_pred)\n",
        "#f1 = f1_score(y_test, y_pred, average='weighted')\n",
        "print('Accuracy : ', \"%.2f\" % (accuracy*100))\n",
        "#print('F1 : ', \"%.2f\" % (f1*100))"
      ],
      "metadata": {
        "_uuid": "4da761ad-0d55-4e5b-a9ac-96ec7894ff43",
        "_cell_guid": "0e8933e4-ee41-4418-8f2d-8e5e6bc97be0",
        "jupyter": {
          "outputs_hidden": false
        },
        "execution": {
          "iopub.status.busy": "2021-07-19T16:21:37.216971Z",
          "iopub.execute_input": "2021-07-19T16:21:37.217336Z",
          "iopub.status.idle": "2021-07-19T16:21:51.264578Z",
          "shell.execute_reply.started": "2021-07-19T16:21:37.217303Z",
          "shell.execute_reply": "2021-07-19T16:21:51.262720Z"
        },
        "trusted": true,
        "id": "-0RlD3RBH9oJ",
        "outputId": "5c2610c6-3c61-43a8-ed7a-880409908f25"
      },
      "execution_count": null,
      "outputs": [
        {
          "name": "stdout",
          "text": "Accuracy :  31.46\n",
          "output_type": "stream"
        }
      ]
    },
    {
      "cell_type": "markdown",
      "source": [
        "# 5. Validating"
      ],
      "metadata": {
        "_uuid": "b69e2a9b-866b-4f25-aa08-999a05464ba2",
        "_cell_guid": "1df5f935-7701-4da2-b8d9-0d00fecfd62e",
        "trusted": true,
        "id": "kH6LDuMyH9oK"
      }
    },
    {
      "cell_type": "code",
      "source": [
        "#Cross-Validation\n",
        "scoring = {'accuracy' : make_scorer(accuracy_score)}\n",
        "           #'precision' : make_scorer(precision_score),\n",
        "           #'recall' : make_scorer(recall_score)}\n",
        "           #'f1_score' : make_scorer(f1_score(average='weighted'))}\n",
        "kfold = KFold(n_splits=5, random_state=1234, shuffle = True)\n",
        "results_clf = cross_validate(estimator=model,X=X_train,\n",
        "                                          y=y_train,\n",
        "                                          cv=kfold,\n",
        "                                          scoring=scoring)\n",
        "results_clf"
      ],
      "metadata": {
        "_uuid": "34148bad-bb7c-41cf-a586-af3726bea0a2",
        "_cell_guid": "507e22d9-6fc3-49af-8211-344ddc903b8d",
        "jupyter": {
          "outputs_hidden": false
        },
        "execution": {
          "iopub.status.busy": "2021-07-19T16:21:51.266059Z",
          "iopub.execute_input": "2021-07-19T16:21:51.266400Z",
          "iopub.status.idle": "2021-07-19T16:22:43.419882Z",
          "shell.execute_reply.started": "2021-07-19T16:21:51.266370Z",
          "shell.execute_reply": "2021-07-19T16:22:43.418843Z"
        },
        "trusted": true,
        "id": "PGfwAEXdH9oK",
        "outputId": "489823bc-d54e-42ae-f623-8892d8327405"
      },
      "execution_count": null,
      "outputs": [
        {
          "execution_count": 41,
          "output_type": "execute_result",
          "data": {
            "text/plain": "{'fit_time': array([10.55016828, 10.51996064, 10.61088133,  9.77059388, 10.12751746]),\n 'score_time': array([0.10237408, 0.10242343, 0.10260296, 0.10043049, 0.10000348]),\n 'test_accuracy': array([0.29479421, 0.29705443, 0.29734607, 0.29715098, 0.30086947])}"
          },
          "metadata": {}
        }
      ]
    },
    {
      "cell_type": "code",
      "source": [
        "a = results_clf.get('test_accuracy')\n",
        "print('Validation Mean Accuracy : ', \"%.2f\" % (a.mean()*100))"
      ],
      "metadata": {
        "_uuid": "c88cb943-8560-45d2-b41a-7d422b996242",
        "_cell_guid": "a07c4b0d-8dba-4333-b024-3db7332a88dc",
        "jupyter": {
          "outputs_hidden": false
        },
        "execution": {
          "iopub.status.busy": "2021-07-19T16:22:43.421329Z",
          "iopub.execute_input": "2021-07-19T16:22:43.421719Z",
          "iopub.status.idle": "2021-07-19T16:22:43.427915Z",
          "shell.execute_reply.started": "2021-07-19T16:22:43.421685Z",
          "shell.execute_reply": "2021-07-19T16:22:43.426880Z"
        },
        "trusted": true,
        "id": "H_MUCucfH9oL",
        "outputId": "67cad1aa-0fa3-4e5f-c322-bc19d008d00c"
      },
      "execution_count": null,
      "outputs": [
        {
          "name": "stdout",
          "text": "Validation Mean Accuracy :  29.74\n",
          "output_type": "stream"
        }
      ]
    },
    {
      "cell_type": "markdown",
      "source": [
        "# 6. Submission"
      ],
      "metadata": {
        "_uuid": "bbc1d1b9-211a-497f-8ee9-e805f6733b7e",
        "_cell_guid": "dc4c9081-fdcd-4776-9656-b7797f10f39a",
        "trusted": true,
        "id": "U0a7TiTPH9oL"
      }
    },
    {
      "cell_type": "code",
      "source": [
        "#Submission\n",
        "Id.to_numpy()\n",
        "Y_pred = model.predict(pred)\n",
        "submission = pd.DataFrame({\n",
        "    \"id\": Id,\n",
        "    \"regency_cluster\": Y_pred\n",
        "    })\n",
        "submission.to_csv(\"submission.csv\", index=False)"
      ],
      "metadata": {
        "_uuid": "94dbb18f-3906-4f47-88a7-c4aec81e4655",
        "_cell_guid": "71562e9d-8235-4648-9b51-3d11518a0aab",
        "jupyter": {
          "outputs_hidden": false
        },
        "execution": {
          "iopub.status.busy": "2021-07-19T16:22:43.429392Z",
          "iopub.execute_input": "2021-07-19T16:22:43.429822Z",
          "iopub.status.idle": "2021-07-19T16:22:43.521948Z",
          "shell.execute_reply.started": "2021-07-19T16:22:43.429745Z",
          "shell.execute_reply": "2021-07-19T16:22:43.520812Z"
        },
        "trusted": true,
        "id": "9HzEZgq2H9oL"
      },
      "execution_count": null,
      "outputs": []
    },
    {
      "cell_type": "code",
      "source": [
        "submission"
      ],
      "metadata": {
        "_uuid": "595bc75a-527c-4464-ba53-a9454c3b1a72",
        "_cell_guid": "e1c7689d-2c29-4a2a-b26c-3311742658c2",
        "jupyter": {
          "outputs_hidden": false
        },
        "execution": {
          "iopub.status.busy": "2021-07-19T16:22:43.523257Z",
          "iopub.execute_input": "2021-07-19T16:22:43.523619Z",
          "iopub.status.idle": "2021-07-19T16:22:43.537888Z",
          "shell.execute_reply.started": "2021-07-19T16:22:43.523573Z",
          "shell.execute_reply": "2021-07-19T16:22:43.537067Z"
        },
        "trusted": true,
        "id": "mM_ElWhoH9oM",
        "outputId": "e0bbfef8-178f-4e8c-809c-b12ceae59723"
      },
      "execution_count": null,
      "outputs": [
        {
          "execution_count": 44,
          "output_type": "execute_result",
          "data": {
            "text/plain": "            id  regency_cluster\n0            0                8\n1            1               91\n2            2                0\n3            3               24\n4            4               48\n...        ...              ...\n21013  2171326               51\n21014  2171327                7\n21015  2171328                3\n21016  2171329               75\n21017  2171330               20\n\n[21018 rows x 2 columns]",
            "text/html": "<div>\n<style scoped>\n    .dataframe tbody tr th:only-of-type {\n        vertical-align: middle;\n    }\n\n    .dataframe tbody tr th {\n        vertical-align: top;\n    }\n\n    .dataframe thead th {\n        text-align: right;\n    }\n</style>\n<table border=\"1\" class=\"dataframe\">\n  <thead>\n    <tr style=\"text-align: right;\">\n      <th></th>\n      <th>id</th>\n      <th>regency_cluster</th>\n    </tr>\n  </thead>\n  <tbody>\n    <tr>\n      <th>0</th>\n      <td>0</td>\n      <td>8</td>\n    </tr>\n    <tr>\n      <th>1</th>\n      <td>1</td>\n      <td>91</td>\n    </tr>\n    <tr>\n      <th>2</th>\n      <td>2</td>\n      <td>0</td>\n    </tr>\n    <tr>\n      <th>3</th>\n      <td>3</td>\n      <td>24</td>\n    </tr>\n    <tr>\n      <th>4</th>\n      <td>4</td>\n      <td>48</td>\n    </tr>\n    <tr>\n      <th>...</th>\n      <td>...</td>\n      <td>...</td>\n    </tr>\n    <tr>\n      <th>21013</th>\n      <td>2171326</td>\n      <td>51</td>\n    </tr>\n    <tr>\n      <th>21014</th>\n      <td>2171327</td>\n      <td>7</td>\n    </tr>\n    <tr>\n      <th>21015</th>\n      <td>2171328</td>\n      <td>3</td>\n    </tr>\n    <tr>\n      <th>21016</th>\n      <td>2171329</td>\n      <td>75</td>\n    </tr>\n    <tr>\n      <th>21017</th>\n      <td>2171330</td>\n      <td>20</td>\n    </tr>\n  </tbody>\n</table>\n<p>21018 rows × 2 columns</p>\n</div>"
          },
          "metadata": {}
        }
      ]
    }
  ]
}