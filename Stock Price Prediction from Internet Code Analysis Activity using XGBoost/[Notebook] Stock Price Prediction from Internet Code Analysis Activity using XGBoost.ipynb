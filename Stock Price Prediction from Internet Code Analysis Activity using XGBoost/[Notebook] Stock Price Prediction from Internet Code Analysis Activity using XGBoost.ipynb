{
  "nbformat": 4,
  "nbformat_minor": 0,
  "metadata": {
    "colab": {
      "name": "DAC 2021 Semifinals",
      "provenance": [],
      "collapsed_sections": []
    },
    "kernelspec": {
      "name": "python3",
      "display_name": "Python 3"
    },
    "language_info": {
      "name": "python"
    }
  },
  "cells": [
    {
      "cell_type": "code",
      "metadata": {
        "colab": {
          "base_uri": "https://localhost:8080/"
        },
        "id": "3-XS0j7eSRCj",
        "outputId": "e9e9e98c-3410-4cac-ced7-c07e68b20126"
      },
      "source": [
        "!pip install optuna\n",
        "\n",
        "import numpy as np # linear algebra\n",
        "import pandas as pd # data processing, CSV file I/O (e.g. pd.read_csv)\n",
        "import seaborn as sns\n",
        "import matplotlib.pyplot as plt\n",
        "\n",
        "import numpy as np\n",
        "import pandas as pd\n",
        "import matplotlib.pyplot as plt\n",
        "import seaborn as sns\n",
        "import missingno as msno\n",
        "## Display all the columns of the dataframe\n",
        "pd.pandas.set_option('display.max_columns',None)\n",
        "\n",
        "from scipy import stats\n",
        "from scipy.stats import norm, skew # for some statistics\n",
        "import warnings # to ignore warning\n",
        "from sklearn.preprocessing import RobustScaler, PowerTransformer, LabelEncoder\n",
        "from sklearn.pipeline import make_pipeline\n",
        "from sklearn.model_selection import train_test_split\n",
        "\n",
        "import optuna\n",
        "from sklearn.model_selection import KFold, cross_val_score\n",
        "from sklearn.linear_model import Ridge, Lasso, ElasticNet, LassoCV, RidgeCV\n",
        "\n",
        "from sklearn.ensemble import StackingRegressor, RandomForestRegressor, GradientBoostingRegressor\n",
        "from sklearn.svm import SVR\n",
        "import xgboost as xgb\n",
        "import lightgbm as lgb\n",
        "import joblib"
      ],
      "execution_count": null,
      "outputs": [
        {
          "output_type": "stream",
          "name": "stdout",
          "text": [
            "Requirement already satisfied: optuna in /usr/local/lib/python3.7/dist-packages (2.9.1)\n",
            "Requirement already satisfied: sqlalchemy>=1.1.0 in /usr/local/lib/python3.7/dist-packages (from optuna) (1.4.22)\n",
            "Requirement already satisfied: numpy in /usr/local/lib/python3.7/dist-packages (from optuna) (1.19.5)\n",
            "Requirement already satisfied: tqdm in /usr/local/lib/python3.7/dist-packages (from optuna) (4.62.0)\n",
            "Requirement already satisfied: PyYAML in /usr/local/lib/python3.7/dist-packages (from optuna) (3.13)\n",
            "Requirement already satisfied: scipy!=1.4.0 in /usr/local/lib/python3.7/dist-packages (from optuna) (1.4.1)\n",
            "Requirement already satisfied: packaging>=20.0 in /usr/local/lib/python3.7/dist-packages (from optuna) (21.0)\n",
            "Requirement already satisfied: cliff in /usr/local/lib/python3.7/dist-packages (from optuna) (3.9.0)\n",
            "Requirement already satisfied: alembic in /usr/local/lib/python3.7/dist-packages (from optuna) (1.7.1)\n",
            "Requirement already satisfied: colorlog in /usr/local/lib/python3.7/dist-packages (from optuna) (6.4.1)\n",
            "Requirement already satisfied: cmaes>=0.8.2 in /usr/local/lib/python3.7/dist-packages (from optuna) (0.8.2)\n",
            "Requirement already satisfied: pyparsing>=2.0.2 in /usr/local/lib/python3.7/dist-packages (from packaging>=20.0->optuna) (2.4.7)\n",
            "Requirement already satisfied: importlib-metadata in /usr/local/lib/python3.7/dist-packages (from sqlalchemy>=1.1.0->optuna) (4.6.4)\n",
            "Requirement already satisfied: greenlet!=0.4.17 in /usr/local/lib/python3.7/dist-packages (from sqlalchemy>=1.1.0->optuna) (1.1.1)\n",
            "Requirement already satisfied: importlib-resources in /usr/local/lib/python3.7/dist-packages (from alembic->optuna) (5.2.2)\n",
            "Requirement already satisfied: Mako in /usr/local/lib/python3.7/dist-packages (from alembic->optuna) (1.1.5)\n",
            "Requirement already satisfied: autopage>=0.4.0 in /usr/local/lib/python3.7/dist-packages (from cliff->optuna) (0.4.0)\n",
            "Requirement already satisfied: pbr!=2.1.0,>=2.0.0 in /usr/local/lib/python3.7/dist-packages (from cliff->optuna) (5.6.0)\n",
            "Requirement already satisfied: PrettyTable>=0.7.2 in /usr/local/lib/python3.7/dist-packages (from cliff->optuna) (2.1.0)\n",
            "Requirement already satisfied: cmd2>=1.0.0 in /usr/local/lib/python3.7/dist-packages (from cliff->optuna) (2.1.2)\n",
            "Requirement already satisfied: stevedore>=2.0.1 in /usr/local/lib/python3.7/dist-packages (from cliff->optuna) (3.4.0)\n",
            "Requirement already satisfied: pyperclip>=1.6 in /usr/local/lib/python3.7/dist-packages (from cmd2>=1.0.0->cliff->optuna) (1.8.2)\n",
            "Requirement already satisfied: colorama>=0.3.7 in /usr/local/lib/python3.7/dist-packages (from cmd2>=1.0.0->cliff->optuna) (0.4.4)\n",
            "Requirement already satisfied: typing-extensions in /usr/local/lib/python3.7/dist-packages (from cmd2>=1.0.0->cliff->optuna) (3.7.4.3)\n",
            "Requirement already satisfied: wcwidth>=0.1.7 in /usr/local/lib/python3.7/dist-packages (from cmd2>=1.0.0->cliff->optuna) (0.2.5)\n",
            "Requirement already satisfied: attrs>=16.3.0 in /usr/local/lib/python3.7/dist-packages (from cmd2>=1.0.0->cliff->optuna) (21.2.0)\n",
            "Requirement already satisfied: zipp>=0.5 in /usr/local/lib/python3.7/dist-packages (from importlib-metadata->sqlalchemy>=1.1.0->optuna) (3.5.0)\n",
            "Requirement already satisfied: MarkupSafe>=0.9.2 in /usr/local/lib/python3.7/dist-packages (from Mako->alembic->optuna) (2.0.1)\n"
          ]
        }
      ]
    },
    {
      "cell_type": "code",
      "metadata": {
        "id": "xthj_Io5SYa9"
      },
      "source": [
        "df = pd.read_csv(\"https://drive.google.com/uc?id=1iEEHJT-52CJx71Kh3uUM8bje4JMFmbo2\")"
      ],
      "execution_count": null,
      "outputs": []
    },
    {
      "cell_type": "code",
      "metadata": {
        "colab": {
          "base_uri": "https://localhost:8080/",
          "height": 379
        },
        "id": "qun4WtTlT18q",
        "outputId": "bd328ee0-ff1e-47f4-e64c-09e764233926"
      },
      "source": [
        "df.sample(10)"
      ],
      "execution_count": null,
      "outputs": [
        {
          "output_type": "execute_result",
          "data": {
            "text/html": [
              "<div>\n",
              "<style scoped>\n",
              "    .dataframe tbody tr th:only-of-type {\n",
              "        vertical-align: middle;\n",
              "    }\n",
              "\n",
              "    .dataframe tbody tr th {\n",
              "        vertical-align: top;\n",
              "    }\n",
              "\n",
              "    .dataframe thead th {\n",
              "        text-align: right;\n",
              "    }\n",
              "</style>\n",
              "<table border=\"1\" class=\"dataframe\">\n",
              "  <thead>\n",
              "    <tr style=\"text-align: right;\">\n",
              "      <th></th>\n",
              "      <th>date</th>\n",
              "      <th>company_code</th>\n",
              "      <th>is_copied</th>\n",
              "      <th>language</th>\n",
              "      <th>last_published</th>\n",
              "      <th>changes_24h</th>\n",
              "      <th>changes_7d</th>\n",
              "      <th>added_24h</th>\n",
              "      <th>removed_24h</th>\n",
              "      <th>added_7d</th>\n",
              "      <th>removed_7d</th>\n",
              "      <th>contributors_7d</th>\n",
              "      <th>contributors_all_time</th>\n",
              "      <th>changes_1y</th>\n",
              "      <th>added_1y</th>\n",
              "      <th>removed_1y</th>\n",
              "      <th>stars</th>\n",
              "      <th>copy</th>\n",
              "      <th>watchers</th>\n",
              "      <th>market_cap_rank</th>\n",
              "      <th>price_share_usd</th>\n",
              "      <th>market_cap_usd</th>\n",
              "    </tr>\n",
              "  </thead>\n",
              "  <tbody>\n",
              "    <tr>\n",
              "      <th>885</th>\n",
              "      <td>2/25/2018</td>\n",
              "      <td>CLT</td>\n",
              "      <td>True</td>\n",
              "      <td>Java</td>\n",
              "      <td>104d</td>\n",
              "      <td>0</td>\n",
              "      <td>0</td>\n",
              "      <td>0</td>\n",
              "      <td>0</td>\n",
              "      <td>0</td>\n",
              "      <td>0</td>\n",
              "      <td>0</td>\n",
              "      <td>0</td>\n",
              "      <td>0</td>\n",
              "      <td>0</td>\n",
              "      <td>0</td>\n",
              "      <td>4</td>\n",
              "      <td>2</td>\n",
              "      <td>14</td>\n",
              "      <td>5</td>\n",
              "      <td>204.793000</td>\n",
              "      <td>1.133911e+10</td>\n",
              "    </tr>\n",
              "    <tr>\n",
              "      <th>2508</th>\n",
              "      <td>4/30/2018</td>\n",
              "      <td>AAD</td>\n",
              "      <td>False</td>\n",
              "      <td>JavaScript</td>\n",
              "      <td>97d</td>\n",
              "      <td>0</td>\n",
              "      <td>0</td>\n",
              "      <td>0</td>\n",
              "      <td>0</td>\n",
              "      <td>0</td>\n",
              "      <td>0</td>\n",
              "      <td>0</td>\n",
              "      <td>2</td>\n",
              "      <td>0</td>\n",
              "      <td>0</td>\n",
              "      <td>0</td>\n",
              "      <td>0</td>\n",
              "      <td>1</td>\n",
              "      <td>14</td>\n",
              "      <td>6</td>\n",
              "      <td>0.347514</td>\n",
              "      <td>9.010020e+09</td>\n",
              "    </tr>\n",
              "    <tr>\n",
              "      <th>4630</th>\n",
              "      <td>8/16/2018</td>\n",
              "      <td>RXM</td>\n",
              "      <td>False</td>\n",
              "      <td>C</td>\n",
              "      <td>18d</td>\n",
              "      <td>0</td>\n",
              "      <td>0</td>\n",
              "      <td>0</td>\n",
              "      <td>0</td>\n",
              "      <td>0</td>\n",
              "      <td>0</td>\n",
              "      <td>0</td>\n",
              "      <td>10</td>\n",
              "      <td>215</td>\n",
              "      <td>1757456</td>\n",
              "      <td>425196</td>\n",
              "      <td>28</td>\n",
              "      <td>13</td>\n",
              "      <td>20</td>\n",
              "      <td>10</td>\n",
              "      <td>89.683844</td>\n",
              "      <td>1.463741e+09</td>\n",
              "    </tr>\n",
              "    <tr>\n",
              "      <th>1703</th>\n",
              "      <td>3/30/2018</td>\n",
              "      <td>AAD</td>\n",
              "      <td>False</td>\n",
              "      <td>JavaScript</td>\n",
              "      <td>66d</td>\n",
              "      <td>0</td>\n",
              "      <td>0</td>\n",
              "      <td>0</td>\n",
              "      <td>0</td>\n",
              "      <td>0</td>\n",
              "      <td>0</td>\n",
              "      <td>0</td>\n",
              "      <td>2</td>\n",
              "      <td>7</td>\n",
              "      <td>0</td>\n",
              "      <td>0</td>\n",
              "      <td>0</td>\n",
              "      <td>1</td>\n",
              "      <td>14</td>\n",
              "      <td>7</td>\n",
              "      <td>0.140412</td>\n",
              "      <td>3.640472e+09</td>\n",
              "    </tr>\n",
              "    <tr>\n",
              "      <th>4472</th>\n",
              "      <td>8/9/2018</td>\n",
              "      <td>KLS</td>\n",
              "      <td>False</td>\n",
              "      <td>JavaScript</td>\n",
              "      <td>391d</td>\n",
              "      <td>0</td>\n",
              "      <td>0</td>\n",
              "      <td>0</td>\n",
              "      <td>0</td>\n",
              "      <td>0</td>\n",
              "      <td>0</td>\n",
              "      <td>0</td>\n",
              "      <td>0</td>\n",
              "      <td>0</td>\n",
              "      <td>0</td>\n",
              "      <td>0</td>\n",
              "      <td>1</td>\n",
              "      <td>7</td>\n",
              "      <td>2</td>\n",
              "      <td>26</td>\n",
              "      <td>3.403779</td>\n",
              "      <td>3.705171e+08</td>\n",
              "    </tr>\n",
              "    <tr>\n",
              "      <th>2771</th>\n",
              "      <td>5/14/2018</td>\n",
              "      <td>SEO</td>\n",
              "      <td>True</td>\n",
              "      <td>C++</td>\n",
              "      <td>5d</td>\n",
              "      <td>0</td>\n",
              "      <td>0</td>\n",
              "      <td>0</td>\n",
              "      <td>0</td>\n",
              "      <td>0</td>\n",
              "      <td>0</td>\n",
              "      <td>0</td>\n",
              "      <td>7</td>\n",
              "      <td>55</td>\n",
              "      <td>0</td>\n",
              "      <td>0</td>\n",
              "      <td>31</td>\n",
              "      <td>31</td>\n",
              "      <td>25</td>\n",
              "      <td>5</td>\n",
              "      <td>14.056700</td>\n",
              "      <td>1.201493e+10</td>\n",
              "    </tr>\n",
              "    <tr>\n",
              "      <th>4932</th>\n",
              "      <td>8/30/2018</td>\n",
              "      <td>GBT</td>\n",
              "      <td>False</td>\n",
              "      <td>Unknown</td>\n",
              "      <td>24d</td>\n",
              "      <td>0</td>\n",
              "      <td>0</td>\n",
              "      <td>0</td>\n",
              "      <td>0</td>\n",
              "      <td>0</td>\n",
              "      <td>0</td>\n",
              "      <td>0</td>\n",
              "      <td>1</td>\n",
              "      <td>10</td>\n",
              "      <td>0</td>\n",
              "      <td>0</td>\n",
              "      <td>1</td>\n",
              "      <td>1</td>\n",
              "      <td>1</td>\n",
              "      <td>26</td>\n",
              "      <td>22.300851</td>\n",
              "      <td>3.837054e+08</td>\n",
              "    </tr>\n",
              "    <tr>\n",
              "      <th>3767</th>\n",
              "      <td>7/9/2018</td>\n",
              "      <td>RXM</td>\n",
              "      <td>False</td>\n",
              "      <td>C</td>\n",
              "      <td>5d</td>\n",
              "      <td>0</td>\n",
              "      <td>0</td>\n",
              "      <td>0</td>\n",
              "      <td>0</td>\n",
              "      <td>0</td>\n",
              "      <td>0</td>\n",
              "      <td>0</td>\n",
              "      <td>10</td>\n",
              "      <td>211</td>\n",
              "      <td>1755243</td>\n",
              "      <td>424903</td>\n",
              "      <td>27</td>\n",
              "      <td>12</td>\n",
              "      <td>19</td>\n",
              "      <td>13</td>\n",
              "      <td>139.965000</td>\n",
              "      <td>2.268488e+09</td>\n",
              "    </tr>\n",
              "    <tr>\n",
              "      <th>3227</th>\n",
              "      <td>6/16/2018</td>\n",
              "      <td>HDA</td>\n",
              "      <td>True</td>\n",
              "      <td>C</td>\n",
              "      <td>202d</td>\n",
              "      <td>0</td>\n",
              "      <td>0</td>\n",
              "      <td>0</td>\n",
              "      <td>0</td>\n",
              "      <td>0</td>\n",
              "      <td>0</td>\n",
              "      <td>0</td>\n",
              "      <td>1</td>\n",
              "      <td>0</td>\n",
              "      <td>0</td>\n",
              "      <td>0</td>\n",
              "      <td>1</td>\n",
              "      <td>2</td>\n",
              "      <td>2</td>\n",
              "      <td>13</td>\n",
              "      <td>256.853000</td>\n",
              "      <td>2.089714e+09</td>\n",
              "    </tr>\n",
              "    <tr>\n",
              "      <th>2584</th>\n",
              "      <td>5/6/2018</td>\n",
              "      <td>HBC</td>\n",
              "      <td>False</td>\n",
              "      <td>Unknown</td>\n",
              "      <td>2d</td>\n",
              "      <td>0</td>\n",
              "      <td>0</td>\n",
              "      <td>0</td>\n",
              "      <td>0</td>\n",
              "      <td>0</td>\n",
              "      <td>0</td>\n",
              "      <td>0</td>\n",
              "      <td>11</td>\n",
              "      <td>44</td>\n",
              "      <td>1397</td>\n",
              "      <td>125</td>\n",
              "      <td>117</td>\n",
              "      <td>68</td>\n",
              "      <td>56</td>\n",
              "      <td>4</td>\n",
              "      <td>1788.770000</td>\n",
              "      <td>3.061017e+10</td>\n",
              "    </tr>\n",
              "  </tbody>\n",
              "</table>\n",
              "</div>"
            ],
            "text/plain": [
              "           date company_code  is_copied    language last_published  \\\n",
              "885   2/25/2018          CLT       True        Java           104d   \n",
              "2508  4/30/2018          AAD      False  JavaScript            97d   \n",
              "4630  8/16/2018          RXM      False           C            18d   \n",
              "1703  3/30/2018          AAD      False  JavaScript            66d   \n",
              "4472   8/9/2018          KLS      False  JavaScript           391d   \n",
              "2771  5/14/2018          SEO       True         C++             5d   \n",
              "4932  8/30/2018          GBT      False     Unknown            24d   \n",
              "3767   7/9/2018          RXM      False           C             5d   \n",
              "3227  6/16/2018          HDA       True           C           202d   \n",
              "2584   5/6/2018          HBC      False     Unknown             2d   \n",
              "\n",
              "      changes_24h  changes_7d  added_24h  removed_24h  added_7d  removed_7d  \\\n",
              "885             0           0          0            0         0           0   \n",
              "2508            0           0          0            0         0           0   \n",
              "4630            0           0          0            0         0           0   \n",
              "1703            0           0          0            0         0           0   \n",
              "4472            0           0          0            0         0           0   \n",
              "2771            0           0          0            0         0           0   \n",
              "4932            0           0          0            0         0           0   \n",
              "3767            0           0          0            0         0           0   \n",
              "3227            0           0          0            0         0           0   \n",
              "2584            0           0          0            0         0           0   \n",
              "\n",
              "      contributors_7d  contributors_all_time  changes_1y  added_1y  \\\n",
              "885                 0                      0           0         0   \n",
              "2508                0                      2           0         0   \n",
              "4630                0                     10         215   1757456   \n",
              "1703                0                      2           7         0   \n",
              "4472                0                      0           0         0   \n",
              "2771                0                      7          55         0   \n",
              "4932                0                      1          10         0   \n",
              "3767                0                     10         211   1755243   \n",
              "3227                0                      1           0         0   \n",
              "2584                0                     11          44      1397   \n",
              "\n",
              "      removed_1y  stars  copy  watchers  market_cap_rank  price_share_usd  \\\n",
              "885            0      4     2        14                5       204.793000   \n",
              "2508           0      0     1        14                6         0.347514   \n",
              "4630      425196     28    13        20               10        89.683844   \n",
              "1703           0      0     1        14                7         0.140412   \n",
              "4472           0      1     7         2               26         3.403779   \n",
              "2771           0     31    31        25                5        14.056700   \n",
              "4932           0      1     1         1               26        22.300851   \n",
              "3767      424903     27    12        19               13       139.965000   \n",
              "3227           0      1     2         2               13       256.853000   \n",
              "2584         125    117    68        56                4      1788.770000   \n",
              "\n",
              "      market_cap_usd  \n",
              "885     1.133911e+10  \n",
              "2508    9.010020e+09  \n",
              "4630    1.463741e+09  \n",
              "1703    3.640472e+09  \n",
              "4472    3.705171e+08  \n",
              "2771    1.201493e+10  \n",
              "4932    3.837054e+08  \n",
              "3767    2.268488e+09  \n",
              "3227    2.089714e+09  \n",
              "2584    3.061017e+10  "
            ]
          },
          "metadata": {},
          "execution_count": 38
        }
      ]
    },
    {
      "cell_type": "code",
      "metadata": {
        "id": "9-AifcSafeYq"
      },
      "source": [
        "# Import label encoder\n",
        "from sklearn import preprocessing\n",
        "  \n",
        "# label_encoder object knows how to understand word labels.\n",
        "label_encoder = preprocessing.LabelEncoder()\n",
        "\n",
        "df['is_copied']= label_encoder.fit_transform(df['is_copied'])\n",
        "df['company_code_enc']= label_encoder.fit_transform(df['company_code'])\n",
        "df['language_enc']= label_encoder.fit_transform(df['language'])\n",
        "df[\"number_of_stocks\"] = df.market_cap_usd/df.price_share_usd\n"
      ],
      "execution_count": null,
      "outputs": []
    },
    {
      "cell_type": "code",
      "metadata": {
        "colab": {
          "base_uri": "https://localhost:8080/",
          "height": 824
        },
        "id": "kku2tmMIdin8",
        "outputId": "07829d48-8e44-475b-f736-cd5d861a50dc"
      },
      "source": [
        "missing_data = pd.DataFrame({'total_missing': df.isnull().sum(), 'perc_missing': (df.isnull().sum()/len(df.index))*100}) \n",
        "missing_data"
      ],
      "execution_count": null,
      "outputs": [
        {
          "output_type": "execute_result",
          "data": {
            "text/html": [
              "<div>\n",
              "<style scoped>\n",
              "    .dataframe tbody tr th:only-of-type {\n",
              "        vertical-align: middle;\n",
              "    }\n",
              "\n",
              "    .dataframe tbody tr th {\n",
              "        vertical-align: top;\n",
              "    }\n",
              "\n",
              "    .dataframe thead th {\n",
              "        text-align: right;\n",
              "    }\n",
              "</style>\n",
              "<table border=\"1\" class=\"dataframe\">\n",
              "  <thead>\n",
              "    <tr style=\"text-align: right;\">\n",
              "      <th></th>\n",
              "      <th>total_missing</th>\n",
              "      <th>perc_missing</th>\n",
              "    </tr>\n",
              "  </thead>\n",
              "  <tbody>\n",
              "    <tr>\n",
              "      <th>date</th>\n",
              "      <td>0</td>\n",
              "      <td>0.0</td>\n",
              "    </tr>\n",
              "    <tr>\n",
              "      <th>company_code</th>\n",
              "      <td>0</td>\n",
              "      <td>0.0</td>\n",
              "    </tr>\n",
              "    <tr>\n",
              "      <th>is_copied</th>\n",
              "      <td>0</td>\n",
              "      <td>0.0</td>\n",
              "    </tr>\n",
              "    <tr>\n",
              "      <th>language</th>\n",
              "      <td>0</td>\n",
              "      <td>0.0</td>\n",
              "    </tr>\n",
              "    <tr>\n",
              "      <th>last_published</th>\n",
              "      <td>0</td>\n",
              "      <td>0.0</td>\n",
              "    </tr>\n",
              "    <tr>\n",
              "      <th>changes_24h</th>\n",
              "      <td>0</td>\n",
              "      <td>0.0</td>\n",
              "    </tr>\n",
              "    <tr>\n",
              "      <th>changes_7d</th>\n",
              "      <td>0</td>\n",
              "      <td>0.0</td>\n",
              "    </tr>\n",
              "    <tr>\n",
              "      <th>added_24h</th>\n",
              "      <td>0</td>\n",
              "      <td>0.0</td>\n",
              "    </tr>\n",
              "    <tr>\n",
              "      <th>removed_24h</th>\n",
              "      <td>0</td>\n",
              "      <td>0.0</td>\n",
              "    </tr>\n",
              "    <tr>\n",
              "      <th>added_7d</th>\n",
              "      <td>0</td>\n",
              "      <td>0.0</td>\n",
              "    </tr>\n",
              "    <tr>\n",
              "      <th>removed_7d</th>\n",
              "      <td>0</td>\n",
              "      <td>0.0</td>\n",
              "    </tr>\n",
              "    <tr>\n",
              "      <th>contributors_7d</th>\n",
              "      <td>0</td>\n",
              "      <td>0.0</td>\n",
              "    </tr>\n",
              "    <tr>\n",
              "      <th>contributors_all_time</th>\n",
              "      <td>0</td>\n",
              "      <td>0.0</td>\n",
              "    </tr>\n",
              "    <tr>\n",
              "      <th>changes_1y</th>\n",
              "      <td>0</td>\n",
              "      <td>0.0</td>\n",
              "    </tr>\n",
              "    <tr>\n",
              "      <th>added_1y</th>\n",
              "      <td>0</td>\n",
              "      <td>0.0</td>\n",
              "    </tr>\n",
              "    <tr>\n",
              "      <th>removed_1y</th>\n",
              "      <td>0</td>\n",
              "      <td>0.0</td>\n",
              "    </tr>\n",
              "    <tr>\n",
              "      <th>stars</th>\n",
              "      <td>0</td>\n",
              "      <td>0.0</td>\n",
              "    </tr>\n",
              "    <tr>\n",
              "      <th>copy</th>\n",
              "      <td>0</td>\n",
              "      <td>0.0</td>\n",
              "    </tr>\n",
              "    <tr>\n",
              "      <th>watchers</th>\n",
              "      <td>0</td>\n",
              "      <td>0.0</td>\n",
              "    </tr>\n",
              "    <tr>\n",
              "      <th>market_cap_rank</th>\n",
              "      <td>0</td>\n",
              "      <td>0.0</td>\n",
              "    </tr>\n",
              "    <tr>\n",
              "      <th>price_share_usd</th>\n",
              "      <td>0</td>\n",
              "      <td>0.0</td>\n",
              "    </tr>\n",
              "    <tr>\n",
              "      <th>market_cap_usd</th>\n",
              "      <td>0</td>\n",
              "      <td>0.0</td>\n",
              "    </tr>\n",
              "    <tr>\n",
              "      <th>company_code_enc</th>\n",
              "      <td>0</td>\n",
              "      <td>0.0</td>\n",
              "    </tr>\n",
              "    <tr>\n",
              "      <th>language_enc</th>\n",
              "      <td>0</td>\n",
              "      <td>0.0</td>\n",
              "    </tr>\n",
              "    <tr>\n",
              "      <th>number_of_stocks</th>\n",
              "      <td>0</td>\n",
              "      <td>0.0</td>\n",
              "    </tr>\n",
              "  </tbody>\n",
              "</table>\n",
              "</div>"
            ],
            "text/plain": [
              "                       total_missing  perc_missing\n",
              "date                               0           0.0\n",
              "company_code                       0           0.0\n",
              "is_copied                          0           0.0\n",
              "language                           0           0.0\n",
              "last_published                     0           0.0\n",
              "changes_24h                        0           0.0\n",
              "changes_7d                         0           0.0\n",
              "added_24h                          0           0.0\n",
              "removed_24h                        0           0.0\n",
              "added_7d                           0           0.0\n",
              "removed_7d                         0           0.0\n",
              "contributors_7d                    0           0.0\n",
              "contributors_all_time              0           0.0\n",
              "changes_1y                         0           0.0\n",
              "added_1y                           0           0.0\n",
              "removed_1y                         0           0.0\n",
              "stars                              0           0.0\n",
              "copy                               0           0.0\n",
              "watchers                           0           0.0\n",
              "market_cap_rank                    0           0.0\n",
              "price_share_usd                    0           0.0\n",
              "market_cap_usd                     0           0.0\n",
              "company_code_enc                   0           0.0\n",
              "language_enc                       0           0.0\n",
              "number_of_stocks                   0           0.0"
            ]
          },
          "metadata": {},
          "execution_count": 40
        }
      ]
    },
    {
      "cell_type": "code",
      "metadata": {
        "colab": {
          "base_uri": "https://localhost:8080/"
        },
        "id": "UlPxfPVFoBCw",
        "outputId": "cddfa80e-442a-43f6-f166-8a7dec699c0e"
      },
      "source": [
        "df['language'].value_counts()"
      ],
      "execution_count": null,
      "outputs": [
        {
          "output_type": "execute_result",
          "data": {
            "text/plain": [
              "Unknown       1225\n",
              "C              818\n",
              "Java           554\n",
              "JavaScript     552\n",
              "Python         513\n",
              "CSS            326\n",
              "C++            321\n",
              "Go             301\n",
              "HTML           263\n",
              "Shell          250\n",
              "Erlang         186\n",
              "TypeScript      59\n",
              "Ruby            45\n",
              "PHP             36\n",
              "Elixir          13\n",
              "Vue              5\n",
              "Name: language, dtype: int64"
            ]
          },
          "metadata": {},
          "execution_count": 41
        }
      ]
    },
    {
      "cell_type": "code",
      "metadata": {
        "colab": {
          "base_uri": "https://localhost:8080/",
          "height": 279
        },
        "id": "DlGufG8OoK2g",
        "outputId": "c5fe3ac1-2044-428a-c3d6-15eaef201a0a"
      },
      "source": [
        "sns.countplot(y ='language', data = df,order = df[\"language\"].value_counts().index)\n",
        " \n",
        "# Show the plot\n",
        "plt.show()"
      ],
      "execution_count": null,
      "outputs": [
        {
          "output_type": "display_data",
          "data": {
            "image/png": "[encoded data removed]",
            "text/plain": [
              "<Figure size 432x288 with 1 Axes>"
            ]
          },
          "metadata": {
            "needs_background": "light"
          }
        }
      ]
    },
    {
      "cell_type": "code",
      "metadata": {
        "colab": {
          "base_uri": "https://localhost:8080/",
          "height": 606
        },
        "id": "j4PKi0k7pLvQ",
        "outputId": "91868292-2604-47cc-9e94-d823edb0d45a"
      },
      "source": [
        "fig, ax1 = plt.subplots(figsize=(20,10))\n",
        "sns.countplot(y ='company_code', data = df,order = df[\"company_code\"].value_counts().index)\n",
        " \n",
        "# Show the plot\n",
        "plt.show()"
      ],
      "execution_count": null,
      "outputs": [
        {
          "output_type": "display_data",
          "data": {
            "image/png": "[encoded data removed]",
            "text/plain": [
              "<Figure size 1440x720 with 1 Axes>"
            ]
          },
          "metadata": {
            "needs_background": "light"
          }
        }
      ]
    },
    {
      "cell_type": "code",
      "metadata": {
        "colab": {
          "base_uri": "https://localhost:8080/",
          "height": 700
        },
        "id": "zrmscxj0d2gp",
        "outputId": "a684f231-d0c5-453d-fb05-a41c28514c9a"
      },
      "source": [
        "#Koefisien Korelasinya\n",
        "#df_a = df.drop(columns='price_share_usd')\n",
        "r = pd.DataFrame((abs(df.corr()['price_share_usd']).sort_values(ascending = False)))\n",
        "r"
      ],
      "execution_count": null,
      "outputs": [
        {
          "output_type": "execute_result",
          "data": {
            "text/html": [
              "<div>\n",
              "<style scoped>\n",
              "    .dataframe tbody tr th:only-of-type {\n",
              "        vertical-align: middle;\n",
              "    }\n",
              "\n",
              "    .dataframe tbody tr th {\n",
              "        vertical-align: top;\n",
              "    }\n",
              "\n",
              "    .dataframe thead th {\n",
              "        text-align: right;\n",
              "    }\n",
              "</style>\n",
              "<table border=\"1\" class=\"dataframe\">\n",
              "  <thead>\n",
              "    <tr style=\"text-align: right;\">\n",
              "      <th></th>\n",
              "      <th>price_share_usd</th>\n",
              "    </tr>\n",
              "  </thead>\n",
              "  <tbody>\n",
              "    <tr>\n",
              "      <th>price_share_usd</th>\n",
              "      <td>1.000000</td>\n",
              "    </tr>\n",
              "    <tr>\n",
              "      <th>market_cap_usd</th>\n",
              "      <td>0.926513</td>\n",
              "    </tr>\n",
              "    <tr>\n",
              "      <th>watchers</th>\n",
              "      <td>0.824209</td>\n",
              "    </tr>\n",
              "    <tr>\n",
              "      <th>stars</th>\n",
              "      <td>0.777599</td>\n",
              "    </tr>\n",
              "    <tr>\n",
              "      <th>contributors_all_time</th>\n",
              "      <td>0.509665</td>\n",
              "    </tr>\n",
              "    <tr>\n",
              "      <th>market_cap_rank</th>\n",
              "      <td>0.361818</td>\n",
              "    </tr>\n",
              "    <tr>\n",
              "      <th>company_code_enc</th>\n",
              "      <td>0.261974</td>\n",
              "    </tr>\n",
              "    <tr>\n",
              "      <th>copy</th>\n",
              "      <td>0.195527</td>\n",
              "    </tr>\n",
              "    <tr>\n",
              "      <th>is_copied</th>\n",
              "      <td>0.146448</td>\n",
              "    </tr>\n",
              "    <tr>\n",
              "      <th>number_of_stocks</th>\n",
              "      <td>0.098975</td>\n",
              "    </tr>\n",
              "    <tr>\n",
              "      <th>language_enc</th>\n",
              "      <td>0.040209</td>\n",
              "    </tr>\n",
              "    <tr>\n",
              "      <th>contributors_7d</th>\n",
              "      <td>0.034293</td>\n",
              "    </tr>\n",
              "    <tr>\n",
              "      <th>changes_1y</th>\n",
              "      <td>0.028595</td>\n",
              "    </tr>\n",
              "    <tr>\n",
              "      <th>changes_7d</th>\n",
              "      <td>0.026435</td>\n",
              "    </tr>\n",
              "    <tr>\n",
              "      <th>changes_24h</th>\n",
              "      <td>0.024187</td>\n",
              "    </tr>\n",
              "    <tr>\n",
              "      <th>removed_1y</th>\n",
              "      <td>0.022112</td>\n",
              "    </tr>\n",
              "    <tr>\n",
              "      <th>added_1y</th>\n",
              "      <td>0.022003</td>\n",
              "    </tr>\n",
              "    <tr>\n",
              "      <th>added_7d</th>\n",
              "      <td>0.021338</td>\n",
              "    </tr>\n",
              "    <tr>\n",
              "      <th>removed_7d</th>\n",
              "      <td>0.020787</td>\n",
              "    </tr>\n",
              "    <tr>\n",
              "      <th>removed_24h</th>\n",
              "      <td>0.016168</td>\n",
              "    </tr>\n",
              "    <tr>\n",
              "      <th>added_24h</th>\n",
              "      <td>0.007616</td>\n",
              "    </tr>\n",
              "  </tbody>\n",
              "</table>\n",
              "</div>"
            ],
            "text/plain": [
              "                       price_share_usd\n",
              "price_share_usd               1.000000\n",
              "market_cap_usd                0.926513\n",
              "watchers                      0.824209\n",
              "stars                         0.777599\n",
              "contributors_all_time         0.509665\n",
              "market_cap_rank               0.361818\n",
              "company_code_enc              0.261974\n",
              "copy                          0.195527\n",
              "is_copied                     0.146448\n",
              "number_of_stocks              0.098975\n",
              "language_enc                  0.040209\n",
              "contributors_7d               0.034293\n",
              "changes_1y                    0.028595\n",
              "changes_7d                    0.026435\n",
              "changes_24h                   0.024187\n",
              "removed_1y                    0.022112\n",
              "added_1y                      0.022003\n",
              "added_7d                      0.021338\n",
              "removed_7d                    0.020787\n",
              "removed_24h                   0.016168\n",
              "added_24h                     0.007616"
            ]
          },
          "metadata": {},
          "execution_count": 44
        }
      ]
    },
    {
      "cell_type": "code",
      "metadata": {
        "id": "dE4JeqdghZyy"
      },
      "source": [
        "target = df[\"price_share_usd\"]\n",
        "independent = df[[\"market_cap_usd\",\"watchers\",\"stars\",\"contributors_all_time\",\"market_cap_rank\",\"company_code_enc\",\"copy\"]]"
      ],
      "execution_count": null,
      "outputs": []
    },
    {
      "cell_type": "code",
      "metadata": {
        "colab": {
          "base_uri": "https://localhost:8080/"
        },
        "id": "gSstCAT5hXQr",
        "outputId": "3af8c323-b746-481e-eb4c-5ccdbb2e0aab"
      },
      "source": [
        "#p-value test\n",
        "\n",
        "from sklearn.feature_selection import f_regression\n",
        "anova, p = f_regression(independent, target)\n",
        "frame = (pd.Series(p, index=independent.columns).sort_values(ascending= True))\n",
        "#plt.title('p-value')\n",
        "frame\n"
      ],
      "execution_count": null,
      "outputs": [
        {
          "output_type": "execute_result",
          "data": {
            "text/plain": [
              "market_cap_usd            0.000000e+00\n",
              "watchers                  0.000000e+00\n",
              "stars                     0.000000e+00\n",
              "contributors_all_time     0.000000e+00\n",
              "market_cap_rank          9.230337e-169\n",
              "company_code_enc          1.737628e-86\n",
              "copy                      3.027476e-48\n",
              "dtype: float64"
            ]
          },
          "metadata": {},
          "execution_count": 46
        }
      ]
    },
    {
      "cell_type": "code",
      "metadata": {
        "colab": {
          "base_uri": "https://localhost:8080/",
          "height": 273
        },
        "id": "7KCeO6lpb_XX",
        "outputId": "e032626f-10a4-4fdb-ee16-d91d1d06c3b0"
      },
      "source": [
        "# visualize the relationship between the features and the response using scatterplots\n",
        "p = sns.pairplot(df, x_vars=[\"market_cap_usd\",\"watchers\",\"stars\",\"contributors_all_time\",\"market_cap_rank\",\"company_code\",\"copy\"], y_vars='price_share_usd', height=7, aspect=0.7)"
      ],
      "execution_count": null,
      "outputs": [
        {
          "output_type": "display_data",
          "data": {
            "image/png": "[encoded data removed]",
            "text/plain": [
              "<Figure size 2469.6x504 with 7 Axes>"
            ]
          },
          "metadata": {
            "needs_background": "light"
          }
        }
      ]
    },
    {
      "cell_type": "code",
      "metadata": {
        "colab": {
          "base_uri": "https://localhost:8080/",
          "height": 297
        },
        "id": "fEOVG499U2aM",
        "outputId": "b6d5751f-2833-400e-ecb4-953795e6b172"
      },
      "source": [
        "sns.kdeplot(df.price_share_usd)"
      ],
      "execution_count": null,
      "outputs": [
        {
          "output_type": "execute_result",
          "data": {
            "text/plain": [
              "<matplotlib.axes._subplots.AxesSubplot at 0x7f231a03b750>"
            ]
          },
          "metadata": {},
          "execution_count": 48
        },
        {
          "output_type": "display_data",
          "data": {
            "image/png": "[encoded data removed]",
            "text/plain": [
              "<Figure size 432x288 with 1 Axes>"
            ]
          },
          "metadata": {
            "needs_background": "light"
          }
        }
      ]
    },
    {
      "cell_type": "code",
      "metadata": {
        "colab": {
          "base_uri": "https://localhost:8080/",
          "height": 386
        },
        "id": "NzISVUR6l21u",
        "outputId": "9143dc9a-09c9-4c08-d74f-4b4b13b2f349"
      },
      "source": [
        "sns.displot(df.market_cap_usd)"
      ],
      "execution_count": null,
      "outputs": [
        {
          "output_type": "execute_result",
          "data": {
            "text/plain": [
              "<seaborn.axisgrid.FacetGrid at 0x7f23265f73d0>"
            ]
          },
          "metadata": {},
          "execution_count": 49
        },
        {
          "output_type": "display_data",
          "data": {
            "image/png": "[encoded data removed]",
            "text/plain": [
              "<Figure size 360x360 with 1 Axes>"
            ]
          },
          "metadata": {
            "needs_background": "light"
          }
        }
      ]
    },
    {
      "cell_type": "code",
      "metadata": {
        "id": "LiaBhuvHkn1v",
        "outputId": "2a101196-a021-4740-ec0f-2de524b90157",
        "colab": {
          "base_uri": "https://localhost:8080/",
          "height": 1000
        }
      },
      "source": [
        "from sklearn.model_selection import train_test_split\n",
        "X_train, X_test, y_train, y_test = train_test_split(independent, target,test_size = .2, random_state = 1234)\n",
        "from sklearn.metrics import make_scorer, accuracy_score, precision_score, recall_score, f1_score\n",
        "from sklearn.model_selection import train_test_split, KFold, cross_validate, cross_val_predict\n",
        "import matplotlib.pyplot as plt\n",
        "\n",
        "from xgboost import XGBRegressor\n",
        "from xgboost import XGBRFRegressor\n",
        "from sklearn.model_selection import GridSearchCV\n",
        "\n",
        "from sklearn.metrics import mean_squared_error\n",
        "from sklearn.metrics import mean_absolute_error\n",
        "from sklearn.metrics import r2_score"
      ],
      "execution_count": null,
      "outputs": [
        {
          "output_type": "error",
          "ename": "NameError",
          "evalue": "ignored",
          "traceback": [
            "\u001b[0;31m---------------------------------------------------------------------------\u001b[0m",
            "\u001b[0;31mNameError\u001b[0m                                 Traceback (most recent call last)",
            "\u001b[0;32m<ipython-input-1-f959b8f9ed9b>\u001b[0m in \u001b[0;36m<module>\u001b[0;34m()\u001b[0m\n\u001b[1;32m      1\u001b[0m \u001b[0;32mfrom\u001b[0m \u001b[0msklearn\u001b[0m\u001b[0;34m.\u001b[0m\u001b[0mmodel_selection\u001b[0m \u001b[0;32mimport\u001b[0m \u001b[0mtrain_test_split\u001b[0m\u001b[0;34m\u001b[0m\u001b[0;34m\u001b[0m\u001b[0m\n\u001b[0;32m----> 2\u001b[0;31m \u001b[0mX_train\u001b[0m\u001b[0;34m,\u001b[0m \u001b[0mX_test\u001b[0m\u001b[0;34m,\u001b[0m \u001b[0my_train\u001b[0m\u001b[0;34m,\u001b[0m \u001b[0my_test\u001b[0m \u001b[0;34m=\u001b[0m \u001b[0mtrain_test_split\u001b[0m\u001b[0;34m(\u001b[0m\u001b[0mindependent\u001b[0m\u001b[0;34m,\u001b[0m \u001b[0mtarget\u001b[0m\u001b[0;34m,\u001b[0m\u001b[0mtest_size\u001b[0m \u001b[0;34m=\u001b[0m \u001b[0;36m.2\u001b[0m\u001b[0;34m,\u001b[0m \u001b[0mrandom_state\u001b[0m \u001b[0;34m=\u001b[0m \u001b[0;36m1234\u001b[0m\u001b[0;34m)\u001b[0m\u001b[0;34m\u001b[0m\u001b[0;34m\u001b[0m\u001b[0m\n\u001b[0m\u001b[1;32m      3\u001b[0m \u001b[0;32mfrom\u001b[0m \u001b[0msklearn\u001b[0m\u001b[0;34m.\u001b[0m\u001b[0mmetrics\u001b[0m \u001b[0;32mimport\u001b[0m \u001b[0mmake_scorer\u001b[0m\u001b[0;34m,\u001b[0m \u001b[0maccuracy_score\u001b[0m\u001b[0;34m,\u001b[0m \u001b[0mprecision_score\u001b[0m\u001b[0;34m,\u001b[0m \u001b[0mrecall_score\u001b[0m\u001b[0;34m,\u001b[0m \u001b[0mf1_score\u001b[0m\u001b[0;34m\u001b[0m\u001b[0;34m\u001b[0m\u001b[0m\n\u001b[1;32m      4\u001b[0m \u001b[0;32mfrom\u001b[0m \u001b[0msklearn\u001b[0m\u001b[0;34m.\u001b[0m\u001b[0mmodel_selection\u001b[0m \u001b[0;32mimport\u001b[0m \u001b[0mtrain_test_split\u001b[0m\u001b[0;34m,\u001b[0m \u001b[0mKFold\u001b[0m\u001b[0;34m,\u001b[0m \u001b[0mcross_validate\u001b[0m\u001b[0;34m,\u001b[0m \u001b[0mcross_val_predict\u001b[0m\u001b[0;34m\u001b[0m\u001b[0;34m\u001b[0m\u001b[0m\n\u001b[1;32m      5\u001b[0m \u001b[0;32mimport\u001b[0m \u001b[0mmatplotlib\u001b[0m\u001b[0;34m.\u001b[0m\u001b[0mpyplot\u001b[0m \u001b[0;32mas\u001b[0m \u001b[0mplt\u001b[0m\u001b[0;34m\u001b[0m\u001b[0;34m\u001b[0m\u001b[0m\n",
            "\u001b[0;31mNameError\u001b[0m: name 'independent' is not defined"
          ]
        }
      ]
    },
    {
      "cell_type": "code",
      "metadata": {
        "id": "M8aeYzgDwH42"
      },
      "source": [
        "def hyperParameterTuning(X_train, y_train):\n",
        "    param_tuning = {\n",
        "        'learning_rate': [0.01, 0.1],\n",
        "        'max_depth': [3, 5, 7, 10],\n",
        "        'min_child_weight': [1, 3, 5],\n",
        "        'subsample': [0.5, 0.7],\n",
        "        'colsample_bytree': [0.5, 0.7],\n",
        "        'n_estimators' : [100, 200, 500],\n",
        "        'objective': ['reg:squarederror']\n",
        "    }\n",
        "\n",
        "    xgb_model = XGBRegressor()\n",
        "\n",
        "    gsearch = GridSearchCV(estimator = xgb_model,\n",
        "                           param_grid = param_tuning,                        \n",
        "                           #scoring = 'neg_mean_absolute_error', #MAE\n",
        "                           scoring = 'neg_mean_squared_error',  #MSE\n",
        "                           cv = 5,\n",
        "                           n_jobs = -1,\n",
        "                           verbose = 1)\n",
        "\n",
        "    gsearch.fit(X_train,y_train)\n",
        "\n",
        "    return gsearch.best_params_"
      ],
      "execution_count": null,
      "outputs": []
    },
    {
      "cell_type": "code",
      "metadata": {
        "id": "4gU0mhcOwQlR"
      },
      "source": [
        "#hyperParameterTuning(X_train, y_train)"
      ],
      "execution_count": null,
      "outputs": []
    },
    {
      "cell_type": "code",
      "metadata": {
        "colab": {
          "base_uri": "https://localhost:8080/"
        },
        "id": "VC13AlypzpY0",
        "outputId": "25bc634a-46c3-4159-fc47-07d9f7cd644f"
      },
      "source": [
        "#Tuned Model\n",
        "xgb_model = XGBRegressor(\n",
        "        objective = 'reg:squarederror',\n",
        "        colsample_bytree = 0.7,\n",
        "        learning_rate = 0.1,\n",
        "        max_depth = 7,\n",
        "        min_child_weight = 1,\n",
        "        n_estimators = 500,\n",
        "        subsample = 0.5)\n",
        "\n",
        "%time xgb_model.fit(X_train, y_train, early_stopping_rounds=5, eval_set=[(X_train, y_train)], verbose=False)\n",
        "\n",
        "y_pred_xgb = xgb_model.predict(X_test)\n",
        "\n",
        "\n",
        "\n",
        "rsme_xgb = mean_squared_error(y_test, y_pred_xgb)\n",
        "mae_xgb = mean_absolute_error(y_test, y_pred_xgb)\n",
        "\n",
        "print(\"rsme: \", np.sqrt(rsme_xgb))\n",
        "print(\"mae: \", mae_xgb)"
      ],
      "execution_count": null,
      "outputs": [
        {
          "output_type": "stream",
          "name": "stdout",
          "text": [
            "CPU times: user 2.53 s, sys: 16 ms, total: 2.55 s\n",
            "Wall time: 2.54 s\n",
            "rsme:  26.709546400476857\n",
            "mae:  7.2263088877940636\n"
          ]
        }
      ]
    },
    {
      "cell_type": "code",
      "metadata": {
        "colab": {
          "base_uri": "https://localhost:8080/"
        },
        "id": "Bqk4I2Xz0jiy",
        "outputId": "cc066f6c-2667-4b91-e4a8-8ba19ce7b075"
      },
      "source": [
        "#Cross-Validation\n",
        "scoring = {'MSE' : make_scorer(mean_squared_error),\n",
        "          'MAE' : make_scorer(mean_absolute_error)}\n",
        "kfold = KFold(n_splits=5, random_state=1234, shuffle = True)\n",
        "results_clf = cross_validate(estimator=xgb_model,X=X_train,\n",
        "                                          y=y_train,\n",
        "                                          cv=kfold,\n",
        "                                          scoring=scoring)\n",
        "results_clf"
      ],
      "execution_count": null,
      "outputs": [
        {
          "output_type": "execute_result",
          "data": {
            "text/plain": [
              "{'fit_time': array([1.63845968, 1.47848105, 1.46962476, 1.46846271, 1.48388267]),\n",
              " 'score_time': array([0.0327065 , 0.03335404, 0.03299189, 0.03487945, 0.03395414]),\n",
              " 'test_MAE': array([8.38862648, 7.07666094, 6.9435159 , 8.34802644, 9.08060192]),\n",
              " 'test_MSE': array([1386.65848492,  538.80235284,  683.28360793, 3030.98329463,\n",
              "        1060.92856664])}"
            ]
          },
          "metadata": {},
          "execution_count": 54
        }
      ]
    },
    {
      "cell_type": "code",
      "metadata": {
        "colab": {
          "base_uri": "https://localhost:8080/"
        },
        "id": "s10FKM7r1ONr",
        "outputId": "3a028925-cbd1-41f8-d62e-0966e7f962d7"
      },
      "source": [
        "b_lin = np.sqrt(results_clf.get('test_MSE'))\n",
        "c_lin = (results_clf.get('test_MAE'))\n",
        "print('mean_RMSE : ', \"%.15f\" % (b_lin.mean()))\n",
        "print('mean_MAE : ', \"%.15f\" % (c_lin.mean()))"
      ],
      "execution_count": null,
      "outputs": [
        {
          "output_type": "stream",
          "name": "stdout",
          "text": [
            "mean_RMSE :  34.843187868730332\n",
            "mean_MAE :  7.967486334879721\n"
          ]
        }
      ]
    },
    {
      "cell_type": "code",
      "metadata": {
        "colab": {
          "base_uri": "https://localhost:8080/",
          "height": 404
        },
        "id": "dIADHLAd8_Gp",
        "outputId": "e8573b41-6040-4d5f-d28b-9e84d3afaca7"
      },
      "source": [
        "# parity plot  \n",
        "\n",
        "y_pred_train = xgb_model.predict(X_test)\n",
        "fig, ax1 = plt.subplots(figsize=(8,6))\n",
        "plt.scatter(y_pred_train,y_test,color='blue')\n",
        "plt.title('XGboost Regression Result')\n",
        "plt.xlabel('Predicted Values')\n",
        "plt.ylabel('Actual Values')\n",
        "plt.show()"
      ],
      "execution_count": null,
      "outputs": [
        {
          "output_type": "display_data",
          "data": {
            "image/png": "[encoded data removed]",
            "text/plain": [
              "<Figure size 576x432 with 1 Axes>"
            ]
          },
          "metadata": {
            "needs_background": "light"
          }
        }
      ]
    }
  ]
}